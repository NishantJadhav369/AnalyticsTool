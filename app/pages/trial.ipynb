{
 "cells": [
  {
   "cell_type": "code",
   "execution_count": 1,
   "id": "9e65214e-ef6c-4eaa-bdae-bf42d3c6a54b",
   "metadata": {},
   "outputs": [],
   "source": [
    "# Import necessary libraries\n",
    "import pandas as pd\n",
    "import numpy as np\n",
    "from sklearn.model_selection import train_test_split\n",
    "from sklearn.tree import DecisionTreeRegressor\n",
    "from sklearn.ensemble import RandomForestRegressor, GradientBoostingRegressor\n",
    "import catboost\n",
    "from catboost import CatBoostRegressor\n",
    "from sklearn.metrics import mean_squared_error, mean_absolute_error, r2_score\n",
    "import matplotlib.pyplot as plt\n",
    "from sklearn.linear_model import LinearRegression\n",
    "import seaborn as sns\n",
    "import plotly.express as px\n",
    "import streamlit as st\n",
    "pd.set_option('display.max_columns', None)\n",
    "plt.rcParams[\"figure.figsize\"] = (20,4)\n",
    "%matplotlib inline"
   ]
  },
  {
   "cell_type": "code",
   "execution_count": 2,
   "id": "79affe5f-1673-4b8f-89c9-7d08ae05293d",
   "metadata": {},
   "outputs": [],
   "source": [
    "regression = pd.read_excel('../../data/Shortage_regression.xlsx',dtype={'PHASE':str})\n",
    "claims = pd.read_excel('../../data/Shortage_Graphs.xlsx',dtype={'PHASE':str})"
   ]
  },
  {
   "cell_type": "code",
   "execution_count": 14,
   "id": "1422b555-2ac7-444a-96d9-7cbc7568ae29",
   "metadata": {},
   "outputs": [],
   "source": [
    "date = regression[regression['RELEASE_DATE']!='missing']['RELEASE_DATE'].max()"
   ]
  },
  {
   "cell_type": "code",
   "execution_count": 15,
   "id": "cca312f8-8837-4b6d-8af6-f77591313bfb",
   "metadata": {},
   "outputs": [
    {
     "data": {
      "text/plain": [
       "datetime.datetime"
      ]
     },
     "execution_count": 15,
     "metadata": {},
     "output_type": "execute_result"
    }
   ],
   "source": [
    "type(date)"
   ]
  },
  {
   "cell_type": "code",
   "execution_count": 9,
   "id": "9cc754e0-a0bb-4da8-93a0-665acc92c4c4",
   "metadata": {},
   "outputs": [
    {
     "data": {
      "text/html": [
       "<div>\n",
       "<style scoped>\n",
       "    .dataframe tbody tr th:only-of-type {\n",
       "        vertical-align: middle;\n",
       "    }\n",
       "\n",
       "    .dataframe tbody tr th {\n",
       "        vertical-align: top;\n",
       "    }\n",
       "\n",
       "    .dataframe thead th {\n",
       "        text-align: right;\n",
       "    }\n",
       "</style>\n",
       "<table border=\"1\" class=\"dataframe\">\n",
       "  <thead>\n",
       "    <tr style=\"text-align: right;\">\n",
       "      <th></th>\n",
       "      <th>UID_x</th>\n",
       "      <th>SHORTAGE</th>\n",
       "      <th>ORIGINAL_JOB_NUM</th>\n",
       "      <th>ORIGINAL_MFG_PLANT</th>\n",
       "      <th>PHASE</th>\n",
       "      <th>REASON</th>\n",
       "      <th>CUSTOMER_NAME</th>\n",
       "      <th>COMPANY</th>\n",
       "      <th>BRAND</th>\n",
       "      <th>Major Category</th>\n",
       "      <th>COMPLEXITY</th>\n",
       "      <th>OPL</th>\n",
       "      <th>Minor Category</th>\n",
       "      <th>RELEASE_DATE</th>\n",
       "      <th>GL_PERIOD</th>\n",
       "      <th>SQUAD</th>\n",
       "      <th>TEAM</th>\n",
       "      <th>BSR</th>\n",
       "      <th>SHORTAGE_COST_SPREAD</th>\n",
       "      <th>RELEASE_DATE_MONTH</th>\n",
       "      <th>GL_PERIOD_MONTH</th>\n",
       "      <th>RELEASE_DATE_YEAR</th>\n",
       "      <th>GL_PERIOD_YEAR</th>\n",
       "      <th>logy_target</th>\n",
       "      <th>UID_y</th>\n",
       "      <th>PIECEMARK</th>\n",
       "      <th>SALES_REGION_ID</th>\n",
       "      <th>SALES_DISTRICT_ID</th>\n",
       "      <th>DEPARTMENT_RESPONSIBLE</th>\n",
       "    </tr>\n",
       "  </thead>\n",
       "  <tbody>\n",
       "    <tr>\n",
       "      <th>3056</th>\n",
       "      <td>18S494210101MBCIFairview18P46265</td>\n",
       "      <td>18S49421</td>\n",
       "      <td>18P46265</td>\n",
       "      <td>Fairview</td>\n",
       "      <td>0101</td>\n",
       "      <td>2705 - Incorrect Entry into O.E.</td>\n",
       "      <td>METAL DEPOTS</td>\n",
       "      <td>NCI Building Systems</td>\n",
       "      <td>MBCI</td>\n",
       "      <td>Comm Ops</td>\n",
       "      <td>1</td>\n",
       "      <td>missing</td>\n",
       "      <td>Order Clarity Issues</td>\n",
       "      <td>missing</td>\n",
       "      <td>2022-04-23</td>\n",
       "      <td>missing</td>\n",
       "      <td>missing</td>\n",
       "      <td>ADRIENNE COLE</td>\n",
       "      <td>2303.34</td>\n",
       "      <td>missing</td>\n",
       "      <td>4</td>\n",
       "      <td>missing</td>\n",
       "      <td>2022</td>\n",
       "      <td>7.742159</td>\n",
       "      <td>18S494210101MBCIFairview18P46265</td>\n",
       "      <td>SPEC-1</td>\n",
       "      <td>missing</td>\n",
       "      <td>missing</td>\n",
       "      <td>2705</td>\n",
       "    </tr>\n",
       "    <tr>\n",
       "      <th>3082</th>\n",
       "      <td>19S114460101STARAtwater18P51735</td>\n",
       "      <td>19S11446</td>\n",
       "      <td>18P51735</td>\n",
       "      <td>Atwater</td>\n",
       "      <td>0101</td>\n",
       "      <td>0703 - Purchasing Personnel Error</td>\n",
       "      <td>JEBCO CONSTRUCTION COMPANIES</td>\n",
       "      <td>STAR BUILDING SYSTEMS</td>\n",
       "      <td>STAR</td>\n",
       "      <td>Supply Chain</td>\n",
       "      <td>1</td>\n",
       "      <td>missing</td>\n",
       "      <td>Purchasing</td>\n",
       "      <td>missing</td>\n",
       "      <td>2022-09-23</td>\n",
       "      <td>missing</td>\n",
       "      <td>missing</td>\n",
       "      <td>BRYAN ROBERTS</td>\n",
       "      <td>2289.00</td>\n",
       "      <td>missing</td>\n",
       "      <td>9</td>\n",
       "      <td>missing</td>\n",
       "      <td>2022</td>\n",
       "      <td>7.735914</td>\n",
       "      <td>19S114460101STARAtwater18P51735</td>\n",
       "      <td>SPEC1</td>\n",
       "      <td>S600</td>\n",
       "      <td>S615</td>\n",
       "      <td>703</td>\n",
       "    </tr>\n",
       "    <tr>\n",
       "      <th>3805</th>\n",
       "      <td>19S226330101METALLICElizabethton19P12159</td>\n",
       "      <td>19S22633</td>\n",
       "      <td>19P12159</td>\n",
       "      <td>Elizabethton</td>\n",
       "      <td>0101</td>\n",
       "      <td>0150 - Incorrect Material requested on Parts O...</td>\n",
       "      <td>MIDWEST AGRI-SYSTEMS INC</td>\n",
       "      <td>NCI Building Systems</td>\n",
       "      <td>METALLIC</td>\n",
       "      <td>Sales</td>\n",
       "      <td>1</td>\n",
       "      <td>missing</td>\n",
       "      <td>Outside Sales</td>\n",
       "      <td>missing</td>\n",
       "      <td>2023-01-23</td>\n",
       "      <td>missing</td>\n",
       "      <td>missing</td>\n",
       "      <td>MARK GILES</td>\n",
       "      <td>1872.88</td>\n",
       "      <td>missing</td>\n",
       "      <td>1</td>\n",
       "      <td>missing</td>\n",
       "      <td>2023</td>\n",
       "      <td>7.535286</td>\n",
       "      <td>19S226330101METALLICnan19P12159</td>\n",
       "      <td>SP-10</td>\n",
       "      <td>M300</td>\n",
       "      <td>M308</td>\n",
       "      <td>missing</td>\n",
       "    </tr>\n",
       "    <tr>\n",
       "      <th>5250</th>\n",
       "      <td>18S591720101STARMonticello18P54756</td>\n",
       "      <td>18S59172</td>\n",
       "      <td>18P54756</td>\n",
       "      <td>Monticello</td>\n",
       "      <td>0101</td>\n",
       "      <td>0801 - B &amp; S Hardware Items</td>\n",
       "      <td>JOHN OECHSNER GENERAL CONTRACTOR INC</td>\n",
       "      <td>STAR BUILDING SYSTEMS</td>\n",
       "      <td>STAR</td>\n",
       "      <td>Sales</td>\n",
       "      <td>1</td>\n",
       "      <td>missing</td>\n",
       "      <td>Goodwill</td>\n",
       "      <td>missing</td>\n",
       "      <td>2022-07-23</td>\n",
       "      <td>missing</td>\n",
       "      <td>missing</td>\n",
       "      <td>WESLEY BERRY</td>\n",
       "      <td>1377.00</td>\n",
       "      <td>missing</td>\n",
       "      <td>7</td>\n",
       "      <td>missing</td>\n",
       "      <td>2022</td>\n",
       "      <td>7.227735</td>\n",
       "      <td>18S591720101STARMonticello18P54756</td>\n",
       "      <td>SPE</td>\n",
       "      <td>S300</td>\n",
       "      <td>S311</td>\n",
       "      <td>801</td>\n",
       "    </tr>\n",
       "    <tr>\n",
       "      <th>6605</th>\n",
       "      <td>19S110910101STARMonticello18P54756</td>\n",
       "      <td>19S11091</td>\n",
       "      <td>18P54756</td>\n",
       "      <td>Monticello</td>\n",
       "      <td>0101</td>\n",
       "      <td>1105 - Allowance by Field Service Manager</td>\n",
       "      <td>JOHN OECHSNER GENERAL CONTRACTOR INC</td>\n",
       "      <td>STAR BUILDING SYSTEMS</td>\n",
       "      <td>STAR</td>\n",
       "      <td>Sales</td>\n",
       "      <td>1</td>\n",
       "      <td>missing</td>\n",
       "      <td>Goodwill</td>\n",
       "      <td>missing</td>\n",
       "      <td>2022-08-23</td>\n",
       "      <td>missing</td>\n",
       "      <td>missing</td>\n",
       "      <td>WESLEY BERRY</td>\n",
       "      <td>1106.00</td>\n",
       "      <td>missing</td>\n",
       "      <td>8</td>\n",
       "      <td>missing</td>\n",
       "      <td>2022</td>\n",
       "      <td>7.008596</td>\n",
       "      <td>19S110910101STARMonticello18P54756</td>\n",
       "      <td>SPE</td>\n",
       "      <td>S300</td>\n",
       "      <td>S311</td>\n",
       "      <td>1105</td>\n",
       "    </tr>\n",
       "    <tr>\n",
       "      <th>...</th>\n",
       "      <td>...</td>\n",
       "      <td>...</td>\n",
       "      <td>...</td>\n",
       "      <td>...</td>\n",
       "      <td>...</td>\n",
       "      <td>...</td>\n",
       "      <td>...</td>\n",
       "      <td>...</td>\n",
       "      <td>...</td>\n",
       "      <td>...</td>\n",
       "      <td>...</td>\n",
       "      <td>...</td>\n",
       "      <td>...</td>\n",
       "      <td>...</td>\n",
       "      <td>...</td>\n",
       "      <td>...</td>\n",
       "      <td>...</td>\n",
       "      <td>...</td>\n",
       "      <td>...</td>\n",
       "      <td>...</td>\n",
       "      <td>...</td>\n",
       "      <td>...</td>\n",
       "      <td>...</td>\n",
       "      <td>...</td>\n",
       "      <td>...</td>\n",
       "      <td>...</td>\n",
       "      <td>...</td>\n",
       "      <td>...</td>\n",
       "      <td>...</td>\n",
       "    </tr>\n",
       "    <tr>\n",
       "      <th>39216</th>\n",
       "      <td>19S498790101METALLICAtwater19P37891</td>\n",
       "      <td>19S49879</td>\n",
       "      <td>19P37891</td>\n",
       "      <td>Atwater</td>\n",
       "      <td>0101</td>\n",
       "      <td>0150 - Incorrect Material requested on Parts O...</td>\n",
       "      <td>SLETTEN CONSTRUCTION COMPANY</td>\n",
       "      <td>NCI Building Systems</td>\n",
       "      <td>METALLIC</td>\n",
       "      <td>Sales</td>\n",
       "      <td>1</td>\n",
       "      <td>missing</td>\n",
       "      <td>Outside Sales</td>\n",
       "      <td>missing</td>\n",
       "      <td>2023-10-23</td>\n",
       "      <td>missing</td>\n",
       "      <td>missing</td>\n",
       "      <td>TONYA HOLTE</td>\n",
       "      <td>72.21</td>\n",
       "      <td>missing</td>\n",
       "      <td>10</td>\n",
       "      <td>missing</td>\n",
       "      <td>2023</td>\n",
       "      <td>4.280962</td>\n",
       "      <td>19S498790101METALLICAtwater19P37891</td>\n",
       "      <td>F322-1</td>\n",
       "      <td>M600</td>\n",
       "      <td>M606</td>\n",
       "      <td>missing</td>\n",
       "    </tr>\n",
       "    <tr>\n",
       "      <th>39217</th>\n",
       "      <td>19S498790101METALLICAtwater19P37891</td>\n",
       "      <td>19S49879</td>\n",
       "      <td>19P37891</td>\n",
       "      <td>Atwater</td>\n",
       "      <td>0101</td>\n",
       "      <td>0150 - Incorrect Material requested on Parts O...</td>\n",
       "      <td>SLETTEN CONSTRUCTION COMPANY</td>\n",
       "      <td>NCI Building Systems</td>\n",
       "      <td>METALLIC</td>\n",
       "      <td>Sales</td>\n",
       "      <td>1</td>\n",
       "      <td>missing</td>\n",
       "      <td>Outside Sales</td>\n",
       "      <td>missing</td>\n",
       "      <td>2023-10-23</td>\n",
       "      <td>missing</td>\n",
       "      <td>missing</td>\n",
       "      <td>TONYA HOLTE</td>\n",
       "      <td>72.21</td>\n",
       "      <td>missing</td>\n",
       "      <td>10</td>\n",
       "      <td>missing</td>\n",
       "      <td>2023</td>\n",
       "      <td>4.280962</td>\n",
       "      <td>19S498790101METALLICAtwater19P37891</td>\n",
       "      <td>F797-1</td>\n",
       "      <td>M600</td>\n",
       "      <td>M606</td>\n",
       "      <td>missing</td>\n",
       "    </tr>\n",
       "    <tr>\n",
       "      <th>39218</th>\n",
       "      <td>19S498790101METALLICAtwater19P37891</td>\n",
       "      <td>19S49879</td>\n",
       "      <td>19P37891</td>\n",
       "      <td>Atwater</td>\n",
       "      <td>0101</td>\n",
       "      <td>0150 - Incorrect Material requested on Parts O...</td>\n",
       "      <td>SLETTEN CONSTRUCTION COMPANY</td>\n",
       "      <td>NCI Building Systems</td>\n",
       "      <td>METALLIC</td>\n",
       "      <td>Sales</td>\n",
       "      <td>1</td>\n",
       "      <td>missing</td>\n",
       "      <td>Outside Sales</td>\n",
       "      <td>missing</td>\n",
       "      <td>2023-10-23</td>\n",
       "      <td>missing</td>\n",
       "      <td>missing</td>\n",
       "      <td>TONYA HOLTE</td>\n",
       "      <td>72.21</td>\n",
       "      <td>missing</td>\n",
       "      <td>10</td>\n",
       "      <td>missing</td>\n",
       "      <td>2023</td>\n",
       "      <td>4.280962</td>\n",
       "      <td>19S498790101METALLICAtwater19P37891</td>\n",
       "      <td>#14-1</td>\n",
       "      <td>M600</td>\n",
       "      <td>M606</td>\n",
       "      <td>missing</td>\n",
       "    </tr>\n",
       "    <tr>\n",
       "      <th>40328</th>\n",
       "      <td>19S522590101STARIowa19B49854</td>\n",
       "      <td>19S52259</td>\n",
       "      <td>19B49854</td>\n",
       "      <td>Iowa</td>\n",
       "      <td>0101</td>\n",
       "      <td>0101 - Incorrect Take Off by DM/RM</td>\n",
       "      <td>WANTA &amp; SON INC</td>\n",
       "      <td>STAR BUILDING SYSTEMS</td>\n",
       "      <td>STAR</td>\n",
       "      <td>Sales</td>\n",
       "      <td>1</td>\n",
       "      <td>missing</td>\n",
       "      <td>Outside Sales</td>\n",
       "      <td>missing</td>\n",
       "      <td>2023-11-23</td>\n",
       "      <td>missing</td>\n",
       "      <td>missing</td>\n",
       "      <td>ABIGAIL PELCASTRE</td>\n",
       "      <td>3197.87</td>\n",
       "      <td>missing</td>\n",
       "      <td>11</td>\n",
       "      <td>missing</td>\n",
       "      <td>2023</td>\n",
       "      <td>8.070272</td>\n",
       "      <td>19S522590101STARIowa19B49854</td>\n",
       "      <td>SPEC</td>\n",
       "      <td>S300</td>\n",
       "      <td>S311</td>\n",
       "      <td>101</td>\n",
       "    </tr>\n",
       "    <tr>\n",
       "      <th>40604</th>\n",
       "      <td>19S526880101STARMonticello19P31693</td>\n",
       "      <td>19S52688</td>\n",
       "      <td>19P31693</td>\n",
       "      <td>Monticello</td>\n",
       "      <td>0101</td>\n",
       "      <td>0701 - Vendor at Fault, Buy-out Item (Procurem...</td>\n",
       "      <td>SARGENT CONSTRUCTION CO</td>\n",
       "      <td>STAR BUILDING SYSTEMS</td>\n",
       "      <td>STAR</td>\n",
       "      <td>Supply Chain</td>\n",
       "      <td>1</td>\n",
       "      <td>missing</td>\n",
       "      <td>Vendor</td>\n",
       "      <td>missing</td>\n",
       "      <td>2023-11-23</td>\n",
       "      <td>missing</td>\n",
       "      <td>missing</td>\n",
       "      <td>WESLEY BERRY</td>\n",
       "      <td>800.00</td>\n",
       "      <td>missing</td>\n",
       "      <td>11</td>\n",
       "      <td>missing</td>\n",
       "      <td>2023</td>\n",
       "      <td>6.684737</td>\n",
       "      <td>19S52688nanSTARnan19P31693</td>\n",
       "      <td>SPEC</td>\n",
       "      <td>S300</td>\n",
       "      <td>S312</td>\n",
       "      <td>701</td>\n",
       "    </tr>\n",
       "  </tbody>\n",
       "</table>\n",
       "<p>85 rows × 29 columns</p>\n",
       "</div>"
      ],
      "text/plain": [
       "                                          UID_x  SHORTAGE ORIGINAL_JOB_NUM  \\\n",
       "3056           18S494210101MBCIFairview18P46265  18S49421         18P46265   \n",
       "3082            19S114460101STARAtwater18P51735  19S11446         18P51735   \n",
       "3805   19S226330101METALLICElizabethton19P12159  19S22633         19P12159   \n",
       "5250         18S591720101STARMonticello18P54756  18S59172         18P54756   \n",
       "6605         19S110910101STARMonticello18P54756  19S11091         18P54756   \n",
       "...                                         ...       ...              ...   \n",
       "39216       19S498790101METALLICAtwater19P37891  19S49879         19P37891   \n",
       "39217       19S498790101METALLICAtwater19P37891  19S49879         19P37891   \n",
       "39218       19S498790101METALLICAtwater19P37891  19S49879         19P37891   \n",
       "40328              19S522590101STARIowa19B49854  19S52259         19B49854   \n",
       "40604        19S526880101STARMonticello19P31693  19S52688         19P31693   \n",
       "\n",
       "      ORIGINAL_MFG_PLANT PHASE  \\\n",
       "3056            Fairview  0101   \n",
       "3082             Atwater  0101   \n",
       "3805        Elizabethton  0101   \n",
       "5250          Monticello  0101   \n",
       "6605          Monticello  0101   \n",
       "...                  ...   ...   \n",
       "39216            Atwater  0101   \n",
       "39217            Atwater  0101   \n",
       "39218            Atwater  0101   \n",
       "40328               Iowa  0101   \n",
       "40604         Monticello  0101   \n",
       "\n",
       "                                                  REASON  \\\n",
       "3056                    2705 - Incorrect Entry into O.E.   \n",
       "3082                   0703 - Purchasing Personnel Error   \n",
       "3805   0150 - Incorrect Material requested on Parts O...   \n",
       "5250                         0801 - B & S Hardware Items   \n",
       "6605           1105 - Allowance by Field Service Manager   \n",
       "...                                                  ...   \n",
       "39216  0150 - Incorrect Material requested on Parts O...   \n",
       "39217  0150 - Incorrect Material requested on Parts O...   \n",
       "39218  0150 - Incorrect Material requested on Parts O...   \n",
       "40328                 0101 - Incorrect Take Off by DM/RM   \n",
       "40604  0701 - Vendor at Fault, Buy-out Item (Procurem...   \n",
       "\n",
       "                              CUSTOMER_NAME                COMPANY     BRAND  \\\n",
       "3056                           METAL DEPOTS   NCI Building Systems      MBCI   \n",
       "3082           JEBCO CONSTRUCTION COMPANIES  STAR BUILDING SYSTEMS      STAR   \n",
       "3805               MIDWEST AGRI-SYSTEMS INC   NCI Building Systems  METALLIC   \n",
       "5250   JOHN OECHSNER GENERAL CONTRACTOR INC  STAR BUILDING SYSTEMS      STAR   \n",
       "6605   JOHN OECHSNER GENERAL CONTRACTOR INC  STAR BUILDING SYSTEMS      STAR   \n",
       "...                                     ...                    ...       ...   \n",
       "39216          SLETTEN CONSTRUCTION COMPANY   NCI Building Systems  METALLIC   \n",
       "39217          SLETTEN CONSTRUCTION COMPANY   NCI Building Systems  METALLIC   \n",
       "39218          SLETTEN CONSTRUCTION COMPANY   NCI Building Systems  METALLIC   \n",
       "40328                       WANTA & SON INC  STAR BUILDING SYSTEMS      STAR   \n",
       "40604               SARGENT CONSTRUCTION CO  STAR BUILDING SYSTEMS      STAR   \n",
       "\n",
       "      Major Category COMPLEXITY      OPL        Minor Category RELEASE_DATE  \\\n",
       "3056        Comm Ops          1  missing  Order Clarity Issues      missing   \n",
       "3082    Supply Chain          1  missing            Purchasing      missing   \n",
       "3805           Sales          1  missing         Outside Sales      missing   \n",
       "5250           Sales          1  missing              Goodwill      missing   \n",
       "6605           Sales          1  missing              Goodwill      missing   \n",
       "...              ...        ...      ...                   ...          ...   \n",
       "39216          Sales          1  missing         Outside Sales      missing   \n",
       "39217          Sales          1  missing         Outside Sales      missing   \n",
       "39218          Sales          1  missing         Outside Sales      missing   \n",
       "40328          Sales          1  missing         Outside Sales      missing   \n",
       "40604   Supply Chain          1  missing                Vendor      missing   \n",
       "\n",
       "       GL_PERIOD    SQUAD     TEAM                BSR  SHORTAGE_COST_SPREAD  \\\n",
       "3056  2022-04-23  missing  missing      ADRIENNE COLE               2303.34   \n",
       "3082  2022-09-23  missing  missing      BRYAN ROBERTS               2289.00   \n",
       "3805  2023-01-23  missing  missing         MARK GILES               1872.88   \n",
       "5250  2022-07-23  missing  missing       WESLEY BERRY               1377.00   \n",
       "6605  2022-08-23  missing  missing       WESLEY BERRY               1106.00   \n",
       "...          ...      ...      ...                ...                   ...   \n",
       "39216 2023-10-23  missing  missing        TONYA HOLTE                 72.21   \n",
       "39217 2023-10-23  missing  missing        TONYA HOLTE                 72.21   \n",
       "39218 2023-10-23  missing  missing        TONYA HOLTE                 72.21   \n",
       "40328 2023-11-23  missing  missing  ABIGAIL PELCASTRE               3197.87   \n",
       "40604 2023-11-23  missing  missing       WESLEY BERRY                800.00   \n",
       "\n",
       "      RELEASE_DATE_MONTH  GL_PERIOD_MONTH RELEASE_DATE_YEAR  GL_PERIOD_YEAR  \\\n",
       "3056             missing                4           missing            2022   \n",
       "3082             missing                9           missing            2022   \n",
       "3805             missing                1           missing            2023   \n",
       "5250             missing                7           missing            2022   \n",
       "6605             missing                8           missing            2022   \n",
       "...                  ...              ...               ...             ...   \n",
       "39216            missing               10           missing            2023   \n",
       "39217            missing               10           missing            2023   \n",
       "39218            missing               10           missing            2023   \n",
       "40328            missing               11           missing            2023   \n",
       "40604            missing               11           missing            2023   \n",
       "\n",
       "       logy_target                                UID_y PIECEMARK  \\\n",
       "3056      7.742159     18S494210101MBCIFairview18P46265    SPEC-1   \n",
       "3082      7.735914      19S114460101STARAtwater18P51735     SPEC1   \n",
       "3805      7.535286      19S226330101METALLICnan19P12159     SP-10   \n",
       "5250      7.227735   18S591720101STARMonticello18P54756       SPE   \n",
       "6605      7.008596   19S110910101STARMonticello18P54756       SPE   \n",
       "...            ...                                  ...       ...   \n",
       "39216     4.280962  19S498790101METALLICAtwater19P37891    F322-1   \n",
       "39217     4.280962  19S498790101METALLICAtwater19P37891    F797-1   \n",
       "39218     4.280962  19S498790101METALLICAtwater19P37891     #14-1   \n",
       "40328     8.070272         19S522590101STARIowa19B49854      SPEC   \n",
       "40604     6.684737           19S52688nanSTARnan19P31693      SPEC   \n",
       "\n",
       "      SALES_REGION_ID SALES_DISTRICT_ID DEPARTMENT_RESPONSIBLE  \n",
       "3056          missing           missing                   2705  \n",
       "3082             S600              S615                    703  \n",
       "3805             M300              M308                missing  \n",
       "5250             S300              S311                    801  \n",
       "6605             S300              S311                   1105  \n",
       "...               ...               ...                    ...  \n",
       "39216            M600              M606                missing  \n",
       "39217            M600              M606                missing  \n",
       "39218            M600              M606                missing  \n",
       "40328            S300              S311                    101  \n",
       "40604            S300              S312                    701  \n",
       "\n",
       "[85 rows x 29 columns]"
      ]
     },
     "execution_count": 9,
     "metadata": {},
     "output_type": "execute_result"
    }
   ],
   "source": [
    "regression[regression['RELEASE_DATE']=='missing']"
   ]
  },
  {
   "cell_type": "code",
   "execution_count": 6,
   "id": "6306f2ac-1b7f-48c7-b38d-43da6914c363",
   "metadata": {},
   "outputs": [
    {
     "data": {
      "text/plain": [
       "datetime.datetime(2022, 2, 22, 0, 0)"
      ]
     },
     "execution_count": 6,
     "metadata": {},
     "output_type": "execute_result"
    }
   ],
   "source": [
    "regression['RELEASE_DATE'].values[0]"
   ]
  },
  {
   "cell_type": "code",
   "execution_count": 3,
   "id": "9ea0db03-c640-48ac-a2bd-553a74314078",
   "metadata": {},
   "outputs": [],
   "source": [
    "ship = pd.read_excel('../../data/ship_piecemark_region_district.xlsx')"
   ]
  },
  {
   "cell_type": "code",
   "execution_count": 4,
   "id": "8d883fa4-b8fa-42f1-a8f6-4b83ba5c9404",
   "metadata": {},
   "outputs": [
    {
     "data": {
      "text/plain": [
       "(26541, 7)"
      ]
     },
     "execution_count": 4,
     "metadata": {},
     "output_type": "execute_result"
    }
   ],
   "source": [
    "ship.shape"
   ]
  },
  {
   "cell_type": "code",
   "execution_count": 45,
   "id": "2da3905a-f994-401a-ba73-8180fd8fef01",
   "metadata": {},
   "outputs": [
    {
     "name": "stdout",
     "output_type": "stream",
     "text": [
      "(31474, 28)\n"
     ]
    },
    {
     "data": {
      "text/html": [
       "<div>\n",
       "<style scoped>\n",
       "    .dataframe tbody tr th:only-of-type {\n",
       "        vertical-align: middle;\n",
       "    }\n",
       "\n",
       "    .dataframe tbody tr th {\n",
       "        vertical-align: top;\n",
       "    }\n",
       "\n",
       "    .dataframe thead th {\n",
       "        text-align: right;\n",
       "    }\n",
       "</style>\n",
       "<table border=\"1\" class=\"dataframe\">\n",
       "  <thead>\n",
       "    <tr style=\"text-align: right;\">\n",
       "      <th></th>\n",
       "      <th>UID</th>\n",
       "      <th>SHORTAGE</th>\n",
       "      <th>ORIGINAL_JOB_NUM</th>\n",
       "      <th>ORIGINAL_MFG_PLANT</th>\n",
       "      <th>PHASE</th>\n",
       "      <th>REASON</th>\n",
       "      <th>CUSTOMER_NAME</th>\n",
       "      <th>COMPANY</th>\n",
       "      <th>BRAND</th>\n",
       "      <th>Major Category</th>\n",
       "      <th>COMPLEXITY</th>\n",
       "      <th>OPL</th>\n",
       "      <th>Minor Category</th>\n",
       "      <th>RELEASE_DATE</th>\n",
       "      <th>GL_PERIOD</th>\n",
       "      <th>SQUAD</th>\n",
       "      <th>TEAM</th>\n",
       "      <th>BSR</th>\n",
       "      <th>SHORTAGE_COST_SPREAD</th>\n",
       "      <th>RELEASE_DATE_MONTH</th>\n",
       "      <th>GL_PERIOD_MONTH</th>\n",
       "      <th>RELEASE_DATE_YEAR</th>\n",
       "      <th>GL_PERIOD_YEAR</th>\n",
       "      <th>logy_target</th>\n",
       "      <th>PIECEMARK</th>\n",
       "      <th>SALES_REGION_ID</th>\n",
       "      <th>SALES_DISTRICT_ID</th>\n",
       "      <th>DEPARTMENT_RESPONSIBLE</th>\n",
       "    </tr>\n",
       "  </thead>\n",
       "  <tbody>\n",
       "    <tr>\n",
       "      <th>0</th>\n",
       "      <td>18S559050101CECOElizabethton17B89685</td>\n",
       "      <td>18S55905</td>\n",
       "      <td>17B89685</td>\n",
       "      <td>Elizabethton</td>\n",
       "      <td>0101</td>\n",
       "      <td>0415 - Error due to Engineering Scheduling</td>\n",
       "      <td>BORRELLI METAL BUILDINGS</td>\n",
       "      <td>CECO BUILDING SYSTEMS</td>\n",
       "      <td>CECO</td>\n",
       "      <td>Comm Ops</td>\n",
       "      <td>8</td>\n",
       "      <td>PENNAR</td>\n",
       "      <td>Eng. Scheduling</td>\n",
       "      <td>2022-02-22 00:00:00</td>\n",
       "      <td>2022-08-23</td>\n",
       "      <td>PENNAR</td>\n",
       "      <td>PENNAR</td>\n",
       "      <td>CARRIE SCHAFER</td>\n",
       "      <td>760.0</td>\n",
       "      <td>2</td>\n",
       "      <td>8</td>\n",
       "      <td>2022</td>\n",
       "      <td>2022</td>\n",
       "      <td>6.63345</td>\n",
       "      <td>1 LOT-0100</td>\n",
       "      <td>C100</td>\n",
       "      <td>C103</td>\n",
       "      <td>415</td>\n",
       "    </tr>\n",
       "  </tbody>\n",
       "</table>\n",
       "</div>"
      ],
      "text/plain": [
       "                                    UID  SHORTAGE ORIGINAL_JOB_NUM  \\\n",
       "0  18S559050101CECOElizabethton17B89685  18S55905         17B89685   \n",
       "\n",
       "  ORIGINAL_MFG_PLANT PHASE                                      REASON  \\\n",
       "0       Elizabethton  0101  0415 - Error due to Engineering Scheduling   \n",
       "\n",
       "              CUSTOMER_NAME                COMPANY BRAND Major Category  \\\n",
       "0  BORRELLI METAL BUILDINGS  CECO BUILDING SYSTEMS  CECO       Comm Ops   \n",
       "\n",
       "  COMPLEXITY     OPL   Minor Category         RELEASE_DATE  GL_PERIOD   SQUAD  \\\n",
       "0          8  PENNAR  Eng. Scheduling  2022-02-22 00:00:00 2022-08-23  PENNAR   \n",
       "\n",
       "     TEAM             BSR  SHORTAGE_COST_SPREAD RELEASE_DATE_MONTH  \\\n",
       "0  PENNAR  CARRIE SCHAFER                 760.0                  2   \n",
       "\n",
       "   GL_PERIOD_MONTH RELEASE_DATE_YEAR  GL_PERIOD_YEAR  logy_target   PIECEMARK  \\\n",
       "0                8              2022            2022      6.63345  1 LOT-0100   \n",
       "\n",
       "  SALES_REGION_ID SALES_DISTRICT_ID DEPARTMENT_RESPONSIBLE  \n",
       "0            C100              C103                    415  "
      ]
     },
     "execution_count": 45,
     "metadata": {},
     "output_type": "execute_result"
    }
   ],
   "source": [
    "print(regression.shape)\n",
    "regression.head(1)"
   ]
  },
  {
   "cell_type": "code",
   "execution_count": 44,
   "id": "8ca468e8-e20f-490c-92e4-f9ac6a5fbda4",
   "metadata": {},
   "outputs": [
    {
     "name": "stdout",
     "output_type": "stream",
     "text": [
      "(15929, 47)\n"
     ]
    },
    {
     "data": {
      "text/html": [
       "<div>\n",
       "<style scoped>\n",
       "    .dataframe tbody tr th:only-of-type {\n",
       "        vertical-align: middle;\n",
       "    }\n",
       "\n",
       "    .dataframe tbody tr th {\n",
       "        vertical-align: top;\n",
       "    }\n",
       "\n",
       "    .dataframe thead th {\n",
       "        text-align: right;\n",
       "    }\n",
       "</style>\n",
       "<table border=\"1\" class=\"dataframe\">\n",
       "  <thead>\n",
       "    <tr style=\"text-align: right;\">\n",
       "      <th></th>\n",
       "      <th>UID</th>\n",
       "      <th>SHORTAGE</th>\n",
       "      <th>ORIGINAL_JOB_NUM</th>\n",
       "      <th>PHASE</th>\n",
       "      <th>BRAND</th>\n",
       "      <th>ORIGINAL_MFG_PLANT</th>\n",
       "      <th>CUSTOMER</th>\n",
       "      <th>CUSTOMER_NAME</th>\n",
       "      <th>COMPANY</th>\n",
       "      <th>REASON</th>\n",
       "      <th>SQUAD</th>\n",
       "      <th>SQUAD2</th>\n",
       "      <th>TEAM</th>\n",
       "      <th>TEAM2</th>\n",
       "      <th>TEAM3</th>\n",
       "      <th>CHECKER</th>\n",
       "      <th>CHECKER2</th>\n",
       "      <th>DETAILER</th>\n",
       "      <th>DETAILER2</th>\n",
       "      <th>Major Category</th>\n",
       "      <th>Major Category2</th>\n",
       "      <th>Minor Category</th>\n",
       "      <th>Minor Category2</th>\n",
       "      <th>NOTES</th>\n",
       "      <th>OPL</th>\n",
       "      <th>Selling Brand</th>\n",
       "      <th>BSR</th>\n",
       "      <th>INVESTIGATION_RESULT</th>\n",
       "      <th>HOW_ERROR_OCCURRED</th>\n",
       "      <th>PREVENTATIVE_ACTIONS</th>\n",
       "      <th>RESPONSE_BY</th>\n",
       "      <th>RELEASE_DATE</th>\n",
       "      <th>ORIGINAL_JOB_SHIP</th>\n",
       "      <th>GL_PERIOD</th>\n",
       "      <th>SHORTAGE_COST_SPREAD</th>\n",
       "      <th>SHORTAGE_PERIOD_COST</th>\n",
       "      <th>FREIGHT</th>\n",
       "      <th>MATERIAL</th>\n",
       "      <th>OVERHEAD</th>\n",
       "      <th>LABOR</th>\n",
       "      <th>ORIGINAL_JOB_AMOUNT</th>\n",
       "      <th>AUTHORIZED_BY</th>\n",
       "      <th>COMPLEXITY</th>\n",
       "      <th>RELEASE_DATE_MONTH</th>\n",
       "      <th>GL_PERIOD_MONTH</th>\n",
       "      <th>RELEASE_DATE_YEAR</th>\n",
       "      <th>GL_PERIOD_YEAR</th>\n",
       "    </tr>\n",
       "  </thead>\n",
       "  <tbody>\n",
       "    <tr>\n",
       "      <th>0</th>\n",
       "      <td>18S500110101STARElizabethton18B25260</td>\n",
       "      <td>18S50011</td>\n",
       "      <td>18B25260</td>\n",
       "      <td>0101</td>\n",
       "      <td>STAR</td>\n",
       "      <td>Elizabethton</td>\n",
       "      <td>R YODER CONSTRUCTION INC  :254906</td>\n",
       "      <td>R YODER CONSTRUCTION INC</td>\n",
       "      <td>STAR BUILDING SYSTEMS</td>\n",
       "      <td>2702 - Incorrect Order Write Up - Non Standard...</td>\n",
       "      <td>SRG</td>\n",
       "      <td>NaN</td>\n",
       "      <td>SRG</td>\n",
       "      <td>NaN</td>\n",
       "      <td>NaN</td>\n",
       "      <td>SCOTT KITCHEN</td>\n",
       "      <td>NaN</td>\n",
       "      <td>SCOTT KITCHEN</td>\n",
       "      <td>NaN</td>\n",
       "      <td>Comm Ops</td>\n",
       "      <td>NaN</td>\n",
       "      <td>Order Clarity Issues</td>\n",
       "      <td>NaN</td>\n",
       "      <td>BUILDER REPORTED THAT FRAMES WERE NOT DESIGN F...</td>\n",
       "      <td>NA Contractor</td>\n",
       "      <td>STAR</td>\n",
       "      <td>WARREN NORMAN</td>\n",
       "      <td>NaN</td>\n",
       "      <td>NaN</td>\n",
       "      <td>NaN</td>\n",
       "      <td>NaN</td>\n",
       "      <td>2021-11-10</td>\n",
       "      <td>2021-12-11</td>\n",
       "      <td>2022-05-23</td>\n",
       "      <td>93990.68</td>\n",
       "      <td>93990.68</td>\n",
       "      <td>0.0</td>\n",
       "      <td>60663.36</td>\n",
       "      <td>20202.54</td>\n",
       "      <td>13124.78</td>\n",
       "      <td>1952790.63</td>\n",
       "      <td>TERRY STANDIFER</td>\n",
       "      <td>8.0</td>\n",
       "      <td>11.0</td>\n",
       "      <td>5.0</td>\n",
       "      <td>2021.0</td>\n",
       "      <td>2022.0</td>\n",
       "    </tr>\n",
       "  </tbody>\n",
       "</table>\n",
       "</div>"
      ],
      "text/plain": [
       "                                    UID  SHORTAGE ORIGINAL_JOB_NUM PHASE  \\\n",
       "0  18S500110101STARElizabethton18B25260  18S50011         18B25260  0101   \n",
       "\n",
       "  BRAND ORIGINAL_MFG_PLANT                           CUSTOMER  \\\n",
       "0  STAR       Elizabethton  R YODER CONSTRUCTION INC  :254906   \n",
       "\n",
       "              CUSTOMER_NAME                COMPANY  \\\n",
       "0  R YODER CONSTRUCTION INC  STAR BUILDING SYSTEMS   \n",
       "\n",
       "                                              REASON SQUAD SQUAD2 TEAM TEAM2  \\\n",
       "0  2702 - Incorrect Order Write Up - Non Standard...   SRG    NaN  SRG   NaN   \n",
       "\n",
       "  TEAM3        CHECKER CHECKER2       DETAILER DETAILER2 Major Category  \\\n",
       "0   NaN  SCOTT KITCHEN      NaN  SCOTT KITCHEN       NaN       Comm Ops   \n",
       "\n",
       "  Major Category2        Minor Category Minor Category2  \\\n",
       "0             NaN  Order Clarity Issues             NaN   \n",
       "\n",
       "                                               NOTES            OPL  \\\n",
       "0  BUILDER REPORTED THAT FRAMES WERE NOT DESIGN F...  NA Contractor   \n",
       "\n",
       "  Selling Brand            BSR INVESTIGATION_RESULT HOW_ERROR_OCCURRED  \\\n",
       "0          STAR  WARREN NORMAN                  NaN                NaN   \n",
       "\n",
       "  PREVENTATIVE_ACTIONS RESPONSE_BY RELEASE_DATE ORIGINAL_JOB_SHIP  GL_PERIOD  \\\n",
       "0                  NaN         NaN   2021-11-10        2021-12-11 2022-05-23   \n",
       "\n",
       "   SHORTAGE_COST_SPREAD  SHORTAGE_PERIOD_COST  FREIGHT  MATERIAL  OVERHEAD  \\\n",
       "0              93990.68              93990.68      0.0  60663.36  20202.54   \n",
       "\n",
       "      LABOR  ORIGINAL_JOB_AMOUNT    AUTHORIZED_BY  COMPLEXITY  \\\n",
       "0  13124.78           1952790.63  TERRY STANDIFER         8.0   \n",
       "\n",
       "   RELEASE_DATE_MONTH  GL_PERIOD_MONTH  RELEASE_DATE_YEAR  GL_PERIOD_YEAR  \n",
       "0                11.0              5.0             2021.0          2022.0  "
      ]
     },
     "execution_count": 44,
     "metadata": {},
     "output_type": "execute_result"
    }
   ],
   "source": [
    "print(claims.shape)\n",
    "claims.head(1)"
   ]
  },
  {
   "cell_type": "code",
   "execution_count": 9,
   "id": "e198f42a-e51b-433f-a741-d2e57cfc022e",
   "metadata": {},
   "outputs": [],
   "source": [
    "eda_slice = claims.copy()"
   ]
  },
  {
   "cell_type": "code",
   "execution_count": 60,
   "id": "7c435ce3-a173-4cd0-94ad-ee176c8fc011",
   "metadata": {},
   "outputs": [],
   "source": [
    "def run_iteration(eda_slice, reg_slice, filter_dim, filter_val, group_level):\n",
    "    \n",
    "    if filter_dim or filter_val:\n",
    "        eda_slice = eda_slice[eda_slice[filter_dim] == filter_val] # EDA slice 1\n",
    "\n",
    "    cat_spread = eda_slice.drop_duplicates([group_level,'SHORTAGE','SHORTAGE_COST_SPREAD']) \n",
    "    cat_spread =  cat_spread.groupby(group_level)['SHORTAGE_COST_SPREAD'].sum().sort_values(ascending=False).reset_index() # group by\n",
    "    cat_spread['Cost Spread %'] = cat_spread['SHORTAGE_COST_SPREAD']/cat_spread['SHORTAGE_COST_SPREAD'].sum()*100\n",
    "    cat_spread = cat_spread[cat_spread[group_level]!='missing']\n",
    "    cat_spread[group_level] = cat_spread[group_level].astype(str)\n",
    "    cat_spread['Cost Spread %'] = cat_spread['Cost Spread %'].round()\n",
    "    cat_spread = cat_spread.iloc[:5]\n",
    "    fig1 = px.bar(cat_spread,group_level,'Cost Spread %',color='Cost Spread %')\n",
    "\n",
    "    options = ['Unselected'] + cat_spread[group_level].unique().tolist()\n",
    "    value = st.radio( \"Choose Value\", options) \n",
    "\n",
    "    if value != 'Unselected':\n",
    "        # Reg 2\n",
    "\n",
    "        # st.markdown(f\"### Regression analysis for {value}\")\n",
    "\n",
    "        target = 'logy_target'\n",
    "        columns1 = ['COMPANY','PHASE','BRAND','Major Category','COMPLEXITY','OPL','ORIGINAL_MFG_PLANT', target]\n",
    "        columns2 = ['Minor Category','GL_PERIOD_MONTH','RELEASE_DATE_MONTH', 'SALES_REGION_ID','SQUAD','TEAM','REASON','BSR'] #,'CHECKER','DETAILER'\n",
    "        columns3 = ['SALES_DISTRICT_ID', 'PIECEMARK','CUSTOMER_NAME']\n",
    "        columns = columns1 + columns2\n",
    "\n",
    "\n",
    "        reg_slice =  reg_slice[(reg_slice[group_level]==value)] # Reg Slice 2\n",
    "        X = reg_slice[columns]\n",
    "        X = X.dropna(subset=[target])\n",
    "        X = X.drop_duplicates()\n",
    "        X =pd.get_dummies(X)\n",
    "        y = X[target]\n",
    "        X = X.drop(target, axis=1)\n",
    "\n",
    "        # Split the dataset into training and testing sets\n",
    "        X_train, X_test, y_train, y_test = train_test_split(X, y, test_size=0.2, random_state=42)\n",
    "\n",
    "\n",
    "        model = RandomForestRegressor(max_depth=None,)\n",
    "        model.fit(X_train, y_train)\n",
    "\n",
    "        feature_importances = model.feature_importances_\n",
    "        importance_df = pd.DataFrame({'Feature': X.columns, 'Importance': feature_importances})\n",
    "        importance_df['Column'] = importance_df['Feature'].str.split(\"_\").apply(lambda x: '_'.join(x[:-1]) if len(x)>1 else x[0] )\n",
    "        importance_df['Value'] = importance_df['Feature'].str.split(\"_\").apply(lambda x: x[-1] if len(x) > 1 else 'none')\n",
    "        feature_importance_df = importance_df.groupby('Column')['Importance'].sum().sort_values(ascending=False).reset_index()\n",
    "        feature_importance_df = feature_importance_df.sort_values(by='Importance', ascending=False)\n",
    "        feature_importance_df['Importance'] = feature_importance_df['Importance'].apply(lambda x: \"{:f}\".format(x))\n",
    "        feature_importance_df['Importance'] = feature_importance_df['Importance'].apply(lambda x: float(x))\n",
    "        top_features = feature_importance_df.head(5)\n",
    "\n",
    "\n",
    "        fig2 = px.bar(top_features,'Importance','Column',orientation='h')\n",
    "        # st.write(fig1)\n",
    "\n",
    "        filter_dim = group_level\n",
    "        filter_val = value\n",
    "        group_level = st.radio( \"Choose Dimension\",  ['Unselected'] + top_features['Column'].unique().tolist()) \n",
    "        print(group_level)\n",
    "        level+=1\n",
    "        print('Level update to ',level)\n",
    "        \n",
    "    return (fig1,fig2)"
   ]
  },
  {
   "cell_type": "code",
   "execution_count": 61,
   "id": "87acdda1-1cfb-4960-817a-d45f8bf0195e",
   "metadata": {},
   "outputs": [
    {
     "ename": "UnboundLocalError",
     "evalue": "cannot access local variable 'fig2' where it is not associated with a value",
     "output_type": "error",
     "traceback": [
      "\u001b[1;31m---------------------------------------------------------------------------\u001b[0m",
      "\u001b[1;31mUnboundLocalError\u001b[0m                         Traceback (most recent call last)",
      "Cell \u001b[1;32mIn[61], line 1\u001b[0m\n\u001b[1;32m----> 1\u001b[0m graph1,graph2 \u001b[38;5;241m=\u001b[39m run_iteration(eda_slice,regression,\u001b[38;5;28;01mNone\u001b[39;00m,\u001b[38;5;28;01mNone\u001b[39;00m,\u001b[38;5;124m'\u001b[39m\u001b[38;5;124mMajor Category\u001b[39m\u001b[38;5;124m'\u001b[39m)\n",
      "Cell \u001b[1;32mIn[60], line 66\u001b[0m, in \u001b[0;36mrun_iteration\u001b[1;34m(eda_slice, reg_slice, filter_dim, filter_val, group_level)\u001b[0m\n\u001b[0;32m     63\u001b[0m     level\u001b[38;5;241m+\u001b[39m\u001b[38;5;241m=\u001b[39m\u001b[38;5;241m1\u001b[39m\n\u001b[0;32m     64\u001b[0m     \u001b[38;5;28mprint\u001b[39m(\u001b[38;5;124m'\u001b[39m\u001b[38;5;124mLevel update to \u001b[39m\u001b[38;5;124m'\u001b[39m,level)\n\u001b[1;32m---> 66\u001b[0m \u001b[38;5;28;01mreturn\u001b[39;00m (fig1,fig2)\n",
      "\u001b[1;31mUnboundLocalError\u001b[0m: cannot access local variable 'fig2' where it is not associated with a value"
     ]
    }
   ],
   "source": [
    "graph1,graph2 = run_iteration(eda_slice,regression,None,None,'Major Category')"
   ]
  },
  {
   "cell_type": "code",
   "execution_count": 58,
   "id": "9f68f358-536a-4548-907e-3d4215fc0034",
   "metadata": {},
   "outputs": [
    {
     "data": {
      "application/vnd.plotly.v1+json": {
       "config": {
        "plotlyServerURL": "https://plot.ly"
       },
       "data": [
        {
         "alignmentgroup": "True",
         "hovertemplate": "Major Category=%{x}<br>Cost Spread %=%{marker.color}<extra></extra>",
         "legendgroup": "",
         "marker": {
          "color": [
           32,
           21,
           15,
           15,
           11
          ],
          "coloraxis": "coloraxis",
          "pattern": {
           "shape": ""
          }
         },
         "name": "",
         "offsetgroup": "",
         "orientation": "v",
         "showlegend": false,
         "textposition": "auto",
         "type": "bar",
         "x": [
          "Sales",
          "Supply Chain",
          "Manufacturing",
          "Comm Ops",
          "Sales Ops"
         ],
         "xaxis": "x",
         "y": [
          32,
          21,
          15,
          15,
          11
         ],
         "yaxis": "y"
        }
       ],
       "layout": {
        "autosize": true,
        "barmode": "relative",
        "coloraxis": {
         "colorbar": {
          "title": {
           "text": "Cost Spread %"
          }
         },
         "colorscale": [
          [
           0,
           "#000011"
          ],
          [
           0.1111111111111111,
           "#000012"
          ],
          [
           0.2222222222222222,
           "#000013"
          ],
          [
           0.3333333333333333,
           "#000014"
          ],
          [
           0.4444444444444444,
           "#000015"
          ],
          [
           0.5555555555555556,
           "#000016"
          ],
          [
           0.6666666666666666,
           "#000017"
          ],
          [
           0.7777777777777778,
           "#000018"
          ],
          [
           0.8888888888888888,
           "#000019"
          ],
          [
           1,
           "#000020"
          ]
         ]
        },
        "legend": {
         "tracegroupgap": 0
        },
        "margin": {
         "t": 60
        },
        "template": {
         "data": {
          "candlestick": [
           {
            "decreasing": {
             "line": {
              "color": "#000033"
             }
            },
            "increasing": {
             "line": {
              "color": "#000032"
             }
            },
            "type": "candlestick"
           }
          ],
          "contour": [
           {
            "colorscale": [
             [
              0,
              "#000011"
             ],
             [
              0.1111111111111111,
              "#000012"
             ],
             [
              0.2222222222222222,
              "#000013"
             ],
             [
              0.3333333333333333,
              "#000014"
             ],
             [
              0.4444444444444444,
              "#000015"
             ],
             [
              0.5555555555555556,
              "#000016"
             ],
             [
              0.6666666666666666,
              "#000017"
             ],
             [
              0.7777777777777778,
              "#000018"
             ],
             [
              0.8888888888888888,
              "#000019"
             ],
             [
              1,
              "#000020"
             ]
            ],
            "type": "contour"
           }
          ],
          "contourcarpet": [
           {
            "colorscale": [
             [
              0,
              "#000011"
             ],
             [
              0.1111111111111111,
              "#000012"
             ],
             [
              0.2222222222222222,
              "#000013"
             ],
             [
              0.3333333333333333,
              "#000014"
             ],
             [
              0.4444444444444444,
              "#000015"
             ],
             [
              0.5555555555555556,
              "#000016"
             ],
             [
              0.6666666666666666,
              "#000017"
             ],
             [
              0.7777777777777778,
              "#000018"
             ],
             [
              0.8888888888888888,
              "#000019"
             ],
             [
              1,
              "#000020"
             ]
            ],
            "type": "contourcarpet"
           }
          ],
          "heatmap": [
           {
            "colorscale": [
             [
              0,
              "#000011"
             ],
             [
              0.1111111111111111,
              "#000012"
             ],
             [
              0.2222222222222222,
              "#000013"
             ],
             [
              0.3333333333333333,
              "#000014"
             ],
             [
              0.4444444444444444,
              "#000015"
             ],
             [
              0.5555555555555556,
              "#000016"
             ],
             [
              0.6666666666666666,
              "#000017"
             ],
             [
              0.7777777777777778,
              "#000018"
             ],
             [
              0.8888888888888888,
              "#000019"
             ],
             [
              1,
              "#000020"
             ]
            ],
            "type": "heatmap"
           }
          ],
          "histogram2d": [
           {
            "colorscale": [
             [
              0,
              "#000011"
             ],
             [
              0.1111111111111111,
              "#000012"
             ],
             [
              0.2222222222222222,
              "#000013"
             ],
             [
              0.3333333333333333,
              "#000014"
             ],
             [
              0.4444444444444444,
              "#000015"
             ],
             [
              0.5555555555555556,
              "#000016"
             ],
             [
              0.6666666666666666,
              "#000017"
             ],
             [
              0.7777777777777778,
              "#000018"
             ],
             [
              0.8888888888888888,
              "#000019"
             ],
             [
              1,
              "#000020"
             ]
            ],
            "type": "histogram2d"
           }
          ],
          "icicle": [
           {
            "textfont": {
             "color": "white"
            },
            "type": "icicle"
           }
          ],
          "sankey": [
           {
            "textfont": {
             "color": "#000036"
            },
            "type": "sankey"
           }
          ],
          "scatter": [
           {
            "marker": {
             "line": {
              "width": 0
             }
            },
            "type": "scatter"
           }
          ],
          "table": [
           {
            "cells": {
             "fill": {
              "color": "#000038"
             },
             "font": {
              "color": "#000037"
             },
             "line": {
              "color": "#000039"
             }
            },
            "header": {
             "fill": {
              "color": "#000040"
             },
             "font": {
              "color": "#000036"
             },
             "line": {
              "color": "#000039"
             }
            },
            "type": "table"
           }
          ],
          "waterfall": [
           {
            "connector": {
             "line": {
              "color": "#000036",
              "width": 2
             }
            },
            "decreasing": {
             "marker": {
              "color": "#000033"
             }
            },
            "increasing": {
             "marker": {
              "color": "#000032"
             }
            },
            "totals": {
             "marker": {
              "color": "#000034"
             }
            },
            "type": "waterfall"
           }
          ]
         },
         "layout": {
          "coloraxis": {
           "colorscale": [
            [
             0,
             "#000011"
            ],
            [
             0.1111111111111111,
             "#000012"
            ],
            [
             0.2222222222222222,
             "#000013"
            ],
            [
             0.3333333333333333,
             "#000014"
            ],
            [
             0.4444444444444444,
             "#000015"
            ],
            [
             0.5555555555555556,
             "#000016"
            ],
            [
             0.6666666666666666,
             "#000017"
            ],
            [
             0.7777777777777778,
             "#000018"
            ],
            [
             0.8888888888888888,
             "#000019"
            ],
            [
             1,
             "#000020"
            ]
           ]
          },
          "colorscale": {
           "diverging": [
            [
             0,
             "#000021"
            ],
            [
             0.1,
             "#000022"
            ],
            [
             0.2,
             "#000023"
            ],
            [
             0.3,
             "#000024"
            ],
            [
             0.4,
             "#000025"
            ],
            [
             0.5,
             "#000026"
            ],
            [
             0.6,
             "#000027"
            ],
            [
             0.7,
             "#000028"
            ],
            [
             0.8,
             "#000029"
            ],
            [
             0.9,
             "#000030"
            ],
            [
             1,
             "#000031"
            ]
           ],
           "sequential": [
            [
             0,
             "#000011"
            ],
            [
             0.1111111111111111,
             "#000012"
            ],
            [
             0.2222222222222222,
             "#000013"
            ],
            [
             0.3333333333333333,
             "#000014"
            ],
            [
             0.4444444444444444,
             "#000015"
            ],
            [
             0.5555555555555556,
             "#000016"
            ],
            [
             0.6666666666666666,
             "#000017"
            ],
            [
             0.7777777777777778,
             "#000018"
            ],
            [
             0.8888888888888888,
             "#000019"
            ],
            [
             1,
             "#000020"
            ]
           ],
           "sequentialminus": [
            [
             0,
             "#000011"
            ],
            [
             0.1111111111111111,
             "#000012"
            ],
            [
             0.2222222222222222,
             "#000013"
            ],
            [
             0.3333333333333333,
             "#000014"
            ],
            [
             0.4444444444444444,
             "#000015"
            ],
            [
             0.5555555555555556,
             "#000016"
            ],
            [
             0.6666666666666666,
             "#000017"
            ],
            [
             0.7777777777777778,
             "#000018"
            ],
            [
             0.8888888888888888,
             "#000019"
            ],
            [
             1,
             "#000020"
            ]
           ]
          },
          "colorway": [
           "#000001",
           "#000002",
           "#000003",
           "#000004",
           "#000005",
           "#000006",
           "#000007",
           "#000008",
           "#000009",
           "#000010"
          ]
         }
        },
        "xaxis": {
         "anchor": "y",
         "autorange": true,
         "domain": [
          0,
          1
         ],
         "range": [
          -0.5,
          4.5
         ],
         "title": {
          "text": "Major Category"
         },
         "type": "category"
        },
        "yaxis": {
         "anchor": "x",
         "autorange": true,
         "domain": [
          0,
          1
         ],
         "range": [
          0,
          33.68421052631579
         ],
         "title": {
          "text": "Cost Spread %"
         },
         "type": "linear"
        }
       }
      },
      "image/png": "[encoded data removed]",
      "text/html": [
       "<div>                            <div id=\"fa03d298-9d6a-4695-a3fd-722b62f6617e\" class=\"plotly-graph-div\" style=\"height:525px; width:100%;\"></div>            <script type=\"text/javascript\">                require([\"plotly\"], function(Plotly) {                    window.PLOTLYENV=window.PLOTLYENV || {};                                    if (document.getElementById(\"fa03d298-9d6a-4695-a3fd-722b62f6617e\")) {                    Plotly.newPlot(                        \"fa03d298-9d6a-4695-a3fd-722b62f6617e\",                        [{\"alignmentgroup\":\"True\",\"hovertemplate\":\"Major Category=%{x}\\u003cbr\\u003eCost Spread %=%{marker.color}\\u003cextra\\u003e\\u003c\\u002fextra\\u003e\",\"legendgroup\":\"\",\"marker\":{\"color\":[32.0,21.0,15.0,15.0,11.0],\"coloraxis\":\"coloraxis\",\"pattern\":{\"shape\":\"\"}},\"name\":\"\",\"offsetgroup\":\"\",\"orientation\":\"v\",\"showlegend\":false,\"textposition\":\"auto\",\"x\":[\"Sales\",\"Supply Chain\",\"Manufacturing\",\"Comm Ops\",\"Sales Ops\"],\"xaxis\":\"x\",\"y\":[32.0,21.0,15.0,15.0,11.0],\"yaxis\":\"y\",\"type\":\"bar\"}],                        {\"template\":{\"data\":{\"candlestick\":[{\"decreasing\":{\"line\":{\"color\":\"#000033\"}},\"increasing\":{\"line\":{\"color\":\"#000032\"}},\"type\":\"candlestick\"}],\"contourcarpet\":[{\"colorscale\":[[0.0,\"#000011\"],[0.1111111111111111,\"#000012\"],[0.2222222222222222,\"#000013\"],[0.3333333333333333,\"#000014\"],[0.4444444444444444,\"#000015\"],[0.5555555555555556,\"#000016\"],[0.6666666666666666,\"#000017\"],[0.7777777777777778,\"#000018\"],[0.8888888888888888,\"#000019\"],[1.0,\"#000020\"]],\"type\":\"contourcarpet\"}],\"contour\":[{\"colorscale\":[[0.0,\"#000011\"],[0.1111111111111111,\"#000012\"],[0.2222222222222222,\"#000013\"],[0.3333333333333333,\"#000014\"],[0.4444444444444444,\"#000015\"],[0.5555555555555556,\"#000016\"],[0.6666666666666666,\"#000017\"],[0.7777777777777778,\"#000018\"],[0.8888888888888888,\"#000019\"],[1.0,\"#000020\"]],\"type\":\"contour\"}],\"heatmap\":[{\"colorscale\":[[0.0,\"#000011\"],[0.1111111111111111,\"#000012\"],[0.2222222222222222,\"#000013\"],[0.3333333333333333,\"#000014\"],[0.4444444444444444,\"#000015\"],[0.5555555555555556,\"#000016\"],[0.6666666666666666,\"#000017\"],[0.7777777777777778,\"#000018\"],[0.8888888888888888,\"#000019\"],[1.0,\"#000020\"]],\"type\":\"heatmap\"}],\"histogram2d\":[{\"colorscale\":[[0.0,\"#000011\"],[0.1111111111111111,\"#000012\"],[0.2222222222222222,\"#000013\"],[0.3333333333333333,\"#000014\"],[0.4444444444444444,\"#000015\"],[0.5555555555555556,\"#000016\"],[0.6666666666666666,\"#000017\"],[0.7777777777777778,\"#000018\"],[0.8888888888888888,\"#000019\"],[1.0,\"#000020\"]],\"type\":\"histogram2d\"}],\"icicle\":[{\"textfont\":{\"color\":\"white\"},\"type\":\"icicle\"}],\"sankey\":[{\"textfont\":{\"color\":\"#000036\"},\"type\":\"sankey\"}],\"scatter\":[{\"marker\":{\"line\":{\"width\":0}},\"type\":\"scatter\"}],\"table\":[{\"cells\":{\"fill\":{\"color\":\"#000038\"},\"font\":{\"color\":\"#000037\"},\"line\":{\"color\":\"#000039\"}},\"header\":{\"fill\":{\"color\":\"#000040\"},\"font\":{\"color\":\"#000036\"},\"line\":{\"color\":\"#000039\"}},\"type\":\"table\"}],\"waterfall\":[{\"connector\":{\"line\":{\"color\":\"#000036\",\"width\":2}},\"decreasing\":{\"marker\":{\"color\":\"#000033\"}},\"increasing\":{\"marker\":{\"color\":\"#000032\"}},\"totals\":{\"marker\":{\"color\":\"#000034\"}},\"type\":\"waterfall\"}]},\"layout\":{\"coloraxis\":{\"colorscale\":[[0.0,\"#000011\"],[0.1111111111111111,\"#000012\"],[0.2222222222222222,\"#000013\"],[0.3333333333333333,\"#000014\"],[0.4444444444444444,\"#000015\"],[0.5555555555555556,\"#000016\"],[0.6666666666666666,\"#000017\"],[0.7777777777777778,\"#000018\"],[0.8888888888888888,\"#000019\"],[1.0,\"#000020\"]]},\"colorscale\":{\"diverging\":[[0.0,\"#000021\"],[0.1,\"#000022\"],[0.2,\"#000023\"],[0.3,\"#000024\"],[0.4,\"#000025\"],[0.5,\"#000026\"],[0.6,\"#000027\"],[0.7,\"#000028\"],[0.8,\"#000029\"],[0.9,\"#000030\"],[1.0,\"#000031\"]],\"sequential\":[[0.0,\"#000011\"],[0.1111111111111111,\"#000012\"],[0.2222222222222222,\"#000013\"],[0.3333333333333333,\"#000014\"],[0.4444444444444444,\"#000015\"],[0.5555555555555556,\"#000016\"],[0.6666666666666666,\"#000017\"],[0.7777777777777778,\"#000018\"],[0.8888888888888888,\"#000019\"],[1.0,\"#000020\"]],\"sequentialminus\":[[0.0,\"#000011\"],[0.1111111111111111,\"#000012\"],[0.2222222222222222,\"#000013\"],[0.3333333333333333,\"#000014\"],[0.4444444444444444,\"#000015\"],[0.5555555555555556,\"#000016\"],[0.6666666666666666,\"#000017\"],[0.7777777777777778,\"#000018\"],[0.8888888888888888,\"#000019\"],[1.0,\"#000020\"]]},\"colorway\":[\"#000001\",\"#000002\",\"#000003\",\"#000004\",\"#000005\",\"#000006\",\"#000007\",\"#000008\",\"#000009\",\"#000010\"]}},\"xaxis\":{\"anchor\":\"y\",\"domain\":[0.0,1.0],\"title\":{\"text\":\"Major Category\"}},\"yaxis\":{\"anchor\":\"x\",\"domain\":[0.0,1.0],\"title\":{\"text\":\"Cost Spread %\"}},\"coloraxis\":{\"colorbar\":{\"title\":{\"text\":\"Cost Spread %\"}},\"colorscale\":[[0.0,\"#000011\"],[0.1111111111111111,\"#000012\"],[0.2222222222222222,\"#000013\"],[0.3333333333333333,\"#000014\"],[0.4444444444444444,\"#000015\"],[0.5555555555555556,\"#000016\"],[0.6666666666666666,\"#000017\"],[0.7777777777777778,\"#000018\"],[0.8888888888888888,\"#000019\"],[1.0,\"#000020\"]]},\"legend\":{\"tracegroupgap\":0},\"margin\":{\"t\":60},\"barmode\":\"relative\"},                        {\"responsive\": true}                    ).then(function(){\n",
       "                            \n",
       "var gd = document.getElementById('fa03d298-9d6a-4695-a3fd-722b62f6617e');\n",
       "var x = new MutationObserver(function (mutations, observer) {{\n",
       "        var display = window.getComputedStyle(gd).display;\n",
       "        if (!display || display === 'none') {{\n",
       "            console.log([gd, 'removed!']);\n",
       "            Plotly.purge(gd);\n",
       "            observer.disconnect();\n",
       "        }}\n",
       "}});\n",
       "\n",
       "// Listen for the removal of the full notebook cells\n",
       "var notebookContainer = gd.closest('#notebook-container');\n",
       "if (notebookContainer) {{\n",
       "    x.observe(notebookContainer, {childList: true});\n",
       "}}\n",
       "\n",
       "// Listen for the clearing of the current output cell\n",
       "var outputEl = gd.closest('.output');\n",
       "if (outputEl) {{\n",
       "    x.observe(outputEl, {childList: true});\n",
       "}}\n",
       "\n",
       "                        })                };                });            </script>        </div>"
      ]
     },
     "metadata": {},
     "output_type": "display_data"
    }
   ],
   "source": [
    "graph1"
   ]
  },
  {
   "cell_type": "code",
   "execution_count": null,
   "id": "a7b0c423-9744-410f-970d-40b2be9279e7",
   "metadata": {},
   "outputs": [],
   "source": []
  }
 ],
 "metadata": {
  "kernelspec": {
   "display_name": "genai",
   "language": "python",
   "name": "genai"
  },
  "language_info": {
   "codemirror_mode": {
    "name": "ipython",
    "version": 3
   },
   "file_extension": ".py",
   "mimetype": "text/x-python",
   "name": "python",
   "nbconvert_exporter": "python",
   "pygments_lexer": "ipython3",
   "version": "3.11.5"
  }
 },
 "nbformat": 4,
 "nbformat_minor": 5
}
