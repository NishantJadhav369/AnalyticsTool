{
 "cells": [
  {
   "cell_type": "code",
   "execution_count": 52,
   "id": "9e65214e-ef6c-4eaa-bdae-bf42d3c6a54b",
   "metadata": {},
   "outputs": [],
   "source": [
    "# Import necessary libraries\n",
    "import pandas as pd\n",
    "import numpy as np\n",
    "from sklearn.model_selection import train_test_split\n",
    "from sklearn.tree import DecisionTreeRegressor\n",
    "from sklearn.ensemble import RandomForestRegressor, GradientBoostingRegressor\n",
    "import catboost\n",
    "from catboost import CatBoostRegressor\n",
    "from sklearn.metrics import mean_squared_error, mean_absolute_error, r2_score\n",
    "import matplotlib.pyplot as plt\n",
    "from sklearn.linear_model import LinearRegression\n",
    "import seaborn as sns\n",
    "import plotly.express as px\n",
    "import streamlit as st\n",
    "pd.set_option('display.max_columns', None)\n",
    "plt.rcParams[\"figure.figsize\"] = (20,4)\n",
    "%matplotlib inline"
   ]
  },
  {
   "cell_type": "code",
   "execution_count": 5,
   "id": "79affe5f-1673-4b8f-89c9-7d08ae05293d",
   "metadata": {},
   "outputs": [],
   "source": [
    "regression = pd.read_excel('../../data/Shortage_regression.xlsx',dtype={'PHASE':str})\n",
    "claims = pd.read_excel('../../data/Shortage_Graphs.xlsx',dtype={'PHASE':str})"
   ]
  },
  {
   "cell_type": "code",
   "execution_count": 45,
   "id": "2da3905a-f994-401a-ba73-8180fd8fef01",
   "metadata": {},
   "outputs": [
    {
     "name": "stdout",
     "output_type": "stream",
     "text": [
      "(31474, 28)\n"
     ]
    },
    {
     "data": {
      "text/html": [
       "<div>\n",
       "<style scoped>\n",
       "    .dataframe tbody tr th:only-of-type {\n",
       "        vertical-align: middle;\n",
       "    }\n",
       "\n",
       "    .dataframe tbody tr th {\n",
       "        vertical-align: top;\n",
       "    }\n",
       "\n",
       "    .dataframe thead th {\n",
       "        text-align: right;\n",
       "    }\n",
       "</style>\n",
       "<table border=\"1\" class=\"dataframe\">\n",
       "  <thead>\n",
       "    <tr style=\"text-align: right;\">\n",
       "      <th></th>\n",
       "      <th>UID</th>\n",
       "      <th>SHORTAGE</th>\n",
       "      <th>ORIGINAL_JOB_NUM</th>\n",
       "      <th>ORIGINAL_MFG_PLANT</th>\n",
       "      <th>PHASE</th>\n",
       "      <th>REASON</th>\n",
       "      <th>CUSTOMER_NAME</th>\n",
       "      <th>COMPANY</th>\n",
       "      <th>BRAND</th>\n",
       "      <th>Major Category</th>\n",
       "      <th>COMPLEXITY</th>\n",
       "      <th>OPL</th>\n",
       "      <th>Minor Category</th>\n",
       "      <th>RELEASE_DATE</th>\n",
       "      <th>GL_PERIOD</th>\n",
       "      <th>SQUAD</th>\n",
       "      <th>TEAM</th>\n",
       "      <th>BSR</th>\n",
       "      <th>SHORTAGE_COST_SPREAD</th>\n",
       "      <th>RELEASE_DATE_MONTH</th>\n",
       "      <th>GL_PERIOD_MONTH</th>\n",
       "      <th>RELEASE_DATE_YEAR</th>\n",
       "      <th>GL_PERIOD_YEAR</th>\n",
       "      <th>logy_target</th>\n",
       "      <th>PIECEMARK</th>\n",
       "      <th>SALES_REGION_ID</th>\n",
       "      <th>SALES_DISTRICT_ID</th>\n",
       "      <th>DEPARTMENT_RESPONSIBLE</th>\n",
       "    </tr>\n",
       "  </thead>\n",
       "  <tbody>\n",
       "    <tr>\n",
       "      <th>0</th>\n",
       "      <td>18S559050101CECOElizabethton17B89685</td>\n",
       "      <td>18S55905</td>\n",
       "      <td>17B89685</td>\n",
       "      <td>Elizabethton</td>\n",
       "      <td>0101</td>\n",
       "      <td>0415 - Error due to Engineering Scheduling</td>\n",
       "      <td>BORRELLI METAL BUILDINGS</td>\n",
       "      <td>CECO BUILDING SYSTEMS</td>\n",
       "      <td>CECO</td>\n",
       "      <td>Comm Ops</td>\n",
       "      <td>8</td>\n",
       "      <td>PENNAR</td>\n",
       "      <td>Eng. Scheduling</td>\n",
       "      <td>2022-02-22 00:00:00</td>\n",
       "      <td>2022-08-23</td>\n",
       "      <td>PENNAR</td>\n",
       "      <td>PENNAR</td>\n",
       "      <td>CARRIE SCHAFER</td>\n",
       "      <td>760.0</td>\n",
       "      <td>2</td>\n",
       "      <td>8</td>\n",
       "      <td>2022</td>\n",
       "      <td>2022</td>\n",
       "      <td>6.63345</td>\n",
       "      <td>1 LOT-0100</td>\n",
       "      <td>C100</td>\n",
       "      <td>C103</td>\n",
       "      <td>415</td>\n",
       "    </tr>\n",
       "  </tbody>\n",
       "</table>\n",
       "</div>"
      ],
      "text/plain": [
       "                                    UID  SHORTAGE ORIGINAL_JOB_NUM  \\\n",
       "0  18S559050101CECOElizabethton17B89685  18S55905         17B89685   \n",
       "\n",
       "  ORIGINAL_MFG_PLANT PHASE                                      REASON  \\\n",
       "0       Elizabethton  0101  0415 - Error due to Engineering Scheduling   \n",
       "\n",
       "              CUSTOMER_NAME                COMPANY BRAND Major Category  \\\n",
       "0  BORRELLI METAL BUILDINGS  CECO BUILDING SYSTEMS  CECO       Comm Ops   \n",
       "\n",
       "  COMPLEXITY     OPL   Minor Category         RELEASE_DATE  GL_PERIOD   SQUAD  \\\n",
       "0          8  PENNAR  Eng. Scheduling  2022-02-22 00:00:00 2022-08-23  PENNAR   \n",
       "\n",
       "     TEAM             BSR  SHORTAGE_COST_SPREAD RELEASE_DATE_MONTH  \\\n",
       "0  PENNAR  CARRIE SCHAFER                 760.0                  2   \n",
       "\n",
       "   GL_PERIOD_MONTH RELEASE_DATE_YEAR  GL_PERIOD_YEAR  logy_target   PIECEMARK  \\\n",
       "0                8              2022            2022      6.63345  1 LOT-0100   \n",
       "\n",
       "  SALES_REGION_ID SALES_DISTRICT_ID DEPARTMENT_RESPONSIBLE  \n",
       "0            C100              C103                    415  "
      ]
     },
     "execution_count": 45,
     "metadata": {},
     "output_type": "execute_result"
    }
   ],
   "source": [
    "print(regression.shape)\n",
    "regression.head(1)"
   ]
  },
  {
   "cell_type": "code",
   "execution_count": 44,
   "id": "8ca468e8-e20f-490c-92e4-f9ac6a5fbda4",
   "metadata": {},
   "outputs": [
    {
     "name": "stdout",
     "output_type": "stream",
     "text": [
      "(15929, 47)\n"
     ]
    },
    {
     "data": {
      "text/html": [
       "<div>\n",
       "<style scoped>\n",
       "    .dataframe tbody tr th:only-of-type {\n",
       "        vertical-align: middle;\n",
       "    }\n",
       "\n",
       "    .dataframe tbody tr th {\n",
       "        vertical-align: top;\n",
       "    }\n",
       "\n",
       "    .dataframe thead th {\n",
       "        text-align: right;\n",
       "    }\n",
       "</style>\n",
       "<table border=\"1\" class=\"dataframe\">\n",
       "  <thead>\n",
       "    <tr style=\"text-align: right;\">\n",
       "      <th></th>\n",
       "      <th>UID</th>\n",
       "      <th>SHORTAGE</th>\n",
       "      <th>ORIGINAL_JOB_NUM</th>\n",
       "      <th>PHASE</th>\n",
       "      <th>BRAND</th>\n",
       "      <th>ORIGINAL_MFG_PLANT</th>\n",
       "      <th>CUSTOMER</th>\n",
       "      <th>CUSTOMER_NAME</th>\n",
       "      <th>COMPANY</th>\n",
       "      <th>REASON</th>\n",
       "      <th>SQUAD</th>\n",
       "      <th>SQUAD2</th>\n",
       "      <th>TEAM</th>\n",
       "      <th>TEAM2</th>\n",
       "      <th>TEAM3</th>\n",
       "      <th>CHECKER</th>\n",
       "      <th>CHECKER2</th>\n",
       "      <th>DETAILER</th>\n",
       "      <th>DETAILER2</th>\n",
       "      <th>Major Category</th>\n",
       "      <th>Major Category2</th>\n",
       "      <th>Minor Category</th>\n",
       "      <th>Minor Category2</th>\n",
       "      <th>NOTES</th>\n",
       "      <th>OPL</th>\n",
       "      <th>Selling Brand</th>\n",
       "      <th>BSR</th>\n",
       "      <th>INVESTIGATION_RESULT</th>\n",
       "      <th>HOW_ERROR_OCCURRED</th>\n",
       "      <th>PREVENTATIVE_ACTIONS</th>\n",
       "      <th>RESPONSE_BY</th>\n",
       "      <th>RELEASE_DATE</th>\n",
       "      <th>ORIGINAL_JOB_SHIP</th>\n",
       "      <th>GL_PERIOD</th>\n",
       "      <th>SHORTAGE_COST_SPREAD</th>\n",
       "      <th>SHORTAGE_PERIOD_COST</th>\n",
       "      <th>FREIGHT</th>\n",
       "      <th>MATERIAL</th>\n",
       "      <th>OVERHEAD</th>\n",
       "      <th>LABOR</th>\n",
       "      <th>ORIGINAL_JOB_AMOUNT</th>\n",
       "      <th>AUTHORIZED_BY</th>\n",
       "      <th>COMPLEXITY</th>\n",
       "      <th>RELEASE_DATE_MONTH</th>\n",
       "      <th>GL_PERIOD_MONTH</th>\n",
       "      <th>RELEASE_DATE_YEAR</th>\n",
       "      <th>GL_PERIOD_YEAR</th>\n",
       "    </tr>\n",
       "  </thead>\n",
       "  <tbody>\n",
       "    <tr>\n",
       "      <th>0</th>\n",
       "      <td>18S500110101STARElizabethton18B25260</td>\n",
       "      <td>18S50011</td>\n",
       "      <td>18B25260</td>\n",
       "      <td>0101</td>\n",
       "      <td>STAR</td>\n",
       "      <td>Elizabethton</td>\n",
       "      <td>R YODER CONSTRUCTION INC  :254906</td>\n",
       "      <td>R YODER CONSTRUCTION INC</td>\n",
       "      <td>STAR BUILDING SYSTEMS</td>\n",
       "      <td>2702 - Incorrect Order Write Up - Non Standard...</td>\n",
       "      <td>SRG</td>\n",
       "      <td>NaN</td>\n",
       "      <td>SRG</td>\n",
       "      <td>NaN</td>\n",
       "      <td>NaN</td>\n",
       "      <td>SCOTT KITCHEN</td>\n",
       "      <td>NaN</td>\n",
       "      <td>SCOTT KITCHEN</td>\n",
       "      <td>NaN</td>\n",
       "      <td>Comm Ops</td>\n",
       "      <td>NaN</td>\n",
       "      <td>Order Clarity Issues</td>\n",
       "      <td>NaN</td>\n",
       "      <td>BUILDER REPORTED THAT FRAMES WERE NOT DESIGN F...</td>\n",
       "      <td>NA Contractor</td>\n",
       "      <td>STAR</td>\n",
       "      <td>WARREN NORMAN</td>\n",
       "      <td>NaN</td>\n",
       "      <td>NaN</td>\n",
       "      <td>NaN</td>\n",
       "      <td>NaN</td>\n",
       "      <td>2021-11-10</td>\n",
       "      <td>2021-12-11</td>\n",
       "      <td>2022-05-23</td>\n",
       "      <td>93990.68</td>\n",
       "      <td>93990.68</td>\n",
       "      <td>0.0</td>\n",
       "      <td>60663.36</td>\n",
       "      <td>20202.54</td>\n",
       "      <td>13124.78</td>\n",
       "      <td>1952790.63</td>\n",
       "      <td>TERRY STANDIFER</td>\n",
       "      <td>8.0</td>\n",
       "      <td>11.0</td>\n",
       "      <td>5.0</td>\n",
       "      <td>2021.0</td>\n",
       "      <td>2022.0</td>\n",
       "    </tr>\n",
       "  </tbody>\n",
       "</table>\n",
       "</div>"
      ],
      "text/plain": [
       "                                    UID  SHORTAGE ORIGINAL_JOB_NUM PHASE  \\\n",
       "0  18S500110101STARElizabethton18B25260  18S50011         18B25260  0101   \n",
       "\n",
       "  BRAND ORIGINAL_MFG_PLANT                           CUSTOMER  \\\n",
       "0  STAR       Elizabethton  R YODER CONSTRUCTION INC  :254906   \n",
       "\n",
       "              CUSTOMER_NAME                COMPANY  \\\n",
       "0  R YODER CONSTRUCTION INC  STAR BUILDING SYSTEMS   \n",
       "\n",
       "                                              REASON SQUAD SQUAD2 TEAM TEAM2  \\\n",
       "0  2702 - Incorrect Order Write Up - Non Standard...   SRG    NaN  SRG   NaN   \n",
       "\n",
       "  TEAM3        CHECKER CHECKER2       DETAILER DETAILER2 Major Category  \\\n",
       "0   NaN  SCOTT KITCHEN      NaN  SCOTT KITCHEN       NaN       Comm Ops   \n",
       "\n",
       "  Major Category2        Minor Category Minor Category2  \\\n",
       "0             NaN  Order Clarity Issues             NaN   \n",
       "\n",
       "                                               NOTES            OPL  \\\n",
       "0  BUILDER REPORTED THAT FRAMES WERE NOT DESIGN F...  NA Contractor   \n",
       "\n",
       "  Selling Brand            BSR INVESTIGATION_RESULT HOW_ERROR_OCCURRED  \\\n",
       "0          STAR  WARREN NORMAN                  NaN                NaN   \n",
       "\n",
       "  PREVENTATIVE_ACTIONS RESPONSE_BY RELEASE_DATE ORIGINAL_JOB_SHIP  GL_PERIOD  \\\n",
       "0                  NaN         NaN   2021-11-10        2021-12-11 2022-05-23   \n",
       "\n",
       "   SHORTAGE_COST_SPREAD  SHORTAGE_PERIOD_COST  FREIGHT  MATERIAL  OVERHEAD  \\\n",
       "0              93990.68              93990.68      0.0  60663.36  20202.54   \n",
       "\n",
       "      LABOR  ORIGINAL_JOB_AMOUNT    AUTHORIZED_BY  COMPLEXITY  \\\n",
       "0  13124.78           1952790.63  TERRY STANDIFER         8.0   \n",
       "\n",
       "   RELEASE_DATE_MONTH  GL_PERIOD_MONTH  RELEASE_DATE_YEAR  GL_PERIOD_YEAR  \n",
       "0                11.0              5.0             2021.0          2022.0  "
      ]
     },
     "execution_count": 44,
     "metadata": {},
     "output_type": "execute_result"
    }
   ],
   "source": [
    "print(claims.shape)\n",
    "claims.head(1)"
   ]
  },
  {
   "cell_type": "code",
   "execution_count": 9,
   "id": "e198f42a-e51b-433f-a741-d2e57cfc022e",
   "metadata": {},
   "outputs": [],
   "source": [
    "eda_slice = claims.copy()"
   ]
  },
  {
   "cell_type": "code",
   "execution_count": 60,
   "id": "7c435ce3-a173-4cd0-94ad-ee176c8fc011",
   "metadata": {},
   "outputs": [],
   "source": [
    "def run_iteration(eda_slice, reg_slice, filter_dim, filter_val, group_level):\n",
    "    \n",
    "    if filter_dim or filter_val:\n",
    "        eda_slice = eda_slice[eda_slice[filter_dim] == filter_val] # EDA slice 1\n",
    "\n",
    "    cat_spread = eda_slice.drop_duplicates([group_level,'SHORTAGE','SHORTAGE_COST_SPREAD']) \n",
    "    cat_spread =  cat_spread.groupby(group_level)['SHORTAGE_COST_SPREAD'].sum().sort_values(ascending=False).reset_index() # group by\n",
    "    cat_spread['Cost Spread %'] = cat_spread['SHORTAGE_COST_SPREAD']/cat_spread['SHORTAGE_COST_SPREAD'].sum()*100\n",
    "    cat_spread = cat_spread[cat_spread[group_level]!='missing']\n",
    "    cat_spread[group_level] = cat_spread[group_level].astype(str)\n",
    "    cat_spread['Cost Spread %'] = cat_spread['Cost Spread %'].round()\n",
    "    cat_spread = cat_spread.iloc[:5]\n",
    "    fig1 = px.bar(cat_spread,group_level,'Cost Spread %',color='Cost Spread %')\n",
    "\n",
    "    options = ['Unselected'] + cat_spread[group_level].unique().tolist()\n",
    "    value = st.radio( \"Choose Value\", options) \n",
    "\n",
    "    if value != 'Unselected':\n",
    "        # Reg 2\n",
    "\n",
    "        # st.markdown(f\"### Regression analysis for {value}\")\n",
    "\n",
    "        target = 'logy_target'\n",
    "        columns1 = ['COMPANY','PHASE','BRAND','Major Category','COMPLEXITY','OPL','ORIGINAL_MFG_PLANT', target]\n",
    "        columns2 = ['Minor Category','GL_PERIOD_MONTH','RELEASE_DATE_MONTH', 'SALES_REGION_ID','SQUAD','TEAM','REASON','BSR'] #,'CHECKER','DETAILER'\n",
    "        columns3 = ['SALES_DISTRICT_ID', 'PIECEMARK','CUSTOMER_NAME']\n",
    "        columns = columns1 + columns2\n",
    "\n",
    "\n",
    "        reg_slice =  reg_slice[(reg_slice[group_level]==value)] # Reg Slice 2\n",
    "        X = reg_slice[columns]\n",
    "        X = X.dropna(subset=[target])\n",
    "        X = X.drop_duplicates()\n",
    "        X =pd.get_dummies(X)\n",
    "        y = X[target]\n",
    "        X = X.drop(target, axis=1)\n",
    "\n",
    "        # Split the dataset into training and testing sets\n",
    "        X_train, X_test, y_train, y_test = train_test_split(X, y, test_size=0.2, random_state=42)\n",
    "\n",
    "\n",
    "        model = RandomForestRegressor(max_depth=None,)\n",
    "        model.fit(X_train, y_train)\n",
    "\n",
    "        feature_importances = model.feature_importances_\n",
    "        importance_df = pd.DataFrame({'Feature': X.columns, 'Importance': feature_importances})\n",
    "        importance_df['Column'] = importance_df['Feature'].str.split(\"_\").apply(lambda x: '_'.join(x[:-1]) if len(x)>1 else x[0] )\n",
    "        importance_df['Value'] = importance_df['Feature'].str.split(\"_\").apply(lambda x: x[-1] if len(x) > 1 else 'none')\n",
    "        feature_importance_df = importance_df.groupby('Column')['Importance'].sum().sort_values(ascending=False).reset_index()\n",
    "        feature_importance_df = feature_importance_df.sort_values(by='Importance', ascending=False)\n",
    "        feature_importance_df['Importance'] = feature_importance_df['Importance'].apply(lambda x: \"{:f}\".format(x))\n",
    "        feature_importance_df['Importance'] = feature_importance_df['Importance'].apply(lambda x: float(x))\n",
    "        top_features = feature_importance_df.head(5)\n",
    "\n",
    "\n",
    "        fig2 = px.bar(top_features,'Importance','Column',orientation='h')\n",
    "        # st.write(fig1)\n",
    "\n",
    "        filter_dim = group_level\n",
    "        filter_val = value\n",
    "        group_level = st.radio( \"Choose Dimension\",  ['Unselected'] + top_features['Column'].unique().tolist()) \n",
    "        print(group_level)\n",
    "        level+=1\n",
    "        print('Level update to ',level)\n",
    "        \n",
    "    return (fig1,fig2)"
   ]
  },
  {
   "cell_type": "code",
   "execution_count": 61,
   "id": "87acdda1-1cfb-4960-817a-d45f8bf0195e",
   "metadata": {},
   "outputs": [
    {
     "ename": "UnboundLocalError",
     "evalue": "cannot access local variable 'fig2' where it is not associated with a value",
     "output_type": "error",
     "traceback": [
      "\u001b[1;31m---------------------------------------------------------------------------\u001b[0m",
      "\u001b[1;31mUnboundLocalError\u001b[0m                         Traceback (most recent call last)",
      "Cell \u001b[1;32mIn[61], line 1\u001b[0m\n\u001b[1;32m----> 1\u001b[0m graph1,graph2 \u001b[38;5;241m=\u001b[39m run_iteration(eda_slice,regression,\u001b[38;5;28;01mNone\u001b[39;00m,\u001b[38;5;28;01mNone\u001b[39;00m,\u001b[38;5;124m'\u001b[39m\u001b[38;5;124mMajor Category\u001b[39m\u001b[38;5;124m'\u001b[39m)\n",
      "Cell \u001b[1;32mIn[60], line 66\u001b[0m, in \u001b[0;36mrun_iteration\u001b[1;34m(eda_slice, reg_slice, filter_dim, filter_val, group_level)\u001b[0m\n\u001b[0;32m     63\u001b[0m     level\u001b[38;5;241m+\u001b[39m\u001b[38;5;241m=\u001b[39m\u001b[38;5;241m1\u001b[39m\n\u001b[0;32m     64\u001b[0m     \u001b[38;5;28mprint\u001b[39m(\u001b[38;5;124m'\u001b[39m\u001b[38;5;124mLevel update to \u001b[39m\u001b[38;5;124m'\u001b[39m,level)\n\u001b[1;32m---> 66\u001b[0m \u001b[38;5;28;01mreturn\u001b[39;00m (fig1,fig2)\n",
      "\u001b[1;31mUnboundLocalError\u001b[0m: cannot access local variable 'fig2' where it is not associated with a value"
     ]
    }
   ],
   "source": [
    "graph1,graph2 = run_iteration(eda_slice,regression,None,None,'Major Category')"
   ]
  },
  {
   "cell_type": "code",
   "execution_count": 58,
   "id": "9f68f358-536a-4548-907e-3d4215fc0034",
   "metadata": {},
   "outputs": [
    {
     "data": {
      "application/vnd.plotly.v1+json": {
       "config": {
        "plotlyServerURL": "https://plot.ly"
       },
       "data": [
        {
         "alignmentgroup": "True",
         "hovertemplate": "Major Category=%{x}<br>Cost Spread %=%{marker.color}<extra></extra>",
         "legendgroup": "",
         "marker": {
          "color": [
           32,
           21,
           15,
           15,
           11
          ],
          "coloraxis": "coloraxis",
          "pattern": {
           "shape": ""
          }
         },
         "name": "",
         "offsetgroup": "",
         "orientation": "v",
         "showlegend": false,
         "textposition": "auto",
         "type": "bar",
         "x": [
          "Sales",
          "Supply Chain",
          "Manufacturing",
          "Comm Ops",
          "Sales Ops"
         ],
         "xaxis": "x",
         "y": [
          32,
          21,
          15,
          15,
          11
         ],
         "yaxis": "y"
        }
       ],
       "layout": {
        "autosize": true,
        "barmode": "relative",
        "coloraxis": {
         "colorbar": {
          "title": {
           "text": "Cost Spread %"
          }
         },
         "colorscale": [
          [
           0,
           "#000011"
          ],
          [
           0.1111111111111111,
           "#000012"
          ],
          [
           0.2222222222222222,
           "#000013"
          ],
          [
           0.3333333333333333,
           "#000014"
          ],
          [
           0.4444444444444444,
           "#000015"
          ],
          [
           0.5555555555555556,
           "#000016"
          ],
          [
           0.6666666666666666,
           "#000017"
          ],
          [
           0.7777777777777778,
           "#000018"
          ],
          [
           0.8888888888888888,
           "#000019"
          ],
          [
           1,
           "#000020"
          ]
         ]
        },
        "legend": {
         "tracegroupgap": 0
        },
        "margin": {
         "t": 60
        },
        "template": {
         "data": {
          "candlestick": [
           {
            "decreasing": {
             "line": {
              "color": "#000033"
             }
            },
            "increasing": {
             "line": {
              "color": "#000032"
             }
            },
            "type": "candlestick"
           }
          ],
          "contour": [
           {
            "colorscale": [
             [
              0,
              "#000011"
             ],
             [
              0.1111111111111111,
              "#000012"
             ],
             [
              0.2222222222222222,
              "#000013"
             ],
             [
              0.3333333333333333,
              "#000014"
             ],
             [
              0.4444444444444444,
              "#000015"
             ],
             [
              0.5555555555555556,
              "#000016"
             ],
             [
              0.6666666666666666,
              "#000017"
             ],
             [
              0.7777777777777778,
              "#000018"
             ],
             [
              0.8888888888888888,
              "#000019"
             ],
             [
              1,
              "#000020"
             ]
            ],
            "type": "contour"
           }
          ],
          "contourcarpet": [
           {
            "colorscale": [
             [
              0,
              "#000011"
             ],
             [
              0.1111111111111111,
              "#000012"
             ],
             [
              0.2222222222222222,
              "#000013"
             ],
             [
              0.3333333333333333,
              "#000014"
             ],
             [
              0.4444444444444444,
              "#000015"
             ],
             [
              0.5555555555555556,
              "#000016"
             ],
             [
              0.6666666666666666,
              "#000017"
             ],
             [
              0.7777777777777778,
              "#000018"
             ],
             [
              0.8888888888888888,
              "#000019"
             ],
             [
              1,
              "#000020"
             ]
            ],
            "type": "contourcarpet"
           }
          ],
          "heatmap": [
           {
            "colorscale": [
             [
              0,
              "#000011"
             ],
             [
              0.1111111111111111,
              "#000012"
             ],
             [
              0.2222222222222222,
              "#000013"
             ],
             [
              0.3333333333333333,
              "#000014"
             ],
             [
              0.4444444444444444,
              "#000015"
             ],
             [
              0.5555555555555556,
              "#000016"
             ],
             [
              0.6666666666666666,
              "#000017"
             ],
             [
              0.7777777777777778,
              "#000018"
             ],
             [
              0.8888888888888888,
              "#000019"
             ],
             [
              1,
              "#000020"
             ]
            ],
            "type": "heatmap"
           }
          ],
          "histogram2d": [
           {
            "colorscale": [
             [
              0,
              "#000011"
             ],
             [
              0.1111111111111111,
              "#000012"
             ],
             [
              0.2222222222222222,
              "#000013"
             ],
             [
              0.3333333333333333,
              "#000014"
             ],
             [
              0.4444444444444444,
              "#000015"
             ],
             [
              0.5555555555555556,
              "#000016"
             ],
             [
              0.6666666666666666,
              "#000017"
             ],
             [
              0.7777777777777778,
              "#000018"
             ],
             [
              0.8888888888888888,
              "#000019"
             ],
             [
              1,
              "#000020"
             ]
            ],
            "type": "histogram2d"
           }
          ],
          "icicle": [
           {
            "textfont": {
             "color": "white"
            },
            "type": "icicle"
           }
          ],
          "sankey": [
           {
            "textfont": {
             "color": "#000036"
            },
            "type": "sankey"
           }
          ],
          "scatter": [
           {
            "marker": {
             "line": {
              "width": 0
             }
            },
            "type": "scatter"
           }
          ],
          "table": [
           {
            "cells": {
             "fill": {
              "color": "#000038"
             },
             "font": {
              "color": "#000037"
             },
             "line": {
              "color": "#000039"
             }
            },
            "header": {
             "fill": {
              "color": "#000040"
             },
             "font": {
              "color": "#000036"
             },
             "line": {
              "color": "#000039"
             }
            },
            "type": "table"
           }
          ],
          "waterfall": [
           {
            "connector": {
             "line": {
              "color": "#000036",
              "width": 2
             }
            },
            "decreasing": {
             "marker": {
              "color": "#000033"
             }
            },
            "increasing": {
             "marker": {
              "color": "#000032"
             }
            },
            "totals": {
             "marker": {
              "color": "#000034"
             }
            },
            "type": "waterfall"
           }
          ]
         },
         "layout": {
          "coloraxis": {
           "colorscale": [
            [
             0,
             "#000011"
            ],
            [
             0.1111111111111111,
             "#000012"
            ],
            [
             0.2222222222222222,
             "#000013"
            ],
            [
             0.3333333333333333,
             "#000014"
            ],
            [
             0.4444444444444444,
             "#000015"
            ],
            [
             0.5555555555555556,
             "#000016"
            ],
            [
             0.6666666666666666,
             "#000017"
            ],
            [
             0.7777777777777778,
             "#000018"
            ],
            [
             0.8888888888888888,
             "#000019"
            ],
            [
             1,
             "#000020"
            ]
           ]
          },
          "colorscale": {
           "diverging": [
            [
             0,
             "#000021"
            ],
            [
             0.1,
             "#000022"
            ],
            [
             0.2,
             "#000023"
            ],
            [
             0.3,
             "#000024"
            ],
            [
             0.4,
             "#000025"
            ],
            [
             0.5,
             "#000026"
            ],
            [
             0.6,
             "#000027"
            ],
            [
             0.7,
             "#000028"
            ],
            [
             0.8,
             "#000029"
            ],
            [
             0.9,
             "#000030"
            ],
            [
             1,
             "#000031"
            ]
           ],
           "sequential": [
            [
             0,
             "#000011"
            ],
            [
             0.1111111111111111,
             "#000012"
            ],
            [
             0.2222222222222222,
             "#000013"
            ],
            [
             0.3333333333333333,
             "#000014"
            ],
            [
             0.4444444444444444,
             "#000015"
            ],
            [
             0.5555555555555556,
             "#000016"
            ],
            [
             0.6666666666666666,
             "#000017"
            ],
            [
             0.7777777777777778,
             "#000018"
            ],
            [
             0.8888888888888888,
             "#000019"
            ],
            [
             1,
             "#000020"
            ]
           ],
           "sequentialminus": [
            [
             0,
             "#000011"
            ],
            [
             0.1111111111111111,
             "#000012"
            ],
            [
             0.2222222222222222,
             "#000013"
            ],
            [
             0.3333333333333333,
             "#000014"
            ],
            [
             0.4444444444444444,
             "#000015"
            ],
            [
             0.5555555555555556,
             "#000016"
            ],
            [
             0.6666666666666666,
             "#000017"
            ],
            [
             0.7777777777777778,
             "#000018"
            ],
            [
             0.8888888888888888,
             "#000019"
            ],
            [
             1,
             "#000020"
            ]
           ]
          },
          "colorway": [
           "#000001",
           "#000002",
           "#000003",
           "#000004",
           "#000005",
           "#000006",
           "#000007",
           "#000008",
           "#000009",
           "#000010"
          ]
         }
        },
        "xaxis": {
         "anchor": "y",
         "autorange": true,
         "domain": [
          0,
          1
         ],
         "range": [
          -0.5,
          4.5
         ],
         "title": {
          "text": "Major Category"
         },
         "type": "category"
        },
        "yaxis": {
         "anchor": "x",
         "autorange": true,
         "domain": [
          0,
          1
         ],
         "range": [
          0,
          33.68421052631579
         ],
         "title": {
          "text": "Cost Spread %"
         },
         "type": "linear"
        }
       }
      },
      "image/png": "[encoded data removed]",
      "text/html": [
       "<div>                            <div id=\"fa03d298-9d6a-4695-a3fd-722b62f6617e\" class=\"plotly-graph-div\" style=\"height:525px; width:100%;\"></div>            <script type=\"text/javascript\">                require([\"plotly\"], function(Plotly) {                    window.PLOTLYENV=window.PLOTLYENV || {};                                    if (document.getElementById(\"fa03d298-9d6a-4695-a3fd-722b62f6617e\")) {                    Plotly.newPlot(                        \"fa03d298-9d6a-4695-a3fd-722b62f6617e\",                        [{\"alignmentgroup\":\"True\",\"hovertemplate\":\"Major Category=%{x}\\u003cbr\\u003eCost Spread %=%{marker.color}\\u003cextra\\u003e\\u003c\\u002fextra\\u003e\",\"legendgroup\":\"\",\"marker\":{\"color\":[32.0,21.0,15.0,15.0,11.0],\"coloraxis\":\"coloraxis\",\"pattern\":{\"shape\":\"\"}},\"name\":\"\",\"offsetgroup\":\"\",\"orientation\":\"v\",\"showlegend\":false,\"textposition\":\"auto\",\"x\":[\"Sales\",\"Supply Chain\",\"Manufacturing\",\"Comm Ops\",\"Sales Ops\"],\"xaxis\":\"x\",\"y\":[32.0,21.0,15.0,15.0,11.0],\"yaxis\":\"y\",\"type\":\"bar\"}],                        {\"template\":{\"data\":{\"candlestick\":[{\"decreasing\":{\"line\":{\"color\":\"#000033\"}},\"increasing\":{\"line\":{\"color\":\"#000032\"}},\"type\":\"candlestick\"}],\"contourcarpet\":[{\"colorscale\":[[0.0,\"#000011\"],[0.1111111111111111,\"#000012\"],[0.2222222222222222,\"#000013\"],[0.3333333333333333,\"#000014\"],[0.4444444444444444,\"#000015\"],[0.5555555555555556,\"#000016\"],[0.6666666666666666,\"#000017\"],[0.7777777777777778,\"#000018\"],[0.8888888888888888,\"#000019\"],[1.0,\"#000020\"]],\"type\":\"contourcarpet\"}],\"contour\":[{\"colorscale\":[[0.0,\"#000011\"],[0.1111111111111111,\"#000012\"],[0.2222222222222222,\"#000013\"],[0.3333333333333333,\"#000014\"],[0.4444444444444444,\"#000015\"],[0.5555555555555556,\"#000016\"],[0.6666666666666666,\"#000017\"],[0.7777777777777778,\"#000018\"],[0.8888888888888888,\"#000019\"],[1.0,\"#000020\"]],\"type\":\"contour\"}],\"heatmap\":[{\"colorscale\":[[0.0,\"#000011\"],[0.1111111111111111,\"#000012\"],[0.2222222222222222,\"#000013\"],[0.3333333333333333,\"#000014\"],[0.4444444444444444,\"#000015\"],[0.5555555555555556,\"#000016\"],[0.6666666666666666,\"#000017\"],[0.7777777777777778,\"#000018\"],[0.8888888888888888,\"#000019\"],[1.0,\"#000020\"]],\"type\":\"heatmap\"}],\"histogram2d\":[{\"colorscale\":[[0.0,\"#000011\"],[0.1111111111111111,\"#000012\"],[0.2222222222222222,\"#000013\"],[0.3333333333333333,\"#000014\"],[0.4444444444444444,\"#000015\"],[0.5555555555555556,\"#000016\"],[0.6666666666666666,\"#000017\"],[0.7777777777777778,\"#000018\"],[0.8888888888888888,\"#000019\"],[1.0,\"#000020\"]],\"type\":\"histogram2d\"}],\"icicle\":[{\"textfont\":{\"color\":\"white\"},\"type\":\"icicle\"}],\"sankey\":[{\"textfont\":{\"color\":\"#000036\"},\"type\":\"sankey\"}],\"scatter\":[{\"marker\":{\"line\":{\"width\":0}},\"type\":\"scatter\"}],\"table\":[{\"cells\":{\"fill\":{\"color\":\"#000038\"},\"font\":{\"color\":\"#000037\"},\"line\":{\"color\":\"#000039\"}},\"header\":{\"fill\":{\"color\":\"#000040\"},\"font\":{\"color\":\"#000036\"},\"line\":{\"color\":\"#000039\"}},\"type\":\"table\"}],\"waterfall\":[{\"connector\":{\"line\":{\"color\":\"#000036\",\"width\":2}},\"decreasing\":{\"marker\":{\"color\":\"#000033\"}},\"increasing\":{\"marker\":{\"color\":\"#000032\"}},\"totals\":{\"marker\":{\"color\":\"#000034\"}},\"type\":\"waterfall\"}]},\"layout\":{\"coloraxis\":{\"colorscale\":[[0.0,\"#000011\"],[0.1111111111111111,\"#000012\"],[0.2222222222222222,\"#000013\"],[0.3333333333333333,\"#000014\"],[0.4444444444444444,\"#000015\"],[0.5555555555555556,\"#000016\"],[0.6666666666666666,\"#000017\"],[0.7777777777777778,\"#000018\"],[0.8888888888888888,\"#000019\"],[1.0,\"#000020\"]]},\"colorscale\":{\"diverging\":[[0.0,\"#000021\"],[0.1,\"#000022\"],[0.2,\"#000023\"],[0.3,\"#000024\"],[0.4,\"#000025\"],[0.5,\"#000026\"],[0.6,\"#000027\"],[0.7,\"#000028\"],[0.8,\"#000029\"],[0.9,\"#000030\"],[1.0,\"#000031\"]],\"sequential\":[[0.0,\"#000011\"],[0.1111111111111111,\"#000012\"],[0.2222222222222222,\"#000013\"],[0.3333333333333333,\"#000014\"],[0.4444444444444444,\"#000015\"],[0.5555555555555556,\"#000016\"],[0.6666666666666666,\"#000017\"],[0.7777777777777778,\"#000018\"],[0.8888888888888888,\"#000019\"],[1.0,\"#000020\"]],\"sequentialminus\":[[0.0,\"#000011\"],[0.1111111111111111,\"#000012\"],[0.2222222222222222,\"#000013\"],[0.3333333333333333,\"#000014\"],[0.4444444444444444,\"#000015\"],[0.5555555555555556,\"#000016\"],[0.6666666666666666,\"#000017\"],[0.7777777777777778,\"#000018\"],[0.8888888888888888,\"#000019\"],[1.0,\"#000020\"]]},\"colorway\":[\"#000001\",\"#000002\",\"#000003\",\"#000004\",\"#000005\",\"#000006\",\"#000007\",\"#000008\",\"#000009\",\"#000010\"]}},\"xaxis\":{\"anchor\":\"y\",\"domain\":[0.0,1.0],\"title\":{\"text\":\"Major Category\"}},\"yaxis\":{\"anchor\":\"x\",\"domain\":[0.0,1.0],\"title\":{\"text\":\"Cost Spread %\"}},\"coloraxis\":{\"colorbar\":{\"title\":{\"text\":\"Cost Spread %\"}},\"colorscale\":[[0.0,\"#000011\"],[0.1111111111111111,\"#000012\"],[0.2222222222222222,\"#000013\"],[0.3333333333333333,\"#000014\"],[0.4444444444444444,\"#000015\"],[0.5555555555555556,\"#000016\"],[0.6666666666666666,\"#000017\"],[0.7777777777777778,\"#000018\"],[0.8888888888888888,\"#000019\"],[1.0,\"#000020\"]]},\"legend\":{\"tracegroupgap\":0},\"margin\":{\"t\":60},\"barmode\":\"relative\"},                        {\"responsive\": true}                    ).then(function(){\n",
       "                            \n",
       "var gd = document.getElementById('fa03d298-9d6a-4695-a3fd-722b62f6617e');\n",
       "var x = new MutationObserver(function (mutations, observer) {{\n",
       "        var display = window.getComputedStyle(gd).display;\n",
       "        if (!display || display === 'none') {{\n",
       "            console.log([gd, 'removed!']);\n",
       "            Plotly.purge(gd);\n",
       "            observer.disconnect();\n",
       "        }}\n",
       "}});\n",
       "\n",
       "// Listen for the removal of the full notebook cells\n",
       "var notebookContainer = gd.closest('#notebook-container');\n",
       "if (notebookContainer) {{\n",
       "    x.observe(notebookContainer, {childList: true});\n",
       "}}\n",
       "\n",
       "// Listen for the clearing of the current output cell\n",
       "var outputEl = gd.closest('.output');\n",
       "if (outputEl) {{\n",
       "    x.observe(outputEl, {childList: true});\n",
       "}}\n",
       "\n",
       "                        })                };                });            </script>        </div>"
      ]
     },
     "metadata": {},
     "output_type": "display_data"
    }
   ],
   "source": [
    "graph1"
   ]
  },
  {
   "cell_type": "code",
   "execution_count": null,
   "id": "a7b0c423-9744-410f-970d-40b2be9279e7",
   "metadata": {},
   "outputs": [],
   "source": []
  }
 ],
 "metadata": {
  "kernelspec": {
   "display_name": "genai",
   "language": "python",
   "name": "genai"
  },
  "language_info": {
   "codemirror_mode": {
    "name": "ipython",
    "version": 3
   },
   "file_extension": ".py",
   "mimetype": "text/x-python",
   "name": "python",
   "nbconvert_exporter": "python",
   "pygments_lexer": "ipython3",
   "version": "3.11.5"
  }
 },
 "nbformat": 4,
 "nbformat_minor": 5
}
