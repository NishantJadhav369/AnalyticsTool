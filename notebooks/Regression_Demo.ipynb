{
 "cells": [
  {
   "cell_type": "code",
   "execution_count": 1,
   "id": "84309aa1-197b-4de1-a880-0723fdcebe07",
   "metadata": {},
   "outputs": [],
   "source": [
    "# Import necessary libraries\n",
    "import pandas as pd\n",
    "import numpy as np\n",
    "from sklearn.model_selection import train_test_split\n",
    "from sklearn.tree import DecisionTreeRegressor\n",
    "from sklearn.ensemble import RandomForestRegressor, GradientBoostingRegressor\n",
    "import catboost\n",
    "from catboost import CatBoostRegressor\n",
    "from sklearn.metrics import mean_squared_error, mean_absolute_error, r2_score\n",
    "import matplotlib.pyplot as plt\n",
    "from sklearn.linear_model import LinearRegression\n",
    "import seaborn as sns\n",
    "import plotly.express as px\n",
    "pd.set_option('display.max_columns', None)\n",
    "plt.rcParams[\"figure.figsize\"] = (20,4)\n",
    "%matplotlib inline"
   ]
  },
  {
   "cell_type": "markdown",
   "id": "1905c393-fc57-4e77-affb-5a89b17efb29",
   "metadata": {
    "tags": []
   },
   "source": [
    "## shortage cleaning"
   ]
  },
  {
   "cell_type": "code",
   "execution_count": 2,
   "id": "e628f608-a565-4cb7-b091-b6d23717aaf5",
   "metadata": {},
   "outputs": [
    {
     "name": "stdout",
     "output_type": "stream",
     "text": [
      "(15929, 43)\n"
     ]
    }
   ],
   "source": [
    "# Load your dataset\n",
    "# Replace 'your_dataset.csv' with the actual path or dataset name\n",
    "claims = pd.read_excel('../data/Shortage_cleaned.xlsx',dtype={'PHASE':str})\n",
    "print(claims.shape)"
   ]
  },
  {
   "cell_type": "code",
   "execution_count": 26,
   "id": "2f559076-c54d-4a18-b6e5-d15ef572fa52",
   "metadata": {
    "tags": []
   },
   "outputs": [
    {
     "name": "stdout",
     "output_type": "stream",
     "text": [
      "(15876, 23)\n"
     ]
    }
   ],
   "source": [
    "cols = [ 'UID', 'SHORTAGE', 'ORIGINAL_JOB_NUM', 'ORIGINAL_MFG_PLANT','PHASE', 'REASON','CUSTOMER_NAME','COMPANY','BRAND','Major Category','COMPLEXITY','OPL','Minor Category','RELEASE_DATE','GL_PERIOD','SQUAD','TEAM','BSR','SHORTAGE_COST_SPREAD','RELEASE_DATE_MONTH','GL_PERIOD_MONTH','RELEASE_DATE_YEAR','GL_PERIOD_YEAR']\n",
    "claims.rename(columns={'Major Category1':'Major Category'},inplace=True)\n",
    "claims.rename(columns={'Minor Category1':'Minor Category'},inplace=True)\n",
    "claims.rename(columns={'SQUAD1':'SQUAD'},inplace=True)\n",
    "claims.rename(columns={'TEAM1':'TEAM'},inplace=True)\n",
    "claims.rename(columns={'CHECKER1':'CHECKER'},inplace=True)\n",
    "claims.rename(columns={'DETAILER1':'DETAILER'},inplace=True)\n",
    "claims['RELEASE_DATE'] = pd.to_datetime(claims['RELEASE_DATE'])\n",
    "claims['GL_PERIOD'] = pd.to_datetime(claims['GL_PERIOD'])\n",
    "claims['RELEASE_DATE_MONTH'] = claims['RELEASE_DATE'].dt.month\n",
    "claims['GL_PERIOD_MONTH'] = claims['GL_PERIOD'].dt.month\n",
    "claims['RELEASE_DATE_YEAR'] = claims['RELEASE_DATE'].dt.year\n",
    "claims['GL_PERIOD_YEAR'] = claims['GL_PERIOD'].dt.year #.apply(lambda year: round(year))\n",
    "\n",
    "df = claims[cols].copy()\n",
    "df = df.dropna(subset=['SHORTAGE_COST_SPREAD'])\n",
    "df =df.fillna('missing')\n",
    "\n",
    "df = df.drop_duplicates()\n",
    "print(df.shape)"
   ]
  },
  {
   "cell_type": "code",
   "execution_count": 4,
   "id": "a144cd31-e271-4fd4-aa88-be034e16c4c8",
   "metadata": {},
   "outputs": [
    {
     "name": "stdout",
     "output_type": "stream",
     "text": [
      "(15876, 24)\n",
      "1.075002423028976 8.577081298942662\n",
      "(14750, 24)\n"
     ]
    },
    {
     "name": "stderr",
     "output_type": "stream",
     "text": [
      "C:\\Users\\NishantJadhav\\anaconda3\\lib\\site-packages\\pandas\\core\\arraylike.py:396: RuntimeWarning: invalid value encountered in log\n",
      "  result = getattr(ufunc, method)(*inputs, **kwargs)\n"
     ]
    },
    {
     "data": {
      "text/html": [
       "<div>\n",
       "<style scoped>\n",
       "    .dataframe tbody tr th:only-of-type {\n",
       "        vertical-align: middle;\n",
       "    }\n",
       "\n",
       "    .dataframe tbody tr th {\n",
       "        vertical-align: top;\n",
       "    }\n",
       "\n",
       "    .dataframe thead th {\n",
       "        text-align: right;\n",
       "    }\n",
       "</style>\n",
       "<table border=\"1\" class=\"dataframe\">\n",
       "  <thead>\n",
       "    <tr style=\"text-align: right;\">\n",
       "      <th></th>\n",
       "      <th>UID</th>\n",
       "      <th>SHORTAGE</th>\n",
       "      <th>ORIGINAL_JOB_NUM</th>\n",
       "      <th>ORIGINAL_MFG_PLANT</th>\n",
       "      <th>PHASE</th>\n",
       "      <th>REASON</th>\n",
       "      <th>CUSTOMER_NAME</th>\n",
       "      <th>COMPANY</th>\n",
       "      <th>BRAND</th>\n",
       "      <th>Major Category</th>\n",
       "      <th>COMPLEXITY</th>\n",
       "      <th>OPL</th>\n",
       "      <th>Minor Category</th>\n",
       "      <th>RELEASE_DATE</th>\n",
       "      <th>GL_PERIOD</th>\n",
       "      <th>SQUAD</th>\n",
       "      <th>TEAM</th>\n",
       "      <th>BSR</th>\n",
       "      <th>SHORTAGE_COST_SPREAD</th>\n",
       "      <th>RELEASE_DATE_MONTH</th>\n",
       "      <th>GL_PERIOD_MONTH</th>\n",
       "      <th>RELEASE_DATE_YEAR</th>\n",
       "      <th>GL_PERIOD_YEAR</th>\n",
       "      <th>logy_target</th>\n",
       "    </tr>\n",
       "  </thead>\n",
       "  <tbody>\n",
       "    <tr>\n",
       "      <th>4</th>\n",
       "      <td>18S559050101CECOElizabethton17B89685</td>\n",
       "      <td>18S55905</td>\n",
       "      <td>17B89685</td>\n",
       "      <td>Elizabethton</td>\n",
       "      <td>0101</td>\n",
       "      <td>0415 - Error due to Engineering Scheduling</td>\n",
       "      <td>BORRELLI METAL BUILDINGS</td>\n",
       "      <td>CECO BUILDING SYSTEMS</td>\n",
       "      <td>CECO</td>\n",
       "      <td>Comm Ops</td>\n",
       "      <td>8.0</td>\n",
       "      <td>PENNAR</td>\n",
       "      <td>Eng. Scheduling</td>\n",
       "      <td>2022-02-22 00:00:00</td>\n",
       "      <td>2022-08-23</td>\n",
       "      <td>PENNAR</td>\n",
       "      <td>PENNAR</td>\n",
       "      <td>CARRIE SCHAFER</td>\n",
       "      <td>760.0</td>\n",
       "      <td>2.0</td>\n",
       "      <td>8.0</td>\n",
       "      <td>2022.0</td>\n",
       "      <td>2022.0</td>\n",
       "      <td>6.63345</td>\n",
       "    </tr>\n",
       "  </tbody>\n",
       "</table>\n",
       "</div>"
      ],
      "text/plain": [
       "                                    UID  SHORTAGE ORIGINAL_JOB_NUM  \\\n",
       "4  18S559050101CECOElizabethton17B89685  18S55905         17B89685   \n",
       "\n",
       "  ORIGINAL_MFG_PLANT PHASE                                      REASON  \\\n",
       "4       Elizabethton  0101  0415 - Error due to Engineering Scheduling   \n",
       "\n",
       "              CUSTOMER_NAME                COMPANY BRAND Major Category  \\\n",
       "4  BORRELLI METAL BUILDINGS  CECO BUILDING SYSTEMS  CECO       Comm Ops   \n",
       "\n",
       "  COMPLEXITY     OPL   Minor Category         RELEASE_DATE  GL_PERIOD   SQUAD  \\\n",
       "4        8.0  PENNAR  Eng. Scheduling  2022-02-22 00:00:00 2022-08-23  PENNAR   \n",
       "\n",
       "     TEAM             BSR  SHORTAGE_COST_SPREAD RELEASE_DATE_MONTH  \\\n",
       "4  PENNAR  CARRIE SCHAFER                 760.0                2.0   \n",
       "\n",
       "   GL_PERIOD_MONTH RELEASE_DATE_YEAR  GL_PERIOD_YEAR  logy_target  \n",
       "4              8.0            2022.0          2022.0      6.63345  "
      ]
     },
     "execution_count": 4,
     "metadata": {},
     "output_type": "execute_result"
    }
   ],
   "source": [
    "df['logy_target'] = np.log(df['SHORTAGE_COST_SPREAD'] + 0.1)\n",
    "target = 'logy_target'\n",
    "print(df.shape)\n",
    "upper_limit =df[target].quantile(0.975)\n",
    "lower_limit = df[target].quantile(0.025)\n",
    "print(lower_limit,upper_limit)\n",
    "df = df[(df[target] >= lower_limit) & (df[target] <= upper_limit)]\n",
    "print(df.shape)\n",
    "df.head(1)"
   ]
  },
  {
   "cell_type": "code",
   "execution_count": 5,
   "id": "a1e0aa75-88c8-41ea-9641-96937e9aee4c",
   "metadata": {},
   "outputs": [
    {
     "data": {
      "text/plain": [
       "<Axes: >"
      ]
     },
     "execution_count": 5,
     "metadata": {},
     "output_type": "execute_result"
    },
    {
     "data": {
      "image/png": "[encoded data removed]",
      "text/plain": [
       "<Figure size 2000x400 with 1 Axes>"
      ]
     },
     "metadata": {},
     "output_type": "display_data"
    }
   ],
   "source": [
    "df[target].hist(bins=100)"
   ]
  },
  {
   "cell_type": "code",
   "execution_count": 6,
   "id": "d78539d1-a621-4730-a64a-c390d2c5ec6f",
   "metadata": {},
   "outputs": [
    {
     "data": {
      "text/html": [
       "<div>\n",
       "<style scoped>\n",
       "    .dataframe tbody tr th:only-of-type {\n",
       "        vertical-align: middle;\n",
       "    }\n",
       "\n",
       "    .dataframe tbody tr th {\n",
       "        vertical-align: top;\n",
       "    }\n",
       "\n",
       "    .dataframe thead th {\n",
       "        text-align: right;\n",
       "    }\n",
       "</style>\n",
       "<table border=\"1\" class=\"dataframe\">\n",
       "  <thead>\n",
       "    <tr style=\"text-align: right;\">\n",
       "      <th></th>\n",
       "      <th>UID</th>\n",
       "      <th>SHORTAGE</th>\n",
       "      <th>ORIGINAL_JOB_NUM</th>\n",
       "      <th>ORIGINAL_MFG_PLANT</th>\n",
       "      <th>PHASE</th>\n",
       "      <th>REASON</th>\n",
       "      <th>CUSTOMER_NAME</th>\n",
       "      <th>COMPANY</th>\n",
       "      <th>BRAND</th>\n",
       "      <th>Major Category</th>\n",
       "      <th>COMPLEXITY</th>\n",
       "      <th>OPL</th>\n",
       "      <th>Minor Category</th>\n",
       "      <th>RELEASE_DATE</th>\n",
       "      <th>GL_PERIOD</th>\n",
       "      <th>SQUAD</th>\n",
       "      <th>TEAM</th>\n",
       "      <th>BSR</th>\n",
       "      <th>SHORTAGE_COST_SPREAD</th>\n",
       "      <th>RELEASE_DATE_MONTH</th>\n",
       "      <th>GL_PERIOD_MONTH</th>\n",
       "      <th>RELEASE_DATE_YEAR</th>\n",
       "      <th>GL_PERIOD_YEAR</th>\n",
       "      <th>logy_target</th>\n",
       "    </tr>\n",
       "  </thead>\n",
       "  <tbody>\n",
       "    <tr>\n",
       "      <th>4</th>\n",
       "      <td>18S559050101CECOElizabethton17B89685</td>\n",
       "      <td>18S55905</td>\n",
       "      <td>17B89685</td>\n",
       "      <td>Elizabethton</td>\n",
       "      <td>0101</td>\n",
       "      <td>0415 - Error due to Engineering Scheduling</td>\n",
       "      <td>BORRELLI METAL BUILDINGS</td>\n",
       "      <td>CECO BUILDING SYSTEMS</td>\n",
       "      <td>CECO</td>\n",
       "      <td>Comm Ops</td>\n",
       "      <td>8.0</td>\n",
       "      <td>PENNAR</td>\n",
       "      <td>Eng. Scheduling</td>\n",
       "      <td>2022-02-22 00:00:00</td>\n",
       "      <td>2022-08-23</td>\n",
       "      <td>PENNAR</td>\n",
       "      <td>PENNAR</td>\n",
       "      <td>CARRIE SCHAFER</td>\n",
       "      <td>760.0</td>\n",
       "      <td>2.0</td>\n",
       "      <td>8.0</td>\n",
       "      <td>2022.0</td>\n",
       "      <td>2022.0</td>\n",
       "      <td>6.63345</td>\n",
       "    </tr>\n",
       "  </tbody>\n",
       "</table>\n",
       "</div>"
      ],
      "text/plain": [
       "                                    UID  SHORTAGE ORIGINAL_JOB_NUM  \\\n",
       "4  18S559050101CECOElizabethton17B89685  18S55905         17B89685   \n",
       "\n",
       "  ORIGINAL_MFG_PLANT PHASE                                      REASON  \\\n",
       "4       Elizabethton  0101  0415 - Error due to Engineering Scheduling   \n",
       "\n",
       "              CUSTOMER_NAME                COMPANY BRAND Major Category  \\\n",
       "4  BORRELLI METAL BUILDINGS  CECO BUILDING SYSTEMS  CECO       Comm Ops   \n",
       "\n",
       "  COMPLEXITY     OPL   Minor Category         RELEASE_DATE  GL_PERIOD   SQUAD  \\\n",
       "4        8.0  PENNAR  Eng. Scheduling  2022-02-22 00:00:00 2022-08-23  PENNAR   \n",
       "\n",
       "     TEAM             BSR  SHORTAGE_COST_SPREAD RELEASE_DATE_MONTH  \\\n",
       "4  PENNAR  CARRIE SCHAFER                 760.0                2.0   \n",
       "\n",
       "   GL_PERIOD_MONTH RELEASE_DATE_YEAR  GL_PERIOD_YEAR  logy_target  \n",
       "4              8.0            2022.0          2022.0      6.63345  "
      ]
     },
     "execution_count": 6,
     "metadata": {},
     "output_type": "execute_result"
    }
   ],
   "source": [
    "df.head(1)"
   ]
  },
  {
   "cell_type": "code",
   "execution_count": null,
   "id": "049dcdd0-92ca-4505-9c30-584298047108",
   "metadata": {
    "tags": []
   },
   "outputs": [],
   "source": [
    "# print(len(sure_steel))\n",
    "# temp['Major Category'] = sure_steel['Major Category1'] +'_' + sure_steel['Major Category2'].fillna('missing')\n",
    "# temp_df = temp['Major Category'].str.split(\"_\").explode().reset_index()\n",
    "# temp_df = temp_df[temp_df['Major Category']!='missing']\n",
    "# sure_steel = sure_steel.reset_index()\n",
    "# sure_steel =pd.merge(ss, temp_df, 'left',['index'])\n",
    "# sure_steel.drop(['Major Category1','Major Category2','index'],axis=1,inplace=True)\n",
    "# print(len(sure_steel))"
   ]
  },
  {
   "cell_type": "code",
   "execution_count": null,
   "id": "9f05756f-1553-49df-a1ec-b50d02cce46c",
   "metadata": {
    "tags": []
   },
   "outputs": [],
   "source": [
    "# print(len(sure_steel))\n",
    "# temp['Minor Category'] = sure_steel['Minor Category1'] +'_' + sure_steel['Minor Category2'].fillna('missing')\n",
    "# temp_df = temp['Minor Category'].str.split(\"_\").explode().reset_index()\n",
    "# temp_df = temp_df[temp_df['Minor Category']!='missing']\n",
    "# sure_steel = sure_steel.reset_index()\n",
    "# sure_steel =pd.merge(ss, temp_df, 'left',['index'])\n",
    "# sure_steel.drop(['Minor Category1','Minor Category2','index'],axis=1,inplace=True)\n",
    "# print(len(sure_steel))"
   ]
  },
  {
   "cell_type": "markdown",
   "id": "826c2bf6-6ff5-41b1-8b06-6b619b64a5e4",
   "metadata": {
    "tags": []
   },
   "source": [
    "## Merge Shipping data and QC"
   ]
  },
  {
   "cell_type": "code",
   "execution_count": 7,
   "id": "54c3f475-aafb-4426-8bd9-35fa37898d96",
   "metadata": {},
   "outputs": [
    {
     "data": {
      "text/html": [
       "<div>\n",
       "<style scoped>\n",
       "    .dataframe tbody tr th:only-of-type {\n",
       "        vertical-align: middle;\n",
       "    }\n",
       "\n",
       "    .dataframe tbody tr th {\n",
       "        vertical-align: top;\n",
       "    }\n",
       "\n",
       "    .dataframe thead th {\n",
       "        text-align: right;\n",
       "    }\n",
       "</style>\n",
       "<table border=\"1\" class=\"dataframe\">\n",
       "  <thead>\n",
       "    <tr style=\"text-align: right;\">\n",
       "      <th></th>\n",
       "      <th>UID</th>\n",
       "      <th>SHORTAGE</th>\n",
       "      <th>ORIGINAL_JOB_NUM</th>\n",
       "      <th>PHASE</th>\n",
       "      <th>BRAND</th>\n",
       "      <th>ORIGINAL_MFG_PLANT</th>\n",
       "      <th>REASON</th>\n",
       "      <th>PIECEMARK</th>\n",
       "      <th>DESCRIPTION</th>\n",
       "      <th>INTERNAL_COMMENTS</th>\n",
       "      <th>MATERIAL_TYPE</th>\n",
       "      <th>DEPARTMENT_RESPONSIBLE</th>\n",
       "      <th>SALES_REGION_ID</th>\n",
       "      <th>SALES_DISTRICT_ID</th>\n",
       "      <th>CUSTOMER_ISSUE</th>\n",
       "      <th>SL_DRFT_TEAM_NAME</th>\n",
       "      <th>DATE_SHORTAGE_SHIPPED</th>\n",
       "      <th>DATE_CLAIM_RECEIVED</th>\n",
       "      <th>QUANTITY</th>\n",
       "      <th>FREIGHT_COST</th>\n",
       "      <th>COST_LABOR_MATERIAL</th>\n",
       "      <th>SHORT_SHIPPED COMPLETE</th>\n",
       "    </tr>\n",
       "  </thead>\n",
       "  <tbody>\n",
       "    <tr>\n",
       "      <th>0</th>\n",
       "      <td>17S923490101CECOElizabethton17B76955</td>\n",
       "      <td>17S92349</td>\n",
       "      <td>17B76955</td>\n",
       "      <td>0101</td>\n",
       "      <td>CECO</td>\n",
       "      <td>Elizabethton</td>\n",
       "      <td>0602 - Material Lost or Damaged in Transit, NC...</td>\n",
       "      <td>FB4A</td>\n",
       "      <td>Flg Brace 2 X 2 X .070 (Blocked)</td>\n",
       "      <td>SHORT  A TOTAL OF 12 SHIPPED SHORT</td>\n",
       "      <td>COLD FORM (C's, Z's, HATS, BENT ANGLES, KIB's)</td>\n",
       "      <td>602</td>\n",
       "      <td>C400</td>\n",
       "      <td>C413</td>\n",
       "      <td>Project Notes:\\n\\n1.  Match Frame Line Marking...</td>\n",
       "      <td>MEXICO</td>\n",
       "      <td>2021-01-07 18:00:00</td>\n",
       "      <td>2021-01-05 12:07:29</td>\n",
       "      <td>12</td>\n",
       "      <td>4.51</td>\n",
       "      <td>0.38</td>\n",
       "      <td>2021-01-07 18:00:00</td>\n",
       "    </tr>\n",
       "  </tbody>\n",
       "</table>\n",
       "</div>"
      ],
      "text/plain": [
       "                                    UID  SHORTAGE ORIGINAL_JOB_NUM PHASE  \\\n",
       "0  17S923490101CECOElizabethton17B76955  17S92349         17B76955  0101   \n",
       "\n",
       "  BRAND ORIGINAL_MFG_PLANT                                             REASON  \\\n",
       "0  CECO       Elizabethton  0602 - Material Lost or Damaged in Transit, NC...   \n",
       "\n",
       "  PIECEMARK                       DESCRIPTION  \\\n",
       "0      FB4A  Flg Brace 2 X 2 X .070 (Blocked)   \n",
       "\n",
       "                    INTERNAL_COMMENTS  \\\n",
       "0  SHORT  A TOTAL OF 12 SHIPPED SHORT   \n",
       "\n",
       "                                    MATERIAL_TYPE DEPARTMENT_RESPONSIBLE  \\\n",
       "0  COLD FORM (C's, Z's, HATS, BENT ANGLES, KIB's)                    602   \n",
       "\n",
       "  SALES_REGION_ID SALES_DISTRICT_ID  \\\n",
       "0            C400              C413   \n",
       "\n",
       "                                      CUSTOMER_ISSUE SL_DRFT_TEAM_NAME  \\\n",
       "0  Project Notes:\\n\\n1.  Match Frame Line Marking...            MEXICO   \n",
       "\n",
       "  DATE_SHORTAGE_SHIPPED DATE_CLAIM_RECEIVED  QUANTITY  FREIGHT_COST  \\\n",
       "0   2021-01-07 18:00:00 2021-01-05 12:07:29        12          4.51   \n",
       "\n",
       "   COST_LABOR_MATERIAL SHORT_SHIPPED COMPLETE  \n",
       "0                 0.38    2021-01-07 18:00:00  "
      ]
     },
     "execution_count": 7,
     "metadata": {},
     "output_type": "execute_result"
    }
   ],
   "source": [
    "ship_shortage = pd.read_excel('../data/Shipping_Shortage_cleaned.xlsx')\n",
    "ship_shortage.rename(columns={'SHORTAGE_TYPE':'REASON'},inplace=True)\n",
    "ship_shortage.head(1)"
   ]
  },
  {
   "cell_type": "code",
   "execution_count": 8,
   "id": "2f7a688a-35ef-4939-a0fd-ae9717c3d319",
   "metadata": {},
   "outputs": [
    {
     "data": {
      "text/html": [
       "<div>\n",
       "<style scoped>\n",
       "    .dataframe tbody tr th:only-of-type {\n",
       "        vertical-align: middle;\n",
       "    }\n",
       "\n",
       "    .dataframe tbody tr th {\n",
       "        vertical-align: top;\n",
       "    }\n",
       "\n",
       "    .dataframe thead th {\n",
       "        text-align: right;\n",
       "    }\n",
       "</style>\n",
       "<table border=\"1\" class=\"dataframe\">\n",
       "  <thead>\n",
       "    <tr style=\"text-align: right;\">\n",
       "      <th></th>\n",
       "      <th>UID</th>\n",
       "      <th>SHORTAGE</th>\n",
       "      <th>REASON</th>\n",
       "      <th>ORIGINAL_JOB_NUM</th>\n",
       "      <th>PIECEMARK</th>\n",
       "      <th>SALES_REGION_ID</th>\n",
       "      <th>SALES_DISTRICT_ID</th>\n",
       "      <th>DEPARTMENT_RESPONSIBLE</th>\n",
       "      <th>QUANTITY</th>\n",
       "    </tr>\n",
       "  </thead>\n",
       "  <tbody>\n",
       "    <tr>\n",
       "      <th>0</th>\n",
       "      <td>17S923490101CECOElizabethton17B76955</td>\n",
       "      <td>17S92349</td>\n",
       "      <td>0602 - Material Lost or Damaged in Transit, NC...</td>\n",
       "      <td>17B76955</td>\n",
       "      <td>FB4A</td>\n",
       "      <td>C400</td>\n",
       "      <td>C413</td>\n",
       "      <td>602</td>\n",
       "      <td>12</td>\n",
       "    </tr>\n",
       "  </tbody>\n",
       "</table>\n",
       "</div>"
      ],
      "text/plain": [
       "                                    UID  SHORTAGE  \\\n",
       "0  17S923490101CECOElizabethton17B76955  17S92349   \n",
       "\n",
       "                                              REASON ORIGINAL_JOB_NUM  \\\n",
       "0  0602 - Material Lost or Damaged in Transit, NC...         17B76955   \n",
       "\n",
       "  PIECEMARK SALES_REGION_ID SALES_DISTRICT_ID DEPARTMENT_RESPONSIBLE  QUANTITY  \n",
       "0      FB4A            C400              C413                    602        12  "
      ]
     },
     "execution_count": 8,
     "metadata": {},
     "output_type": "execute_result"
    }
   ],
   "source": [
    "ship_cols_sel = ['UID','SHORTAGE','REASON','ORIGINAL_JOB_NUM','PIECEMARK','SALES_REGION_ID','SALES_DISTRICT_ID','DEPARTMENT_RESPONSIBLE','QUANTITY']\n",
    "ship = ship_shortage[ship_cols_sel].copy()\n",
    "ship.head(1)"
   ]
  },
  {
   "cell_type": "code",
   "execution_count": 9,
   "id": "a067d740-ea28-43e6-b93e-eca48ef82811",
   "metadata": {},
   "outputs": [
    {
     "name": "stdout",
     "output_type": "stream",
     "text": [
      "(48266, 9)\n",
      "(48266, 9)\n"
     ]
    }
   ],
   "source": [
    "print(ship.shape)\n",
    "ship = ship.drop_duplicates()\n",
    "print(ship.shape)"
   ]
  },
  {
   "cell_type": "code",
   "execution_count": 10,
   "id": "36b9a559-a70d-44a9-a6c0-437dd0145284",
   "metadata": {},
   "outputs": [],
   "source": [
    "overlap = ['SHORTAGE','ORIGINAL_JOB_NUM','REASON']"
   ]
  },
  {
   "cell_type": "code",
   "execution_count": 11,
   "id": "4b78e1ef-468c-4d35-9338-c04fd43ecf60",
   "metadata": {},
   "outputs": [
    {
     "data": {
      "text/html": [
       "<div>\n",
       "<style scoped>\n",
       "    .dataframe tbody tr th:only-of-type {\n",
       "        vertical-align: middle;\n",
       "    }\n",
       "\n",
       "    .dataframe tbody tr th {\n",
       "        vertical-align: top;\n",
       "    }\n",
       "\n",
       "    .dataframe thead th {\n",
       "        text-align: right;\n",
       "    }\n",
       "</style>\n",
       "<table border=\"1\" class=\"dataframe\">\n",
       "  <thead>\n",
       "    <tr style=\"text-align: right;\">\n",
       "      <th></th>\n",
       "      <th>UID</th>\n",
       "      <th>SHORTAGE</th>\n",
       "      <th>REASON</th>\n",
       "      <th>ORIGINAL_JOB_NUM</th>\n",
       "      <th>PIECEMARK</th>\n",
       "      <th>SALES_REGION_ID</th>\n",
       "      <th>SALES_DISTRICT_ID</th>\n",
       "      <th>DEPARTMENT_RESPONSIBLE</th>\n",
       "      <th>QUANTITY</th>\n",
       "    </tr>\n",
       "  </thead>\n",
       "  <tbody>\n",
       "    <tr>\n",
       "      <th>0</th>\n",
       "      <td>17S923490101CECOElizabethton17B76955</td>\n",
       "      <td>17S92349</td>\n",
       "      <td>0602 - Material Lost or Damaged in Transit, NC...</td>\n",
       "      <td>17B76955</td>\n",
       "      <td>FB4A</td>\n",
       "      <td>C400</td>\n",
       "      <td>C413</td>\n",
       "      <td>602</td>\n",
       "      <td>12</td>\n",
       "    </tr>\n",
       "  </tbody>\n",
       "</table>\n",
       "</div>"
      ],
      "text/plain": [
       "                                    UID  SHORTAGE  \\\n",
       "0  17S923490101CECOElizabethton17B76955  17S92349   \n",
       "\n",
       "                                              REASON ORIGINAL_JOB_NUM  \\\n",
       "0  0602 - Material Lost or Damaged in Transit, NC...         17B76955   \n",
       "\n",
       "  PIECEMARK SALES_REGION_ID SALES_DISTRICT_ID DEPARTMENT_RESPONSIBLE  QUANTITY  \n",
       "0      FB4A            C400              C413                    602        12  "
      ]
     },
     "execution_count": 11,
     "metadata": {},
     "output_type": "execute_result"
    }
   ],
   "source": [
    "ship.head(1)"
   ]
  },
  {
   "cell_type": "code",
   "execution_count": 12,
   "id": "c7b7b013-32bb-41de-9729-feb1b17dec90",
   "metadata": {},
   "outputs": [
    {
     "name": "stdout",
     "output_type": "stream",
     "text": [
      "(15929, 3)\n"
     ]
    },
    {
     "data": {
      "text/plain": [
       "(12512, 3)"
      ]
     },
     "execution_count": 12,
     "metadata": {},
     "output_type": "execute_result"
    }
   ],
   "source": [
    "df2 = claims[['SHORTAGE','REASON','ORIGINAL_JOB_NUM']]\n",
    "print(df2.shape)\n",
    "df2 = df2.drop_duplicates()\n",
    "df2.shape"
   ]
  },
  {
   "cell_type": "code",
   "execution_count": 13,
   "id": "bf0ac300-a04a-47c8-b79c-32dceda9dac1",
   "metadata": {},
   "outputs": [
    {
     "name": "stdout",
     "output_type": "stream",
     "text": [
      "(21558, 5)\n"
     ]
    },
    {
     "data": {
      "text/html": [
       "<div>\n",
       "<style scoped>\n",
       "    .dataframe tbody tr th:only-of-type {\n",
       "        vertical-align: middle;\n",
       "    }\n",
       "\n",
       "    .dataframe tbody tr th {\n",
       "        vertical-align: top;\n",
       "    }\n",
       "\n",
       "    .dataframe thead th {\n",
       "        text-align: right;\n",
       "    }\n",
       "</style>\n",
       "<table border=\"1\" class=\"dataframe\">\n",
       "  <thead>\n",
       "    <tr style=\"text-align: right;\">\n",
       "      <th></th>\n",
       "      <th>SHORTAGE</th>\n",
       "      <th>REASON</th>\n",
       "      <th>ORIGINAL_JOB_NUM</th>\n",
       "      <th>SALES_REGION_ID</th>\n",
       "      <th>SALES_DISTRICT_ID</th>\n",
       "    </tr>\n",
       "  </thead>\n",
       "  <tbody>\n",
       "    <tr>\n",
       "      <th>0</th>\n",
       "      <td>17S92349</td>\n",
       "      <td>0602 - Material Lost or Damaged in Transit, NC...</td>\n",
       "      <td>17B76955</td>\n",
       "      <td>C400</td>\n",
       "      <td>C413</td>\n",
       "    </tr>\n",
       "    <tr>\n",
       "      <th>3</th>\n",
       "      <td>17S90763</td>\n",
       "      <td>0807 - B &amp; S Accessories</td>\n",
       "      <td>17B78021</td>\n",
       "      <td>S800</td>\n",
       "      <td>S801</td>\n",
       "    </tr>\n",
       "    <tr>\n",
       "      <th>5</th>\n",
       "      <td>17S90763</td>\n",
       "      <td>0403 - Parts Billed Insufficient Quantity</td>\n",
       "      <td>17B78021</td>\n",
       "      <td>S800</td>\n",
       "      <td>S801</td>\n",
       "    </tr>\n",
       "    <tr>\n",
       "      <th>6</th>\n",
       "      <td>17S93322</td>\n",
       "      <td>0602 - Material Lost or Damaged in Transit, NC...</td>\n",
       "      <td>17B65461</td>\n",
       "      <td>C500</td>\n",
       "      <td>C508</td>\n",
       "    </tr>\n",
       "    <tr>\n",
       "      <th>7</th>\n",
       "      <td>18S21502</td>\n",
       "      <td>0406 - Material Billed or Detailed to Incorrec...</td>\n",
       "      <td>17B71309</td>\n",
       "      <td>S400</td>\n",
       "      <td>S408</td>\n",
       "    </tr>\n",
       "  </tbody>\n",
       "</table>\n",
       "</div>"
      ],
      "text/plain": [
       "   SHORTAGE                                             REASON  \\\n",
       "0  17S92349  0602 - Material Lost or Damaged in Transit, NC...   \n",
       "3  17S90763                           0807 - B & S Accessories   \n",
       "5  17S90763          0403 - Parts Billed Insufficient Quantity   \n",
       "6  17S93322  0602 - Material Lost or Damaged in Transit, NC...   \n",
       "7  18S21502  0406 - Material Billed or Detailed to Incorrec...   \n",
       "\n",
       "  ORIGINAL_JOB_NUM SALES_REGION_ID SALES_DISTRICT_ID  \n",
       "0         17B76955            C400              C413  \n",
       "3         17B78021            S800              S801  \n",
       "5         17B78021            S800              S801  \n",
       "6         17B65461            C500              C508  \n",
       "7         17B71309            S400              S408  "
      ]
     },
     "execution_count": 13,
     "metadata": {},
     "output_type": "execute_result"
    }
   ],
   "source": [
    "ship2 = ship[['SHORTAGE','REASON','ORIGINAL_JOB_NUM','SALES_REGION_ID','SALES_DISTRICT_ID']]\n",
    "ship2 = ship2.drop_duplicates()\n",
    "print(ship2.shape)\n",
    "ship2.head()"
   ]
  },
  {
   "cell_type": "code",
   "execution_count": 14,
   "id": "2bca45df-9eb7-4035-809e-80e8d39ab93a",
   "metadata": {},
   "outputs": [],
   "source": [
    "t1 = claims.groupby(['SHORTAGE','REASON','ORIGINAL_JOB_NUM'])['SHORTAGE_COST_SPREAD'].nunique().sort_values().reset_index()"
   ]
  },
  {
   "cell_type": "code",
   "execution_count": 15,
   "id": "226b72de-bb04-41ac-a4f5-7d55687f897b",
   "metadata": {},
   "outputs": [
    {
     "data": {
      "text/html": [
       "<div>\n",
       "<style scoped>\n",
       "    .dataframe tbody tr th:only-of-type {\n",
       "        vertical-align: middle;\n",
       "    }\n",
       "\n",
       "    .dataframe tbody tr th {\n",
       "        vertical-align: top;\n",
       "    }\n",
       "\n",
       "    .dataframe thead th {\n",
       "        text-align: right;\n",
       "    }\n",
       "</style>\n",
       "<table border=\"1\" class=\"dataframe\">\n",
       "  <thead>\n",
       "    <tr style=\"text-align: right;\">\n",
       "      <th></th>\n",
       "      <th>SHORTAGE</th>\n",
       "      <th>REASON</th>\n",
       "      <th>ORIGINAL_JOB_NUM</th>\n",
       "      <th>SHORTAGE_COST_SPREAD</th>\n",
       "    </tr>\n",
       "  </thead>\n",
       "  <tbody>\n",
       "    <tr>\n",
       "      <th>11698</th>\n",
       "      <td>19S42514</td>\n",
       "      <td>1102 - Allowance by V. P. Sales</td>\n",
       "      <td>18B32231</td>\n",
       "      <td>2</td>\n",
       "    </tr>\n",
       "  </tbody>\n",
       "</table>\n",
       "</div>"
      ],
      "text/plain": [
       "       SHORTAGE                           REASON ORIGINAL_JOB_NUM  \\\n",
       "11698  19S42514  1102 - Allowance by V. P. Sales         18B32231   \n",
       "\n",
       "       SHORTAGE_COST_SPREAD  \n",
       "11698                     2  "
      ]
     },
     "execution_count": 15,
     "metadata": {},
     "output_type": "execute_result"
    }
   ],
   "source": [
    "t1[t1.SHORTAGE == '19S42514']"
   ]
  },
  {
   "cell_type": "code",
   "execution_count": 16,
   "id": "9bd89ab7-9a0d-4f2c-a145-aa4bb3b527f3",
   "metadata": {},
   "outputs": [
    {
     "data": {
      "text/plain": [
       "(12512, 5)"
      ]
     },
     "execution_count": 16,
     "metadata": {},
     "output_type": "execute_result"
    }
   ],
   "source": [
    "merged2 = pd.merge(df2,ship2,'left',on=overlap)\n",
    "merged2.shape"
   ]
  },
  {
   "cell_type": "code",
   "execution_count": 17,
   "id": "cb7a8922-48b3-49fd-8e90-d66328135181",
   "metadata": {},
   "outputs": [
    {
     "data": {
      "text/html": [
       "<div>\n",
       "<style scoped>\n",
       "    .dataframe tbody tr th:only-of-type {\n",
       "        vertical-align: middle;\n",
       "    }\n",
       "\n",
       "    .dataframe tbody tr th {\n",
       "        vertical-align: top;\n",
       "    }\n",
       "\n",
       "    .dataframe thead th {\n",
       "        text-align: right;\n",
       "    }\n",
       "</style>\n",
       "<table border=\"1\" class=\"dataframe\">\n",
       "  <thead>\n",
       "    <tr style=\"text-align: right;\">\n",
       "      <th></th>\n",
       "      <th>UID</th>\n",
       "      <th>SHORTAGE</th>\n",
       "      <th>ORIGINAL_JOB_NUM</th>\n",
       "      <th>ORIGINAL_MFG_PLANT</th>\n",
       "      <th>PHASE</th>\n",
       "      <th>REASON</th>\n",
       "      <th>CUSTOMER_NAME</th>\n",
       "      <th>COMPANY</th>\n",
       "      <th>BRAND</th>\n",
       "      <th>Major Category</th>\n",
       "      <th>COMPLEXITY</th>\n",
       "      <th>OPL</th>\n",
       "      <th>Minor Category</th>\n",
       "      <th>RELEASE_DATE</th>\n",
       "      <th>GL_PERIOD</th>\n",
       "      <th>SQUAD</th>\n",
       "      <th>TEAM</th>\n",
       "      <th>BSR</th>\n",
       "      <th>SHORTAGE_COST_SPREAD</th>\n",
       "      <th>RELEASE_DATE_MONTH</th>\n",
       "      <th>GL_PERIOD_MONTH</th>\n",
       "      <th>RELEASE_DATE_YEAR</th>\n",
       "      <th>GL_PERIOD_YEAR</th>\n",
       "      <th>logy_target</th>\n",
       "    </tr>\n",
       "  </thead>\n",
       "  <tbody>\n",
       "    <tr>\n",
       "      <th>14154</th>\n",
       "      <td>19S425140101STARMonticello18B32231</td>\n",
       "      <td>19S42514</td>\n",
       "      <td>18B32231</td>\n",
       "      <td>Monticello</td>\n",
       "      <td>0101</td>\n",
       "      <td>1102 - Allowance by V. P. Sales</td>\n",
       "      <td>FURNITURE ROW USA LLC DENVER</td>\n",
       "      <td>STAR BUILDING SYSTEMS</td>\n",
       "      <td>STAR</td>\n",
       "      <td>Sales</td>\n",
       "      <td>10.0</td>\n",
       "      <td>NA Contractor</td>\n",
       "      <td>Goodwill</td>\n",
       "      <td>2022-05-06 00:00:00</td>\n",
       "      <td>2023-11-23</td>\n",
       "      <td>H&amp;H</td>\n",
       "      <td>H&amp;H</td>\n",
       "      <td>MIKE DRAGER</td>\n",
       "      <td>2328.46</td>\n",
       "      <td>5.0</td>\n",
       "      <td>11.0</td>\n",
       "      <td>2022.0</td>\n",
       "      <td>2023.0</td>\n",
       "      <td>7.753005</td>\n",
       "    </tr>\n",
       "  </tbody>\n",
       "</table>\n",
       "</div>"
      ],
      "text/plain": [
       "                                      UID  SHORTAGE ORIGINAL_JOB_NUM  \\\n",
       "14154  19S425140101STARMonticello18B32231  19S42514         18B32231   \n",
       "\n",
       "      ORIGINAL_MFG_PLANT PHASE                           REASON  \\\n",
       "14154         Monticello  0101  1102 - Allowance by V. P. Sales   \n",
       "\n",
       "                      CUSTOMER_NAME                COMPANY BRAND  \\\n",
       "14154  FURNITURE ROW USA LLC DENVER  STAR BUILDING SYSTEMS  STAR   \n",
       "\n",
       "      Major Category COMPLEXITY            OPL Minor Category  \\\n",
       "14154          Sales       10.0  NA Contractor       Goodwill   \n",
       "\n",
       "              RELEASE_DATE  GL_PERIOD SQUAD TEAM          BSR  \\\n",
       "14154  2022-05-06 00:00:00 2023-11-23   H&H  H&H  MIKE DRAGER   \n",
       "\n",
       "       SHORTAGE_COST_SPREAD RELEASE_DATE_MONTH  GL_PERIOD_MONTH  \\\n",
       "14154               2328.46                5.0             11.0   \n",
       "\n",
       "      RELEASE_DATE_YEAR  GL_PERIOD_YEAR  logy_target  \n",
       "14154            2022.0          2023.0     7.753005  "
      ]
     },
     "execution_count": 17,
     "metadata": {},
     "output_type": "execute_result"
    }
   ],
   "source": [
    "df[df.SHORTAGE == '19S42514']"
   ]
  },
  {
   "cell_type": "code",
   "execution_count": 18,
   "id": "fc05ed16-9967-48c3-bbeb-777d136c1734",
   "metadata": {},
   "outputs": [],
   "source": [
    "text_based = pd.read_csv('../data/all_shortage_notes_damaged_component_gpt4.csv')"
   ]
  },
  {
   "cell_type": "code",
   "execution_count": 19,
   "id": "7ddbf0b7-7bfa-4355-a960-8beff47b02c1",
   "metadata": {},
   "outputs": [
    {
     "data": {
      "text/plain": [
       "(12472, 6)"
      ]
     },
     "execution_count": 19,
     "metadata": {},
     "output_type": "execute_result"
    }
   ],
   "source": [
    "text_based.shape"
   ]
  },
  {
   "cell_type": "code",
   "execution_count": 20,
   "id": "002f33e1-0ff4-4601-963d-4e2b3bd47600",
   "metadata": {},
   "outputs": [
    {
     "data": {
      "text/plain": [
       "(12512, 6)"
      ]
     },
     "execution_count": 20,
     "metadata": {},
     "output_type": "execute_result"
    }
   ],
   "source": [
    "merged2['ID_JOB'] = merged2['SHORTAGE'] + merged2['ORIGINAL_JOB_NUM'] + merged2['REASON']\n",
    "merged2.shape"
   ]
  },
  {
   "cell_type": "code",
   "execution_count": 21,
   "id": "5499ef9e-06f7-4329-bb7d-1ff58fa4911a",
   "metadata": {},
   "outputs": [
    {
     "data": {
      "text/plain": [
       "(12512, 10)"
      ]
     },
     "execution_count": 21,
     "metadata": {},
     "output_type": "execute_result"
    }
   ],
   "source": [
    "merged3 = pd.merge(merged2,text_based.loc[:, text_based.columns != 'REASON'],'left',on=['ID_JOB'])\n",
    "merged3 = merged3.fillna('missing')\n",
    "merged3['Claim Component'] = merged3['Claim Component'].str.strip('[]')\n",
    "merged3.shape"
   ]
  },
  {
   "cell_type": "code",
   "execution_count": 22,
   "id": "8ba38a7b-9271-4c65-8200-e397556b2fb4",
   "metadata": {},
   "outputs": [
    {
     "data": {
      "text/plain": [
       "(14750, 31)"
      ]
     },
     "execution_count": 22,
     "metadata": {},
     "output_type": "execute_result"
    }
   ],
   "source": [
    "merged4 = pd.merge(df,merged3,'left',on=['SHORTAGE','REASON','ORIGINAL_JOB_NUM'])\n",
    "merged4.shape"
   ]
  },
  {
   "cell_type": "code",
   "execution_count": 24,
   "id": "c2ef9f25-ce74-4759-840b-f480378af513",
   "metadata": {},
   "outputs": [
    {
     "name": "stdout",
     "output_type": "stream",
     "text": [
      "(48266, 5)\n",
      "(45505, 5)\n"
     ]
    }
   ],
   "source": [
    "pf = ship[['SHORTAGE','REASON','ORIGINAL_JOB_NUM','PIECEMARK','QUANTITY']]\n",
    "print(pf.shape)\n",
    "pf = pf.drop_duplicates()\n",
    "print(pf.shape)"
   ]
  },
  {
   "cell_type": "code",
   "execution_count": 25,
   "id": "05992847-ab68-4c48-bcc5-a113b9311c04",
   "metadata": {},
   "outputs": [
    {
     "name": "stdout",
     "output_type": "stream",
     "text": [
      "(26541, 8)\n"
     ]
    },
    {
     "data": {
      "text/plain": [
       "(26541, 8)"
      ]
     },
     "execution_count": 25,
     "metadata": {},
     "output_type": "execute_result"
    }
   ],
   "source": [
    "merged3 = pd.merge(merged2,pf,'left',overlap)\n",
    "print(merged3.shape)\n",
    "merged3 = merged3.drop_duplicates()\n",
    "merged3.shape"
   ]
  },
  {
   "cell_type": "code",
   "execution_count": null,
   "id": "e48e5f1a-e7b7-40e7-a804-2ca889dd5f1a",
   "metadata": {},
   "outputs": [],
   "source": [
    "merged3.to_excel('../data/ship_piecemark_region_district.xlsx',index=False)"
   ]
  },
  {
   "cell_type": "code",
   "execution_count": null,
   "id": "9f46f474-4fa6-4dfd-aea6-08c16ade35e0",
   "metadata": {},
   "outputs": [],
   "source": [
    "tp = merged3.groupby(['PIECEMARK'])['QUANTITY'].sum().sort_values(ascending=False).reset_index()[:5]"
   ]
  },
  {
   "cell_type": "code",
   "execution_count": null,
   "id": "fdeb1e25-f05d-4277-96f8-2a980318c289",
   "metadata": {},
   "outputs": [],
   "source": [
    "px.bar(tp,'PIECEMARK','QUANTITY')"
   ]
  },
  {
   "cell_type": "code",
   "execution_count": null,
   "id": "9ec415ea-cba3-49b5-8290-627b4197bd43",
   "metadata": {},
   "outputs": [],
   "source": [
    "df3 = ship.groupby(['SHORTAGE','ORIGINAL_JOB_NUM','REASON','PIECEMARK'])['QUANTITY'].sum().reset_index()\n",
    "df3.shape"
   ]
  },
  {
   "cell_type": "code",
   "execution_count": null,
   "id": "272ce314-402c-42c7-be32-098af95ecb51",
   "metadata": {},
   "outputs": [],
   "source": [
    "df4 = ship[['SHORTAGE','REASON','ORIGINAL_JOB_NUM','SALES_REGION_ID','SALES_DISTRICT_ID']].drop_duplicates()\n",
    "df4.shape"
   ]
  },
  {
   "cell_type": "code",
   "execution_count": null,
   "id": "1cd2fdad-9452-401d-b903-729e8e7e2a05",
   "metadata": {},
   "outputs": [],
   "source": [
    "ship.groupby(['SHORTAGE','REASON','ORIGINAL_JOB_NUM'])['SALES_DISTRICT_ID'].nunique().sort_values()"
   ]
  },
  {
   "cell_type": "code",
   "execution_count": null,
   "id": "53324f7e-bcb9-4bfb-8ee4-0c7e7de6df8c",
   "metadata": {},
   "outputs": [],
   "source": [
    "df3.shape"
   ]
  },
  {
   "cell_type": "code",
   "execution_count": null,
   "id": "76f20bfe-a2d5-4d9c-91a3-81ba71c3fd96",
   "metadata": {},
   "outputs": [],
   "source": [
    "ship[(ship.SHORTAGE == '18S55905') & (ship.ORIGINAL_JOB_NUM == '17B89685') & (ship.PIECEMARK == '1 LOT-0400') ]"
   ]
  },
  {
   "cell_type": "code",
   "execution_count": null,
   "id": "a755b7bb-e5d0-4926-8d4d-c775eff84a9c",
   "metadata": {},
   "outputs": [],
   "source": [
    "merged3.groupby('PIECEMARK')['QUANTITY'].sum().sort_values(ascending=False)[:10].reset_index()"
   ]
  },
  {
   "cell_type": "code",
   "execution_count": null,
   "id": "93cd3bc1-2d4b-40f6-bfe8-29ab88e50afa",
   "metadata": {},
   "outputs": [],
   "source": [
    "print(df.shape)\n",
    "merged = pd.merge(df,ship,'left',overlap)\n",
    "print(merged.shape)"
   ]
  },
  {
   "cell_type": "code",
   "execution_count": null,
   "id": "328f0fd8-bd24-4550-8129-1432c54c4e5e",
   "metadata": {},
   "outputs": [],
   "source": [
    "merged['PIECEMARK'].fillna('missing',inplace=True)\n",
    "merged['SALES_REGION_ID'].fillna('missing',inplace=True)\n",
    "merged['SALES_DISTRICT_ID'].fillna('missing',inplace=True)\n",
    "merged['DEPARTMENT_RESPONSIBLE'].fillna('missing',inplace=True)"
   ]
  },
  {
   "cell_type": "code",
   "execution_count": null,
   "id": "07744b42-fc66-4160-a56f-2c8d3bd99a31",
   "metadata": {},
   "outputs": [],
   "source": [
    "# merged.to_excel('../data/Shortage_regression.xlsx',index=False)"
   ]
  },
  {
   "cell_type": "code",
   "execution_count": null,
   "id": "592e863b-576d-4e0f-b98c-1dc5333a8f23",
   "metadata": {},
   "outputs": [],
   "source": [
    "table = pd.DataFrame(columns=['Dimension','Value','%Cost','% EffCost']) "
   ]
  },
  {
   "cell_type": "code",
   "execution_count": null,
   "id": "6a6a3376-fc3e-425c-abfd-41263e8d5cfa",
   "metadata": {},
   "outputs": [],
   "source": [
    "new  = pd.DataFrame({'Dimension':[1],'Value':[2],'%Cost':[3],'% EffCost':[4]})"
   ]
  },
  {
   "cell_type": "code",
   "execution_count": null,
   "id": "471aca3a-966f-40a4-882c-1c7d8230c331",
   "metadata": {},
   "outputs": [],
   "source": [
    "new"
   ]
  },
  {
   "cell_type": "code",
   "execution_count": null,
   "id": "7e2f4d3a-aae6-4bc9-aa4a-a0b31115f72a",
   "metadata": {},
   "outputs": [],
   "source": [
    "pd.concat([table,new])"
   ]
  },
  {
   "cell_type": "markdown",
   "id": "13b0c4cd-89d6-4a2a-b1f8-ae0f710e8796",
   "metadata": {
    "tags": []
   },
   "source": [
    "## Preprocessing and Feature Engineering"
   ]
  },
  {
   "cell_type": "code",
   "execution_count": null,
   "id": "f6ea008e-4a94-4c5a-8211-3b4b6d6dcabe",
   "metadata": {},
   "outputs": [],
   "source": [
    "data = merged.copy()\n",
    "print(data.shape)\n",
    "data.head(1)"
   ]
  },
  {
   "cell_type": "code",
   "execution_count": null,
   "id": "f1986dda-a26a-4d51-aead-2120639c9d66",
   "metadata": {},
   "outputs": [],
   "source": [
    "threshold = 0  # Adjust as needed\n",
    "# data['RELEASE_DATE'] = pd.to_datetime(data['RELEASE_DATE'])\n",
    "# data['RELEASE_DATE_MONTH'] = data['RELEASE_DATE'].dt.month\n",
    "# data['RELEASE_DATE_YEAR'] = data['RELEASE_DATE'].dt.year\n",
    "# data['RELEASE_DATE_MONTH'] =data['RELEASE_DATE_MONTH'].fillna('missing')\n",
    "\n",
    "\n",
    "# data['ORIGINAL_JOB_AMOUNT'] = data['ORIGINAL_JOB_AMOUNT'].fillna(data['ORIGINAL_JOB_AMOUNT'].mean()) \n",
    "# data['COMPLEXITY'].fillna(-1,inplace=True)\n",
    "\n",
    "# data['ORIGINAL_JOB_AMOUNT'] = data['ORIGINAL_JOB_AMOUNT'].apply(lambda x: round(x))\n",
    "# data['GL_PERIOD_MONTH'] = data['GL_PERIOD'].dt.month\n",
    "# data['GL_PERIOD_YEAR'] = data['GL_PERIOD'].dt.year\n",
    "# infrequent_categories = data['CUSTOMER_NAME'].value_counts()[data['CUSTOMER_NAME'].value_counts(normalize=True) < threshold].index\n",
    "# data['CUSTOMER_NAME'] = data['CUSTOMER_NAME'].replace(infrequent_categories, 'OTHER')\n",
    "# infrequent_categories = data['REASON'].value_counts()[data['REASON'].value_counts(normalize=True) < threshold].index\n",
    "# data['REASON'] = data['REASON'].replace(infrequent_categories, 'OTHER')\n",
    "# infrequent_categories = data['ORIGINAL_MFG_PLANT'].value_counts()[data['ORIGINAL_MFG_PLANT'].value_counts(normalize=True) < threshold].index\n",
    "# data['ORIGINAL_MFG_PLANT'] = data['ORIGINAL_MFG_PLANT'].replace(infrequent_categories, 'OTHER')\n",
    "\n",
    "\n",
    "# infrequent_categories = data['SQUAD1'].value_counts()[data['SQUAD1'].value_counts(normalize=True) < threshold].index\n",
    "# data['SQUAD1'] = data['SQUAD1'].replace(infrequent_categories, 'OTHER')\n",
    "# infrequent_categories = data['TEAM1'].value_counts()[data['TEAM1'].value_counts(normalize=True) < threshold].index\n",
    "# data['TEAM1'] = data['TEAM1'].replace(infrequent_categories, 'OTHER')\n",
    "# infrequent_categories = data['CHECKER1'].value_counts()[data['CHECKER1'].value_counts(normalize=True) < threshold].index\n",
    "# data['CHECKER1'] = data['CHECKER1'].replace(infrequent_categories, 'OTHER')\n",
    "# infrequent_categories = data['DETAILER1'].value_counts()[data['DETAILER1'].value_counts(normalize=True) < threshold].index\n",
    "# data['DETAILER1'] = data['DETAILER1'].replace(infrequent_categories, 'OTHER')\n",
    "# infrequent_categories = data['AUTHORIZED_BY'].value_counts()[data['AUTHORIZED_BY'].value_counts(normalize=True) < threshold].index\n",
    "# data['AUTHORIZED_BY'] = data['AUTHORIZED_BY'].replace(infrequent_categories, 'OTHER')\n",
    "\n",
    "# infrequent_categories = data['Major Category1'].value_counts()[data['Major Category1'].value_counts(normalize=True) < threshold].index\n",
    "# data['Major Category1'] = data['Major Category1'].replace(infrequent_categories, 'OTHER')\n",
    "# infrequent_categories = data['Minor Category1'].value_counts()[data['Minor Category1'].value_counts(normalize=True) < threshold].index\n",
    "# data['Minor Category1'] = data['Minor Category1'].replace(infrequent_categories, 'OTHER')"
   ]
  },
  {
   "cell_type": "code",
   "execution_count": null,
   "id": "be127b87-6ccb-4afd-ba4f-200f9100c458",
   "metadata": {},
   "outputs": [],
   "source": [
    "data.head(1)"
   ]
  },
  {
   "cell_type": "markdown",
   "id": "90f729ac-d618-41f4-9fb7-bcc3a86ca3e3",
   "metadata": {
    "tags": []
   },
   "source": [
    "## Input Prep"
   ]
  },
  {
   "cell_type": "markdown",
   "id": "72ca4ee4-dce1-4e42-bee6-8a1563c8c699",
   "metadata": {},
   "source": [
    "Level 1 : Company , Phase , Brand, Major Category, Complexity, OPL , Org Mfg Plant  \n",
    "Level 2 : Minor Category, GL Month, Release Month, Org Mfg Plant, Sales Region Id, SQUAD, TEAM, REASON, BSR, CHECKER, DETAILER   \n",
    "Level 3 : DEPARTMENT_RESPONSIBLE, SALES_DISTRICT_ID, QUANTITY, PIECEMARK"
   ]
  },
  {
   "cell_type": "code",
   "execution_count": null,
   "id": "38cbe9b0-7ead-47b2-b17d-2780a7edb366",
   "metadata": {},
   "outputs": [],
   "source": [
    "data.head(1)"
   ]
  },
  {
   "cell_type": "code",
   "execution_count": null,
   "id": "065c6c78-1445-458d-90e7-8f4417148bce",
   "metadata": {},
   "outputs": [],
   "source": [
    "print(data.shape)\n",
    "sliced_data =  data[(data['Major Category']=='Sales')]\n",
    "# sliced_data = sliced_data[sliced_data['REASON']=='1102 - Allowance by V. P. Sales'] # select data slice\n",
    "print(sliced_data.shape)"
   ]
  },
  {
   "cell_type": "code",
   "execution_count": null,
   "id": "a012675b-e975-4ec6-85ee-ef54b745b3c1",
   "metadata": {},
   "outputs": [],
   "source": [
    "sliced_data.head(1)"
   ]
  },
  {
   "cell_type": "code",
   "execution_count": null,
   "id": "cc4827f2-8b20-435a-84fc-7be875f92d12",
   "metadata": {
    "tags": []
   },
   "outputs": [],
   "source": [
    "columns1 = ['COMPANY','PHASE','BRAND','Major Category','COMPLEXITY','OPL','ORIGINAL_MFG_PLANT', target]\n",
    "columns2 = ['Minor Category','GL_PERIOD_MONTH','RELEASE_DATE_MONTH', 'SALES_REGION_ID','SQUAD','TEAM','REASON','BSR'] #,'CHECKER','DETAILER'\n",
    "columns3 = ['SALES_DISTRICT_ID', 'PIECEMARK','CUSTOMER_NAME'] #,'QUANTITY'\n",
    "columns = columns1  + columns2  #+ columns3\n",
    "# columns.remove(\"Major Category\")\n",
    "# columns.remove(\"ORIGINAL_MFG_PLANT\")\n",
    "# columns.remove(\"BSR\")\n",
    "\n",
    "X = sliced_data[columns]\n",
    "X = X.dropna(subset=[target])\n",
    "X = X.drop_duplicates()\n",
    "print(X.shape)\n",
    "X.head(2)"
   ]
  },
  {
   "cell_type": "markdown",
   "id": "537369e5-e25d-4c2c-b5f9-a4bf0000a8dd",
   "metadata": {
    "tags": []
   },
   "source": [
    "## Train test split"
   ]
  },
  {
   "cell_type": "code",
   "execution_count": null,
   "id": "7fedbdb7-3d65-43d6-9fc1-68b813abc802",
   "metadata": {},
   "outputs": [],
   "source": [
    "X =pd.get_dummies(X)\n",
    "y = X[target]\n",
    "X = X.drop(target, axis=1)\n",
    "\n",
    "# Split the dataset into training and testing sets\n",
    "X_train, X_test, y_train, y_test = train_test_split(X, y, test_size=0.2, random_state=42)\n",
    "print(X_train.shape,X_test.shape)\n",
    "X_train.head(2)"
   ]
  },
  {
   "cell_type": "markdown",
   "id": "a02a4967-1f28-44dd-ac46-a4382d99a177",
   "metadata": {
    "tags": []
   },
   "source": [
    "## Model Training"
   ]
  },
  {
   "cell_type": "code",
   "execution_count": null,
   "id": "70fbfafc-f78c-48fe-96bd-c00bdf99d97b",
   "metadata": {
    "tags": []
   },
   "outputs": [],
   "source": [
    "lr_model = LinearRegression()\n",
    "lr_model.fit(X_train, y_train)"
   ]
  },
  {
   "cell_type": "code",
   "execution_count": null,
   "id": "b2e04240-df6e-4878-995a-b618b9ab9839",
   "metadata": {},
   "outputs": [],
   "source": [
    "%%time\n",
    "gb_model = GradientBoostingRegressor()\n",
    "gb_model.fit(X_train, y_train)\n",
    "gb_feature_importance = gb_model.feature_importances_"
   ]
  },
  {
   "cell_type": "code",
   "execution_count": null,
   "id": "cb3ee095-f8c3-43ea-85c3-691a3f3907b3",
   "metadata": {},
   "outputs": [],
   "source": [
    "%%time\n",
    "cb_model = CatBoostRegressor(iterations=100,  # Adjust the number of iterations\n",
    "                          depth=5,  # Adjust the depth of the trees\n",
    "                          learning_rate=0.1,  # Adjust the learning rate\n",
    "                          loss_function='RMSE',  # Use RMSE as the loss function for regression\n",
    "                          random_seed=42)\n",
    "\n",
    "cb_model.fit(X_train, y_train, eval_set=(X_test, y_test), early_stopping_rounds=10, verbose=10)"
   ]
  },
  {
   "cell_type": "code",
   "execution_count": null,
   "id": "6ec75a45-d15b-44b6-95c3-78362564ced7",
   "metadata": {
    "tags": []
   },
   "outputs": [],
   "source": [
    "%%time\n",
    "# Create a Random Forest Regressor model\n",
    "rf_model = RandomForestRegressor(max_depth=None,)\n",
    "\n",
    "# Fit the model to the training data\n",
    "rf_model.fit(X_train, y_train)"
   ]
  },
  {
   "cell_type": "markdown",
   "id": "0a82daa1-9200-438b-a831-b3de059dc08b",
   "metadata": {
    "tags": []
   },
   "source": [
    "## Prediction and feature importance"
   ]
  },
  {
   "cell_type": "code",
   "execution_count": null,
   "id": "9397ba2b-63b4-422d-b259-1212b7a4a3ff",
   "metadata": {
    "tags": []
   },
   "outputs": [],
   "source": [
    "for model in [lr_model,gb_model,cb_model,rf_model]:\n",
    "    y_pred = model.predict(X_train) \n",
    "    r2 = r2_score(y_train, y_pred)\n",
    "    print(f\"{str(model)} ----> {r2}\")\n"
   ]
  },
  {
   "cell_type": "code",
   "execution_count": null,
   "id": "84d910cf-934b-4d70-b577-f6cb5040ef77",
   "metadata": {},
   "outputs": [],
   "source": [
    "# model = lr_model # select model\n",
    "# model = gb_model # select model\n",
    "# model = cb_model # select model\n",
    "model = rf_model # select model"
   ]
  },
  {
   "cell_type": "code",
   "execution_count": null,
   "id": "f6824a81-4773-49a2-861f-906a35219a1b",
   "metadata": {
    "tags": []
   },
   "outputs": [],
   "source": [
    "y_pred = model.predict(X_test) # Test\n",
    "\n",
    "# Evaluate the model performance\n",
    "mse = mean_squared_error(y_test, y_pred)\n",
    "mae = mean_absolute_error(y_test, y_pred)\n",
    "r2 = r2_score(y_test, y_pred)\n",
    "\n",
    "print(f'Mean Squared Error (MSE): {mse}')\n",
    "print(f'Mean Absolute Error (MAE): {mae}')\n",
    "print(f'R-squared (R2): {r2} -- explaining {round(r2*100,2)}% of variance in the data')"
   ]
  },
  {
   "cell_type": "code",
   "execution_count": null,
   "id": "2476c18c-503e-4231-9b90-3c6a104f648f",
   "metadata": {},
   "outputs": [],
   "source": [
    "# Get feature importances\n",
    "feature_importances = model.feature_importances_\n",
    "importance_df = pd.DataFrame({'Feature': X.columns, 'Importance': feature_importances})\n",
    "importance_df['Column'] = importance_df['Feature'].str.split(\"_\").apply(lambda x: '_'.join(x[:-1]) if len(x)>1 else x[0] )\n",
    "importance_df['Value'] = importance_df['Feature'].str.split(\"_\").apply(lambda x: x[-1] if len(x) > 1 else 'none')\n",
    "feature_importance_df = importance_df.groupby('Column')['Importance'].sum().sort_values(ascending=False).reset_index()\n",
    "feature_importance_df = feature_importance_df.sort_values(by='Importance', ascending=False)\n",
    "feature_importance_df['Importance'] = feature_importance_df['Importance'].apply(lambda x: \"{:f}\".format(x))\n",
    "feature_importance_df['Importance'] = feature_importance_df['Importance'].apply(lambda x: float(x))\n",
    "top_features = feature_importance_df.head(5)\n",
    "# Plot feature importances\n",
    "plt.figure(figsize=(10, 6))\n",
    "plt.barh(top_features['Column'], top_features['Importance'])\n",
    "plt.xlabel('Importance')\n",
    "plt.ylabel('Feature')\n",
    "plt.title('Feature Importance')\n",
    "plt.show()"
   ]
  },
  {
   "cell_type": "code",
   "execution_count": null,
   "id": "deee6c46-6e00-4dbd-a5c1-7e6b51b47b3a",
   "metadata": {},
   "outputs": [],
   "source": [
    "px.bar(top_features,'Importance','Column',orientation='h',color='Importance')"
   ]
  },
  {
   "cell_type": "markdown",
   "id": "38b191d5-6c31-4b82-ab2f-a27f5c5a4876",
   "metadata": {
    "tags": []
   },
   "source": [
    "## EDA"
   ]
  },
  {
   "cell_type": "code",
   "execution_count": 34,
   "id": "94474c79-5261-4e2a-896c-262c82273790",
   "metadata": {},
   "outputs": [],
   "source": [
    "eda_slice = claims.copy()"
   ]
  },
  {
   "cell_type": "code",
   "execution_count": 64,
   "id": "e99b3ee4-88f6-4cbf-a625-ec31ec215795",
   "metadata": {},
   "outputs": [
    {
     "data": {
      "text/html": [
       "<div>\n",
       "<style scoped>\n",
       "    .dataframe tbody tr th:only-of-type {\n",
       "        vertical-align: middle;\n",
       "    }\n",
       "\n",
       "    .dataframe tbody tr th {\n",
       "        vertical-align: top;\n",
       "    }\n",
       "\n",
       "    .dataframe thead th {\n",
       "        text-align: right;\n",
       "    }\n",
       "</style>\n",
       "<table border=\"1\" class=\"dataframe\">\n",
       "  <thead>\n",
       "    <tr style=\"text-align: right;\">\n",
       "      <th></th>\n",
       "      <th>SHORTAGE_COST_SPREAD</th>\n",
       "    </tr>\n",
       "    <tr>\n",
       "      <th>GL_PERIOD</th>\n",
       "      <th></th>\n",
       "    </tr>\n",
       "  </thead>\n",
       "  <tbody>\n",
       "    <tr>\n",
       "      <th>2022-01-23</th>\n",
       "      <td>407034.31</td>\n",
       "    </tr>\n",
       "    <tr>\n",
       "      <th>2022-02-23</th>\n",
       "      <td>435049.48</td>\n",
       "    </tr>\n",
       "    <tr>\n",
       "      <th>2022-03-23</th>\n",
       "      <td>490933.37</td>\n",
       "    </tr>\n",
       "    <tr>\n",
       "      <th>2022-04-23</th>\n",
       "      <td>406622.33</td>\n",
       "    </tr>\n",
       "    <tr>\n",
       "      <th>2022-05-23</th>\n",
       "      <td>424355.92</td>\n",
       "    </tr>\n",
       "  </tbody>\n",
       "</table>\n",
       "</div>"
      ],
      "text/plain": [
       "            SHORTAGE_COST_SPREAD\n",
       "GL_PERIOD                       \n",
       "2022-01-23             407034.31\n",
       "2022-02-23             435049.48\n",
       "2022-03-23             490933.37\n",
       "2022-04-23             406622.33\n",
       "2022-05-23             424355.92"
      ]
     },
     "execution_count": 64,
     "metadata": {},
     "output_type": "execute_result"
    }
   ],
   "source": [
    "group_level= 'GL_PERIOD'\n",
    "agg = eda_slice.drop_duplicates([group_level,'SHORTAGE','ORIGINAL_JOB_NUM','REASON','SHORTAGE_COST_SPREAD'])\n",
    "agg = agg.groupby([group_level])['SHORTAGE_COST_SPREAD'].sum().reset_index()\n",
    "agg = agg.set_index(group_level)\n",
    "agg.head()"
   ]
  },
  {
   "cell_type": "code",
   "execution_count": 70,
   "id": "2b147cab-1858-4f78-9004-3a52d2ecd89f",
   "metadata": {},
   "outputs": [
    {
     "data": {
      "text/plain": [
       "1333017.1600000001"
      ]
     },
     "execution_count": 70,
     "metadata": {},
     "output_type": "execute_result"
    }
   ],
   "source": [
    "agg.head(3)['SHORTAGE_COST_SPREAD'].sum()"
   ]
  },
  {
   "cell_type": "code",
   "execution_count": 71,
   "id": "c654e9a7-79df-4232-89a6-b8bcd0c2779e",
   "metadata": {},
   "outputs": [
    {
     "data": {
      "text/html": [
       "<div>\n",
       "<style scoped>\n",
       "    .dataframe tbody tr th:only-of-type {\n",
       "        vertical-align: middle;\n",
       "    }\n",
       "\n",
       "    .dataframe tbody tr th {\n",
       "        vertical-align: top;\n",
       "    }\n",
       "\n",
       "    .dataframe thead th {\n",
       "        text-align: right;\n",
       "    }\n",
       "</style>\n",
       "<table border=\"1\" class=\"dataframe\">\n",
       "  <thead>\n",
       "    <tr style=\"text-align: right;\">\n",
       "      <th></th>\n",
       "      <th>GL_PERIOD</th>\n",
       "      <th>SHORTAGE_COST_SPREAD</th>\n",
       "    </tr>\n",
       "  </thead>\n",
       "  <tbody>\n",
       "    <tr>\n",
       "      <th>0</th>\n",
       "      <td>2022-03-31</td>\n",
       "      <td>1333017.16</td>\n",
       "    </tr>\n",
       "    <tr>\n",
       "      <th>1</th>\n",
       "      <td>2022-06-30</td>\n",
       "      <td>1231346.75</td>\n",
       "    </tr>\n",
       "    <tr>\n",
       "      <th>2</th>\n",
       "      <td>2022-09-30</td>\n",
       "      <td>1740097.24</td>\n",
       "    </tr>\n",
       "    <tr>\n",
       "      <th>3</th>\n",
       "      <td>2022-12-31</td>\n",
       "      <td>1460931.17</td>\n",
       "    </tr>\n",
       "    <tr>\n",
       "      <th>4</th>\n",
       "      <td>2023-03-31</td>\n",
       "      <td>1458265.24</td>\n",
       "    </tr>\n",
       "    <tr>\n",
       "      <th>5</th>\n",
       "      <td>2023-06-30</td>\n",
       "      <td>2183811.63</td>\n",
       "    </tr>\n",
       "    <tr>\n",
       "      <th>6</th>\n",
       "      <td>2023-09-30</td>\n",
       "      <td>1473361.88</td>\n",
       "    </tr>\n",
       "    <tr>\n",
       "      <th>7</th>\n",
       "      <td>2023-12-31</td>\n",
       "      <td>2064227.42</td>\n",
       "    </tr>\n",
       "  </tbody>\n",
       "</table>\n",
       "</div>"
      ],
      "text/plain": [
       "   GL_PERIOD  SHORTAGE_COST_SPREAD\n",
       "0 2022-03-31            1333017.16\n",
       "1 2022-06-30            1231346.75\n",
       "2 2022-09-30            1740097.24\n",
       "3 2022-12-31            1460931.17\n",
       "4 2023-03-31            1458265.24\n",
       "5 2023-06-30            2183811.63\n",
       "6 2023-09-30            1473361.88\n",
       "7 2023-12-31            2064227.42"
      ]
     },
     "execution_count": 71,
     "metadata": {},
     "output_type": "execute_result"
    }
   ],
   "source": [
    "agg2 =  agg.resample('Q').sum().reset_index()\n",
    "agg2"
   ]
  },
  {
   "cell_type": "code",
   "execution_count": 78,
   "id": "6bb1a9cc-6337-477c-bedd-65e99c3e9591",
   "metadata": {},
   "outputs": [
    {
     "data": {
      "text/plain": [
       "[Timestamp('2022-03-31 00:00:00'),\n",
       " Timestamp('2022-06-30 00:00:00'),\n",
       " Timestamp('2022-09-30 00:00:00'),\n",
       " Timestamp('2022-12-31 00:00:00'),\n",
       " Timestamp('2023-03-31 00:00:00'),\n",
       " Timestamp('2023-06-30 00:00:00'),\n",
       " Timestamp('2023-09-30 00:00:00'),\n",
       " Timestamp('2023-12-31 00:00:00')]"
      ]
     },
     "execution_count": 78,
     "metadata": {},
     "output_type": "execute_result"
    }
   ],
   "source": [
    "agg2['GL_PERIOD'].tolist()"
   ]
  },
  {
   "cell_type": "code",
   "execution_count": 58,
   "id": "4c3a8045-ddff-419b-858e-bd88e63a5ec6",
   "metadata": {},
   "outputs": [
    {
     "data": {
      "application/vnd.plotly.v1+json": {
       "config": {
        "plotlyServerURL": "https://plot.ly"
       },
       "data": [
        {
         "alignmentgroup": "True",
         "hovertemplate": "GL_PERIOD=%{x}<br>SHORTAGE_COST_SPREAD=%{y}<extra></extra>",
         "legendgroup": "",
         "marker": {
          "color": "#636efa",
          "pattern": {
           "shape": ""
          }
         },
         "name": "",
         "offsetgroup": "",
         "orientation": "v",
         "showlegend": false,
         "textposition": "auto",
         "type": "bar",
         "x": [
          "2022-01-23T00:00:00",
          "2022-02-23T00:00:00",
          "2022-03-23T00:00:00",
          "2022-04-23T00:00:00",
          "2022-05-23T00:00:00",
          "2022-06-23T00:00:00",
          "2022-07-23T00:00:00",
          "2022-08-23T00:00:00",
          "2022-09-23T00:00:00",
          "2022-10-23T00:00:00",
          "2022-11-23T00:00:00",
          "2022-12-23T00:00:00",
          "2023-01-23T00:00:00",
          "2023-02-23T00:00:00",
          "2023-03-23T00:00:00",
          "2023-04-23T00:00:00",
          "2023-05-23T00:00:00",
          "2023-06-23T00:00:00",
          "2023-07-23T00:00:00",
          "2023-08-23T00:00:00",
          "2023-09-23T00:00:00",
          "2023-10-23T00:00:00",
          "2023-11-23T00:00:00"
         ],
         "xaxis": "x",
         "y": [
          407034.31,
          435049.48,
          490933.37,
          406622.33,
          424355.92,
          400368.5,
          196283.03,
          776668.4299999999,
          767145.78,
          603601.02,
          453390.32,
          403939.83,
          453684.71,
          524836.2,
          479744.33,
          611736.3099999999,
          594312.13,
          977763.1900000001,
          502679.19,
          411623.13,
          559059.5599999999,
          654864.02,
          1409363.4000000001
         ],
         "yaxis": "y"
        }
       ],
       "layout": {
        "autosize": true,
        "barmode": "relative",
        "legend": {
         "tracegroupgap": 0
        },
        "margin": {
         "t": 60
        },
        "template": {
         "data": {
          "bar": [
           {
            "error_x": {
             "color": "#2a3f5f"
            },
            "error_y": {
             "color": "#2a3f5f"
            },
            "marker": {
             "line": {
              "color": "#E5ECF6",
              "width": 0.5
             },
             "pattern": {
              "fillmode": "overlay",
              "size": 10,
              "solidity": 0.2
             }
            },
            "type": "bar"
           }
          ],
          "barpolar": [
           {
            "marker": {
             "line": {
              "color": "#E5ECF6",
              "width": 0.5
             },
             "pattern": {
              "fillmode": "overlay",
              "size": 10,
              "solidity": 0.2
             }
            },
            "type": "barpolar"
           }
          ],
          "carpet": [
           {
            "aaxis": {
             "endlinecolor": "#2a3f5f",
             "gridcolor": "white",
             "linecolor": "white",
             "minorgridcolor": "white",
             "startlinecolor": "#2a3f5f"
            },
            "baxis": {
             "endlinecolor": "#2a3f5f",
             "gridcolor": "white",
             "linecolor": "white",
             "minorgridcolor": "white",
             "startlinecolor": "#2a3f5f"
            },
            "type": "carpet"
           }
          ],
          "choropleth": [
           {
            "colorbar": {
             "outlinewidth": 0,
             "ticks": ""
            },
            "type": "choropleth"
           }
          ],
          "contour": [
           {
            "colorbar": {
             "outlinewidth": 0,
             "ticks": ""
            },
            "colorscale": [
             [
              0,
              "#0d0887"
             ],
             [
              0.1111111111111111,
              "#46039f"
             ],
             [
              0.2222222222222222,
              "#7201a8"
             ],
             [
              0.3333333333333333,
              "#9c179e"
             ],
             [
              0.4444444444444444,
              "#bd3786"
             ],
             [
              0.5555555555555556,
              "#d8576b"
             ],
             [
              0.6666666666666666,
              "#ed7953"
             ],
             [
              0.7777777777777778,
              "#fb9f3a"
             ],
             [
              0.8888888888888888,
              "#fdca26"
             ],
             [
              1,
              "#f0f921"
             ]
            ],
            "type": "contour"
           }
          ],
          "contourcarpet": [
           {
            "colorbar": {
             "outlinewidth": 0,
             "ticks": ""
            },
            "type": "contourcarpet"
           }
          ],
          "heatmap": [
           {
            "colorbar": {
             "outlinewidth": 0,
             "ticks": ""
            },
            "colorscale": [
             [
              0,
              "#0d0887"
             ],
             [
              0.1111111111111111,
              "#46039f"
             ],
             [
              0.2222222222222222,
              "#7201a8"
             ],
             [
              0.3333333333333333,
              "#9c179e"
             ],
             [
              0.4444444444444444,
              "#bd3786"
             ],
             [
              0.5555555555555556,
              "#d8576b"
             ],
             [
              0.6666666666666666,
              "#ed7953"
             ],
             [
              0.7777777777777778,
              "#fb9f3a"
             ],
             [
              0.8888888888888888,
              "#fdca26"
             ],
             [
              1,
              "#f0f921"
             ]
            ],
            "type": "heatmap"
           }
          ],
          "heatmapgl": [
           {
            "colorbar": {
             "outlinewidth": 0,
             "ticks": ""
            },
            "colorscale": [
             [
              0,
              "#0d0887"
             ],
             [
              0.1111111111111111,
              "#46039f"
             ],
             [
              0.2222222222222222,
              "#7201a8"
             ],
             [
              0.3333333333333333,
              "#9c179e"
             ],
             [
              0.4444444444444444,
              "#bd3786"
             ],
             [
              0.5555555555555556,
              "#d8576b"
             ],
             [
              0.6666666666666666,
              "#ed7953"
             ],
             [
              0.7777777777777778,
              "#fb9f3a"
             ],
             [
              0.8888888888888888,
              "#fdca26"
             ],
             [
              1,
              "#f0f921"
             ]
            ],
            "type": "heatmapgl"
           }
          ],
          "histogram": [
           {
            "marker": {
             "pattern": {
              "fillmode": "overlay",
              "size": 10,
              "solidity": 0.2
             }
            },
            "type": "histogram"
           }
          ],
          "histogram2d": [
           {
            "colorbar": {
             "outlinewidth": 0,
             "ticks": ""
            },
            "colorscale": [
             [
              0,
              "#0d0887"
             ],
             [
              0.1111111111111111,
              "#46039f"
             ],
             [
              0.2222222222222222,
              "#7201a8"
             ],
             [
              0.3333333333333333,
              "#9c179e"
             ],
             [
              0.4444444444444444,
              "#bd3786"
             ],
             [
              0.5555555555555556,
              "#d8576b"
             ],
             [
              0.6666666666666666,
              "#ed7953"
             ],
             [
              0.7777777777777778,
              "#fb9f3a"
             ],
             [
              0.8888888888888888,
              "#fdca26"
             ],
             [
              1,
              "#f0f921"
             ]
            ],
            "type": "histogram2d"
           }
          ],
          "histogram2dcontour": [
           {
            "colorbar": {
             "outlinewidth": 0,
             "ticks": ""
            },
            "colorscale": [
             [
              0,
              "#0d0887"
             ],
             [
              0.1111111111111111,
              "#46039f"
             ],
             [
              0.2222222222222222,
              "#7201a8"
             ],
             [
              0.3333333333333333,
              "#9c179e"
             ],
             [
              0.4444444444444444,
              "#bd3786"
             ],
             [
              0.5555555555555556,
              "#d8576b"
             ],
             [
              0.6666666666666666,
              "#ed7953"
             ],
             [
              0.7777777777777778,
              "#fb9f3a"
             ],
             [
              0.8888888888888888,
              "#fdca26"
             ],
             [
              1,
              "#f0f921"
             ]
            ],
            "type": "histogram2dcontour"
           }
          ],
          "mesh3d": [
           {
            "colorbar": {
             "outlinewidth": 0,
             "ticks": ""
            },
            "type": "mesh3d"
           }
          ],
          "parcoords": [
           {
            "line": {
             "colorbar": {
              "outlinewidth": 0,
              "ticks": ""
             }
            },
            "type": "parcoords"
           }
          ],
          "pie": [
           {
            "automargin": true,
            "type": "pie"
           }
          ],
          "scatter": [
           {
            "fillpattern": {
             "fillmode": "overlay",
             "size": 10,
             "solidity": 0.2
            },
            "type": "scatter"
           }
          ],
          "scatter3d": [
           {
            "line": {
             "colorbar": {
              "outlinewidth": 0,
              "ticks": ""
             }
            },
            "marker": {
             "colorbar": {
              "outlinewidth": 0,
              "ticks": ""
             }
            },
            "type": "scatter3d"
           }
          ],
          "scattercarpet": [
           {
            "marker": {
             "colorbar": {
              "outlinewidth": 0,
              "ticks": ""
             }
            },
            "type": "scattercarpet"
           }
          ],
          "scattergeo": [
           {
            "marker": {
             "colorbar": {
              "outlinewidth": 0,
              "ticks": ""
             }
            },
            "type": "scattergeo"
           }
          ],
          "scattergl": [
           {
            "marker": {
             "colorbar": {
              "outlinewidth": 0,
              "ticks": ""
             }
            },
            "type": "scattergl"
           }
          ],
          "scattermapbox": [
           {
            "marker": {
             "colorbar": {
              "outlinewidth": 0,
              "ticks": ""
             }
            },
            "type": "scattermapbox"
           }
          ],
          "scatterpolar": [
           {
            "marker": {
             "colorbar": {
              "outlinewidth": 0,
              "ticks": ""
             }
            },
            "type": "scatterpolar"
           }
          ],
          "scatterpolargl": [
           {
            "marker": {
             "colorbar": {
              "outlinewidth": 0,
              "ticks": ""
             }
            },
            "type": "scatterpolargl"
           }
          ],
          "scatterternary": [
           {
            "marker": {
             "colorbar": {
              "outlinewidth": 0,
              "ticks": ""
             }
            },
            "type": "scatterternary"
           }
          ],
          "surface": [
           {
            "colorbar": {
             "outlinewidth": 0,
             "ticks": ""
            },
            "colorscale": [
             [
              0,
              "#0d0887"
             ],
             [
              0.1111111111111111,
              "#46039f"
             ],
             [
              0.2222222222222222,
              "#7201a8"
             ],
             [
              0.3333333333333333,
              "#9c179e"
             ],
             [
              0.4444444444444444,
              "#bd3786"
             ],
             [
              0.5555555555555556,
              "#d8576b"
             ],
             [
              0.6666666666666666,
              "#ed7953"
             ],
             [
              0.7777777777777778,
              "#fb9f3a"
             ],
             [
              0.8888888888888888,
              "#fdca26"
             ],
             [
              1,
              "#f0f921"
             ]
            ],
            "type": "surface"
           }
          ],
          "table": [
           {
            "cells": {
             "fill": {
              "color": "#EBF0F8"
             },
             "line": {
              "color": "white"
             }
            },
            "header": {
             "fill": {
              "color": "#C8D4E3"
             },
             "line": {
              "color": "white"
             }
            },
            "type": "table"
           }
          ]
         },
         "layout": {
          "annotationdefaults": {
           "arrowcolor": "#2a3f5f",
           "arrowhead": 0,
           "arrowwidth": 1
          },
          "autotypenumbers": "strict",
          "coloraxis": {
           "colorbar": {
            "outlinewidth": 0,
            "ticks": ""
           }
          },
          "colorscale": {
           "diverging": [
            [
             0,
             "#8e0152"
            ],
            [
             0.1,
             "#c51b7d"
            ],
            [
             0.2,
             "#de77ae"
            ],
            [
             0.3,
             "#f1b6da"
            ],
            [
             0.4,
             "#fde0ef"
            ],
            [
             0.5,
             "#f7f7f7"
            ],
            [
             0.6,
             "#e6f5d0"
            ],
            [
             0.7,
             "#b8e186"
            ],
            [
             0.8,
             "#7fbc41"
            ],
            [
             0.9,
             "#4d9221"
            ],
            [
             1,
             "#276419"
            ]
           ],
           "sequential": [
            [
             0,
             "#0d0887"
            ],
            [
             0.1111111111111111,
             "#46039f"
            ],
            [
             0.2222222222222222,
             "#7201a8"
            ],
            [
             0.3333333333333333,
             "#9c179e"
            ],
            [
             0.4444444444444444,
             "#bd3786"
            ],
            [
             0.5555555555555556,
             "#d8576b"
            ],
            [
             0.6666666666666666,
             "#ed7953"
            ],
            [
             0.7777777777777778,
             "#fb9f3a"
            ],
            [
             0.8888888888888888,
             "#fdca26"
            ],
            [
             1,
             "#f0f921"
            ]
           ],
           "sequentialminus": [
            [
             0,
             "#0d0887"
            ],
            [
             0.1111111111111111,
             "#46039f"
            ],
            [
             0.2222222222222222,
             "#7201a8"
            ],
            [
             0.3333333333333333,
             "#9c179e"
            ],
            [
             0.4444444444444444,
             "#bd3786"
            ],
            [
             0.5555555555555556,
             "#d8576b"
            ],
            [
             0.6666666666666666,
             "#ed7953"
            ],
            [
             0.7777777777777778,
             "#fb9f3a"
            ],
            [
             0.8888888888888888,
             "#fdca26"
            ],
            [
             1,
             "#f0f921"
            ]
           ]
          },
          "colorway": [
           "#636efa",
           "#EF553B",
           "#00cc96",
           "#ab63fa",
           "#FFA15A",
           "#19d3f3",
           "#FF6692",
           "#B6E880",
           "#FF97FF",
           "#FECB52"
          ],
          "font": {
           "color": "#2a3f5f"
          },
          "geo": {
           "bgcolor": "white",
           "lakecolor": "white",
           "landcolor": "#E5ECF6",
           "showlakes": true,
           "showland": true,
           "subunitcolor": "white"
          },
          "hoverlabel": {
           "align": "left"
          },
          "hovermode": "closest",
          "mapbox": {
           "style": "light"
          },
          "paper_bgcolor": "white",
          "plot_bgcolor": "#E5ECF6",
          "polar": {
           "angularaxis": {
            "gridcolor": "white",
            "linecolor": "white",
            "ticks": ""
           },
           "bgcolor": "#E5ECF6",
           "radialaxis": {
            "gridcolor": "white",
            "linecolor": "white",
            "ticks": ""
           }
          },
          "scene": {
           "xaxis": {
            "backgroundcolor": "#E5ECF6",
            "gridcolor": "white",
            "gridwidth": 2,
            "linecolor": "white",
            "showbackground": true,
            "ticks": "",
            "zerolinecolor": "white"
           },
           "yaxis": {
            "backgroundcolor": "#E5ECF6",
            "gridcolor": "white",
            "gridwidth": 2,
            "linecolor": "white",
            "showbackground": true,
            "ticks": "",
            "zerolinecolor": "white"
           },
           "zaxis": {
            "backgroundcolor": "#E5ECF6",
            "gridcolor": "white",
            "gridwidth": 2,
            "linecolor": "white",
            "showbackground": true,
            "ticks": "",
            "zerolinecolor": "white"
           }
          },
          "shapedefaults": {
           "line": {
            "color": "#2a3f5f"
           }
          },
          "ternary": {
           "aaxis": {
            "gridcolor": "white",
            "linecolor": "white",
            "ticks": ""
           },
           "baxis": {
            "gridcolor": "white",
            "linecolor": "white",
            "ticks": ""
           },
           "bgcolor": "#E5ECF6",
           "caxis": {
            "gridcolor": "white",
            "linecolor": "white",
            "ticks": ""
           }
          },
          "title": {
           "x": 0.05
          },
          "xaxis": {
           "automargin": true,
           "gridcolor": "white",
           "linecolor": "white",
           "ticks": "",
           "title": {
            "standoff": 15
           },
           "zerolinecolor": "white",
           "zerolinewidth": 2
          },
          "yaxis": {
           "automargin": true,
           "gridcolor": "white",
           "linecolor": "white",
           "ticks": "",
           "title": {
            "standoff": 15
           },
           "zerolinecolor": "white",
           "zerolinewidth": 2
          }
         }
        },
        "xaxis": {
         "anchor": "y",
         "autorange": true,
         "domain": [
          0,
          1
         ],
         "range": [
          "2022-01-09",
          "2023-12-07"
         ],
         "title": {
          "text": "GL_PERIOD"
         },
         "type": "date"
        },
        "yaxis": {
         "anchor": "x",
         "autorange": true,
         "domain": [
          0,
          1
         ],
         "range": [
          0,
          1483540.4210526317
         ],
         "title": {
          "text": "SHORTAGE_COST_SPREAD"
         },
         "type": "linear"
        }
       }
      },
      "image/png": "[encoded data removed]",
      "text/html": [
       "<div>                            <div id=\"a6033303-9234-4d0b-82ca-e44c0d641edc\" class=\"plotly-graph-div\" style=\"height:525px; width:100%;\"></div>            <script type=\"text/javascript\">                require([\"plotly\"], function(Plotly) {                    window.PLOTLYENV=window.PLOTLYENV || {};                                    if (document.getElementById(\"a6033303-9234-4d0b-82ca-e44c0d641edc\")) {                    Plotly.newPlot(                        \"a6033303-9234-4d0b-82ca-e44c0d641edc\",                        [{\"alignmentgroup\":\"True\",\"hovertemplate\":\"GL_PERIOD=%{x}<br>SHORTAGE_COST_SPREAD=%{y}<extra></extra>\",\"legendgroup\":\"\",\"marker\":{\"color\":\"#636efa\",\"pattern\":{\"shape\":\"\"}},\"name\":\"\",\"offsetgroup\":\"\",\"orientation\":\"v\",\"showlegend\":false,\"textposition\":\"auto\",\"x\":[\"2022-01-23T00:00:00\",\"2022-02-23T00:00:00\",\"2022-03-23T00:00:00\",\"2022-04-23T00:00:00\",\"2022-05-23T00:00:00\",\"2022-06-23T00:00:00\",\"2022-07-23T00:00:00\",\"2022-08-23T00:00:00\",\"2022-09-23T00:00:00\",\"2022-10-23T00:00:00\",\"2022-11-23T00:00:00\",\"2022-12-23T00:00:00\",\"2023-01-23T00:00:00\",\"2023-02-23T00:00:00\",\"2023-03-23T00:00:00\",\"2023-04-23T00:00:00\",\"2023-05-23T00:00:00\",\"2023-06-23T00:00:00\",\"2023-07-23T00:00:00\",\"2023-08-23T00:00:00\",\"2023-09-23T00:00:00\",\"2023-10-23T00:00:00\",\"2023-11-23T00:00:00\"],\"xaxis\":\"x\",\"y\":[407034.31,435049.48,490933.37,406622.33,424355.92,400368.5,196283.03,776668.4299999999,767145.78,603601.02,453390.32,403939.83,453684.71,524836.2,479744.33,611736.3099999999,594312.13,977763.1900000001,502679.19,411623.13,559059.5599999999,654864.02,1409363.4000000001],\"yaxis\":\"y\",\"type\":\"bar\"}],                        {\"template\":{\"data\":{\"histogram2dcontour\":[{\"type\":\"histogram2dcontour\",\"colorbar\":{\"outlinewidth\":0,\"ticks\":\"\"},\"colorscale\":[[0.0,\"#0d0887\"],[0.1111111111111111,\"#46039f\"],[0.2222222222222222,\"#7201a8\"],[0.3333333333333333,\"#9c179e\"],[0.4444444444444444,\"#bd3786\"],[0.5555555555555556,\"#d8576b\"],[0.6666666666666666,\"#ed7953\"],[0.7777777777777778,\"#fb9f3a\"],[0.8888888888888888,\"#fdca26\"],[1.0,\"#f0f921\"]]}],\"choropleth\":[{\"type\":\"choropleth\",\"colorbar\":{\"outlinewidth\":0,\"ticks\":\"\"}}],\"histogram2d\":[{\"type\":\"histogram2d\",\"colorbar\":{\"outlinewidth\":0,\"ticks\":\"\"},\"colorscale\":[[0.0,\"#0d0887\"],[0.1111111111111111,\"#46039f\"],[0.2222222222222222,\"#7201a8\"],[0.3333333333333333,\"#9c179e\"],[0.4444444444444444,\"#bd3786\"],[0.5555555555555556,\"#d8576b\"],[0.6666666666666666,\"#ed7953\"],[0.7777777777777778,\"#fb9f3a\"],[0.8888888888888888,\"#fdca26\"],[1.0,\"#f0f921\"]]}],\"heatmap\":[{\"type\":\"heatmap\",\"colorbar\":{\"outlinewidth\":0,\"ticks\":\"\"},\"colorscale\":[[0.0,\"#0d0887\"],[0.1111111111111111,\"#46039f\"],[0.2222222222222222,\"#7201a8\"],[0.3333333333333333,\"#9c179e\"],[0.4444444444444444,\"#bd3786\"],[0.5555555555555556,\"#d8576b\"],[0.6666666666666666,\"#ed7953\"],[0.7777777777777778,\"#fb9f3a\"],[0.8888888888888888,\"#fdca26\"],[1.0,\"#f0f921\"]]}],\"heatmapgl\":[{\"type\":\"heatmapgl\",\"colorbar\":{\"outlinewidth\":0,\"ticks\":\"\"},\"colorscale\":[[0.0,\"#0d0887\"],[0.1111111111111111,\"#46039f\"],[0.2222222222222222,\"#7201a8\"],[0.3333333333333333,\"#9c179e\"],[0.4444444444444444,\"#bd3786\"],[0.5555555555555556,\"#d8576b\"],[0.6666666666666666,\"#ed7953\"],[0.7777777777777778,\"#fb9f3a\"],[0.8888888888888888,\"#fdca26\"],[1.0,\"#f0f921\"]]}],\"contourcarpet\":[{\"type\":\"contourcarpet\",\"colorbar\":{\"outlinewidth\":0,\"ticks\":\"\"}}],\"contour\":[{\"type\":\"contour\",\"colorbar\":{\"outlinewidth\":0,\"ticks\":\"\"},\"colorscale\":[[0.0,\"#0d0887\"],[0.1111111111111111,\"#46039f\"],[0.2222222222222222,\"#7201a8\"],[0.3333333333333333,\"#9c179e\"],[0.4444444444444444,\"#bd3786\"],[0.5555555555555556,\"#d8576b\"],[0.6666666666666666,\"#ed7953\"],[0.7777777777777778,\"#fb9f3a\"],[0.8888888888888888,\"#fdca26\"],[1.0,\"#f0f921\"]]}],\"surface\":[{\"type\":\"surface\",\"colorbar\":{\"outlinewidth\":0,\"ticks\":\"\"},\"colorscale\":[[0.0,\"#0d0887\"],[0.1111111111111111,\"#46039f\"],[0.2222222222222222,\"#7201a8\"],[0.3333333333333333,\"#9c179e\"],[0.4444444444444444,\"#bd3786\"],[0.5555555555555556,\"#d8576b\"],[0.6666666666666666,\"#ed7953\"],[0.7777777777777778,\"#fb9f3a\"],[0.8888888888888888,\"#fdca26\"],[1.0,\"#f0f921\"]]}],\"mesh3d\":[{\"type\":\"mesh3d\",\"colorbar\":{\"outlinewidth\":0,\"ticks\":\"\"}}],\"scatter\":[{\"fillpattern\":{\"fillmode\":\"overlay\",\"size\":10,\"solidity\":0.2},\"type\":\"scatter\"}],\"parcoords\":[{\"type\":\"parcoords\",\"line\":{\"colorbar\":{\"outlinewidth\":0,\"ticks\":\"\"}}}],\"scatterpolargl\":[{\"type\":\"scatterpolargl\",\"marker\":{\"colorbar\":{\"outlinewidth\":0,\"ticks\":\"\"}}}],\"bar\":[{\"error_x\":{\"color\":\"#2a3f5f\"},\"error_y\":{\"color\":\"#2a3f5f\"},\"marker\":{\"line\":{\"color\":\"#E5ECF6\",\"width\":0.5},\"pattern\":{\"fillmode\":\"overlay\",\"size\":10,\"solidity\":0.2}},\"type\":\"bar\"}],\"scattergeo\":[{\"type\":\"scattergeo\",\"marker\":{\"colorbar\":{\"outlinewidth\":0,\"ticks\":\"\"}}}],\"scatterpolar\":[{\"type\":\"scatterpolar\",\"marker\":{\"colorbar\":{\"outlinewidth\":0,\"ticks\":\"\"}}}],\"histogram\":[{\"marker\":{\"pattern\":{\"fillmode\":\"overlay\",\"size\":10,\"solidity\":0.2}},\"type\":\"histogram\"}],\"scattergl\":[{\"type\":\"scattergl\",\"marker\":{\"colorbar\":{\"outlinewidth\":0,\"ticks\":\"\"}}}],\"scatter3d\":[{\"type\":\"scatter3d\",\"line\":{\"colorbar\":{\"outlinewidth\":0,\"ticks\":\"\"}},\"marker\":{\"colorbar\":{\"outlinewidth\":0,\"ticks\":\"\"}}}],\"scattermapbox\":[{\"type\":\"scattermapbox\",\"marker\":{\"colorbar\":{\"outlinewidth\":0,\"ticks\":\"\"}}}],\"scatterternary\":[{\"type\":\"scatterternary\",\"marker\":{\"colorbar\":{\"outlinewidth\":0,\"ticks\":\"\"}}}],\"scattercarpet\":[{\"type\":\"scattercarpet\",\"marker\":{\"colorbar\":{\"outlinewidth\":0,\"ticks\":\"\"}}}],\"carpet\":[{\"aaxis\":{\"endlinecolor\":\"#2a3f5f\",\"gridcolor\":\"white\",\"linecolor\":\"white\",\"minorgridcolor\":\"white\",\"startlinecolor\":\"#2a3f5f\"},\"baxis\":{\"endlinecolor\":\"#2a3f5f\",\"gridcolor\":\"white\",\"linecolor\":\"white\",\"minorgridcolor\":\"white\",\"startlinecolor\":\"#2a3f5f\"},\"type\":\"carpet\"}],\"table\":[{\"cells\":{\"fill\":{\"color\":\"#EBF0F8\"},\"line\":{\"color\":\"white\"}},\"header\":{\"fill\":{\"color\":\"#C8D4E3\"},\"line\":{\"color\":\"white\"}},\"type\":\"table\"}],\"barpolar\":[{\"marker\":{\"line\":{\"color\":\"#E5ECF6\",\"width\":0.5},\"pattern\":{\"fillmode\":\"overlay\",\"size\":10,\"solidity\":0.2}},\"type\":\"barpolar\"}],\"pie\":[{\"automargin\":true,\"type\":\"pie\"}]},\"layout\":{\"autotypenumbers\":\"strict\",\"colorway\":[\"#636efa\",\"#EF553B\",\"#00cc96\",\"#ab63fa\",\"#FFA15A\",\"#19d3f3\",\"#FF6692\",\"#B6E880\",\"#FF97FF\",\"#FECB52\"],\"font\":{\"color\":\"#2a3f5f\"},\"hovermode\":\"closest\",\"hoverlabel\":{\"align\":\"left\"},\"paper_bgcolor\":\"white\",\"plot_bgcolor\":\"#E5ECF6\",\"polar\":{\"bgcolor\":\"#E5ECF6\",\"angularaxis\":{\"gridcolor\":\"white\",\"linecolor\":\"white\",\"ticks\":\"\"},\"radialaxis\":{\"gridcolor\":\"white\",\"linecolor\":\"white\",\"ticks\":\"\"}},\"ternary\":{\"bgcolor\":\"#E5ECF6\",\"aaxis\":{\"gridcolor\":\"white\",\"linecolor\":\"white\",\"ticks\":\"\"},\"baxis\":{\"gridcolor\":\"white\",\"linecolor\":\"white\",\"ticks\":\"\"},\"caxis\":{\"gridcolor\":\"white\",\"linecolor\":\"white\",\"ticks\":\"\"}},\"coloraxis\":{\"colorbar\":{\"outlinewidth\":0,\"ticks\":\"\"}},\"colorscale\":{\"sequential\":[[0.0,\"#0d0887\"],[0.1111111111111111,\"#46039f\"],[0.2222222222222222,\"#7201a8\"],[0.3333333333333333,\"#9c179e\"],[0.4444444444444444,\"#bd3786\"],[0.5555555555555556,\"#d8576b\"],[0.6666666666666666,\"#ed7953\"],[0.7777777777777778,\"#fb9f3a\"],[0.8888888888888888,\"#fdca26\"],[1.0,\"#f0f921\"]],\"sequentialminus\":[[0.0,\"#0d0887\"],[0.1111111111111111,\"#46039f\"],[0.2222222222222222,\"#7201a8\"],[0.3333333333333333,\"#9c179e\"],[0.4444444444444444,\"#bd3786\"],[0.5555555555555556,\"#d8576b\"],[0.6666666666666666,\"#ed7953\"],[0.7777777777777778,\"#fb9f3a\"],[0.8888888888888888,\"#fdca26\"],[1.0,\"#f0f921\"]],\"diverging\":[[0,\"#8e0152\"],[0.1,\"#c51b7d\"],[0.2,\"#de77ae\"],[0.3,\"#f1b6da\"],[0.4,\"#fde0ef\"],[0.5,\"#f7f7f7\"],[0.6,\"#e6f5d0\"],[0.7,\"#b8e186\"],[0.8,\"#7fbc41\"],[0.9,\"#4d9221\"],[1,\"#276419\"]]},\"xaxis\":{\"gridcolor\":\"white\",\"linecolor\":\"white\",\"ticks\":\"\",\"title\":{\"standoff\":15},\"zerolinecolor\":\"white\",\"automargin\":true,\"zerolinewidth\":2},\"yaxis\":{\"gridcolor\":\"white\",\"linecolor\":\"white\",\"ticks\":\"\",\"title\":{\"standoff\":15},\"zerolinecolor\":\"white\",\"automargin\":true,\"zerolinewidth\":2},\"scene\":{\"xaxis\":{\"backgroundcolor\":\"#E5ECF6\",\"gridcolor\":\"white\",\"linecolor\":\"white\",\"showbackground\":true,\"ticks\":\"\",\"zerolinecolor\":\"white\",\"gridwidth\":2},\"yaxis\":{\"backgroundcolor\":\"#E5ECF6\",\"gridcolor\":\"white\",\"linecolor\":\"white\",\"showbackground\":true,\"ticks\":\"\",\"zerolinecolor\":\"white\",\"gridwidth\":2},\"zaxis\":{\"backgroundcolor\":\"#E5ECF6\",\"gridcolor\":\"white\",\"linecolor\":\"white\",\"showbackground\":true,\"ticks\":\"\",\"zerolinecolor\":\"white\",\"gridwidth\":2}},\"shapedefaults\":{\"line\":{\"color\":\"#2a3f5f\"}},\"annotationdefaults\":{\"arrowcolor\":\"#2a3f5f\",\"arrowhead\":0,\"arrowwidth\":1},\"geo\":{\"bgcolor\":\"white\",\"landcolor\":\"#E5ECF6\",\"subunitcolor\":\"white\",\"showland\":true,\"showlakes\":true,\"lakecolor\":\"white\"},\"title\":{\"x\":0.05},\"mapbox\":{\"style\":\"light\"}}},\"xaxis\":{\"anchor\":\"y\",\"domain\":[0.0,1.0],\"title\":{\"text\":\"GL_PERIOD\"}},\"yaxis\":{\"anchor\":\"x\",\"domain\":[0.0,1.0],\"title\":{\"text\":\"SHORTAGE_COST_SPREAD\"}},\"legend\":{\"tracegroupgap\":0},\"margin\":{\"t\":60},\"barmode\":\"relative\"},                        {\"responsive\": true}                    ).then(function(){\n",
       "                            \n",
       "var gd = document.getElementById('a6033303-9234-4d0b-82ca-e44c0d641edc');\n",
       "var x = new MutationObserver(function (mutations, observer) {{\n",
       "        var display = window.getComputedStyle(gd).display;\n",
       "        if (!display || display === 'none') {{\n",
       "            console.log([gd, 'removed!']);\n",
       "            Plotly.purge(gd);\n",
       "            observer.disconnect();\n",
       "        }}\n",
       "}});\n",
       "\n",
       "// Listen for the removal of the full notebook cells\n",
       "var notebookContainer = gd.closest('#notebook-container');\n",
       "if (notebookContainer) {{\n",
       "    x.observe(notebookContainer, {childList: true});\n",
       "}}\n",
       "\n",
       "// Listen for the clearing of the current output cell\n",
       "var outputEl = gd.closest('.output');\n",
       "if (outputEl) {{\n",
       "    x.observe(outputEl, {childList: true});\n",
       "}}\n",
       "\n",
       "                        })                };                });            </script>        </div>"
      ]
     },
     "metadata": {},
     "output_type": "display_data"
    }
   ],
   "source": [
    "px.bar(agg.reset_index(),group_level,'SHORTAGE_COST_SPREAD')"
   ]
  },
  {
   "cell_type": "code",
   "execution_count": 61,
   "id": "534ad13f-c081-4f12-a11a-298c46faee57",
   "metadata": {},
   "outputs": [
    {
     "data": {
      "application/vnd.plotly.v1+json": {
       "config": {
        "plotlyServerURL": "https://plot.ly"
       },
       "data": [
        {
         "alignmentgroup": "True",
         "hovertemplate": "GL_PERIOD=%{x}<br>SHORTAGE_COST_SPREAD=%{y}<extra></extra>",
         "legendgroup": "",
         "marker": {
          "color": "#636efa",
          "pattern": {
           "shape": ""
          }
         },
         "name": "",
         "offsetgroup": "",
         "orientation": "v",
         "showlegend": false,
         "textposition": "auto",
         "type": "bar",
         "x": [
          "2022-01-31T00:00:00",
          "2022-02-28T00:00:00",
          "2022-03-31T00:00:00",
          "2022-04-30T00:00:00",
          "2022-05-31T00:00:00",
          "2022-06-30T00:00:00",
          "2022-07-31T00:00:00",
          "2022-08-31T00:00:00",
          "2022-09-30T00:00:00",
          "2022-10-31T00:00:00",
          "2022-11-30T00:00:00",
          "2022-12-31T00:00:00",
          "2023-01-31T00:00:00",
          "2023-02-28T00:00:00",
          "2023-03-31T00:00:00",
          "2023-04-30T00:00:00",
          "2023-05-31T00:00:00",
          "2023-06-30T00:00:00",
          "2023-07-31T00:00:00",
          "2023-08-31T00:00:00",
          "2023-09-30T00:00:00",
          "2023-10-31T00:00:00",
          "2023-11-30T00:00:00"
         ],
         "xaxis": "x",
         "y": [
          407034.31,
          435049.48,
          490933.37,
          406622.33,
          424355.92,
          400368.5,
          196283.03,
          776668.4299999999,
          767145.78,
          603601.02,
          453390.32,
          403939.83,
          453684.71,
          524836.2,
          479744.33,
          611736.3099999999,
          594312.13,
          977763.1900000001,
          502679.19,
          411623.13,
          559059.5599999999,
          654864.02,
          1409363.4000000001
         ],
         "yaxis": "y"
        }
       ],
       "layout": {
        "autosize": true,
        "barmode": "relative",
        "legend": {
         "tracegroupgap": 0
        },
        "margin": {
         "t": 60
        },
        "template": {
         "data": {
          "bar": [
           {
            "error_x": {
             "color": "#2a3f5f"
            },
            "error_y": {
             "color": "#2a3f5f"
            },
            "marker": {
             "line": {
              "color": "#E5ECF6",
              "width": 0.5
             },
             "pattern": {
              "fillmode": "overlay",
              "size": 10,
              "solidity": 0.2
             }
            },
            "type": "bar"
           }
          ],
          "barpolar": [
           {
            "marker": {
             "line": {
              "color": "#E5ECF6",
              "width": 0.5
             },
             "pattern": {
              "fillmode": "overlay",
              "size": 10,
              "solidity": 0.2
             }
            },
            "type": "barpolar"
           }
          ],
          "carpet": [
           {
            "aaxis": {
             "endlinecolor": "#2a3f5f",
             "gridcolor": "white",
             "linecolor": "white",
             "minorgridcolor": "white",
             "startlinecolor": "#2a3f5f"
            },
            "baxis": {
             "endlinecolor": "#2a3f5f",
             "gridcolor": "white",
             "linecolor": "white",
             "minorgridcolor": "white",
             "startlinecolor": "#2a3f5f"
            },
            "type": "carpet"
           }
          ],
          "choropleth": [
           {
            "colorbar": {
             "outlinewidth": 0,
             "ticks": ""
            },
            "type": "choropleth"
           }
          ],
          "contour": [
           {
            "colorbar": {
             "outlinewidth": 0,
             "ticks": ""
            },
            "colorscale": [
             [
              0,
              "#0d0887"
             ],
             [
              0.1111111111111111,
              "#46039f"
             ],
             [
              0.2222222222222222,
              "#7201a8"
             ],
             [
              0.3333333333333333,
              "#9c179e"
             ],
             [
              0.4444444444444444,
              "#bd3786"
             ],
             [
              0.5555555555555556,
              "#d8576b"
             ],
             [
              0.6666666666666666,
              "#ed7953"
             ],
             [
              0.7777777777777778,
              "#fb9f3a"
             ],
             [
              0.8888888888888888,
              "#fdca26"
             ],
             [
              1,
              "#f0f921"
             ]
            ],
            "type": "contour"
           }
          ],
          "contourcarpet": [
           {
            "colorbar": {
             "outlinewidth": 0,
             "ticks": ""
            },
            "type": "contourcarpet"
           }
          ],
          "heatmap": [
           {
            "colorbar": {
             "outlinewidth": 0,
             "ticks": ""
            },
            "colorscale": [
             [
              0,
              "#0d0887"
             ],
             [
              0.1111111111111111,
              "#46039f"
             ],
             [
              0.2222222222222222,
              "#7201a8"
             ],
             [
              0.3333333333333333,
              "#9c179e"
             ],
             [
              0.4444444444444444,
              "#bd3786"
             ],
             [
              0.5555555555555556,
              "#d8576b"
             ],
             [
              0.6666666666666666,
              "#ed7953"
             ],
             [
              0.7777777777777778,
              "#fb9f3a"
             ],
             [
              0.8888888888888888,
              "#fdca26"
             ],
             [
              1,
              "#f0f921"
             ]
            ],
            "type": "heatmap"
           }
          ],
          "heatmapgl": [
           {
            "colorbar": {
             "outlinewidth": 0,
             "ticks": ""
            },
            "colorscale": [
             [
              0,
              "#0d0887"
             ],
             [
              0.1111111111111111,
              "#46039f"
             ],
             [
              0.2222222222222222,
              "#7201a8"
             ],
             [
              0.3333333333333333,
              "#9c179e"
             ],
             [
              0.4444444444444444,
              "#bd3786"
             ],
             [
              0.5555555555555556,
              "#d8576b"
             ],
             [
              0.6666666666666666,
              "#ed7953"
             ],
             [
              0.7777777777777778,
              "#fb9f3a"
             ],
             [
              0.8888888888888888,
              "#fdca26"
             ],
             [
              1,
              "#f0f921"
             ]
            ],
            "type": "heatmapgl"
           }
          ],
          "histogram": [
           {
            "marker": {
             "pattern": {
              "fillmode": "overlay",
              "size": 10,
              "solidity": 0.2
             }
            },
            "type": "histogram"
           }
          ],
          "histogram2d": [
           {
            "colorbar": {
             "outlinewidth": 0,
             "ticks": ""
            },
            "colorscale": [
             [
              0,
              "#0d0887"
             ],
             [
              0.1111111111111111,
              "#46039f"
             ],
             [
              0.2222222222222222,
              "#7201a8"
             ],
             [
              0.3333333333333333,
              "#9c179e"
             ],
             [
              0.4444444444444444,
              "#bd3786"
             ],
             [
              0.5555555555555556,
              "#d8576b"
             ],
             [
              0.6666666666666666,
              "#ed7953"
             ],
             [
              0.7777777777777778,
              "#fb9f3a"
             ],
             [
              0.8888888888888888,
              "#fdca26"
             ],
             [
              1,
              "#f0f921"
             ]
            ],
            "type": "histogram2d"
           }
          ],
          "histogram2dcontour": [
           {
            "colorbar": {
             "outlinewidth": 0,
             "ticks": ""
            },
            "colorscale": [
             [
              0,
              "#0d0887"
             ],
             [
              0.1111111111111111,
              "#46039f"
             ],
             [
              0.2222222222222222,
              "#7201a8"
             ],
             [
              0.3333333333333333,
              "#9c179e"
             ],
             [
              0.4444444444444444,
              "#bd3786"
             ],
             [
              0.5555555555555556,
              "#d8576b"
             ],
             [
              0.6666666666666666,
              "#ed7953"
             ],
             [
              0.7777777777777778,
              "#fb9f3a"
             ],
             [
              0.8888888888888888,
              "#fdca26"
             ],
             [
              1,
              "#f0f921"
             ]
            ],
            "type": "histogram2dcontour"
           }
          ],
          "mesh3d": [
           {
            "colorbar": {
             "outlinewidth": 0,
             "ticks": ""
            },
            "type": "mesh3d"
           }
          ],
          "parcoords": [
           {
            "line": {
             "colorbar": {
              "outlinewidth": 0,
              "ticks": ""
             }
            },
            "type": "parcoords"
           }
          ],
          "pie": [
           {
            "automargin": true,
            "type": "pie"
           }
          ],
          "scatter": [
           {
            "fillpattern": {
             "fillmode": "overlay",
             "size": 10,
             "solidity": 0.2
            },
            "type": "scatter"
           }
          ],
          "scatter3d": [
           {
            "line": {
             "colorbar": {
              "outlinewidth": 0,
              "ticks": ""
             }
            },
            "marker": {
             "colorbar": {
              "outlinewidth": 0,
              "ticks": ""
             }
            },
            "type": "scatter3d"
           }
          ],
          "scattercarpet": [
           {
            "marker": {
             "colorbar": {
              "outlinewidth": 0,
              "ticks": ""
             }
            },
            "type": "scattercarpet"
           }
          ],
          "scattergeo": [
           {
            "marker": {
             "colorbar": {
              "outlinewidth": 0,
              "ticks": ""
             }
            },
            "type": "scattergeo"
           }
          ],
          "scattergl": [
           {
            "marker": {
             "colorbar": {
              "outlinewidth": 0,
              "ticks": ""
             }
            },
            "type": "scattergl"
           }
          ],
          "scattermapbox": [
           {
            "marker": {
             "colorbar": {
              "outlinewidth": 0,
              "ticks": ""
             }
            },
            "type": "scattermapbox"
           }
          ],
          "scatterpolar": [
           {
            "marker": {
             "colorbar": {
              "outlinewidth": 0,
              "ticks": ""
             }
            },
            "type": "scatterpolar"
           }
          ],
          "scatterpolargl": [
           {
            "marker": {
             "colorbar": {
              "outlinewidth": 0,
              "ticks": ""
             }
            },
            "type": "scatterpolargl"
           }
          ],
          "scatterternary": [
           {
            "marker": {
             "colorbar": {
              "outlinewidth": 0,
              "ticks": ""
             }
            },
            "type": "scatterternary"
           }
          ],
          "surface": [
           {
            "colorbar": {
             "outlinewidth": 0,
             "ticks": ""
            },
            "colorscale": [
             [
              0,
              "#0d0887"
             ],
             [
              0.1111111111111111,
              "#46039f"
             ],
             [
              0.2222222222222222,
              "#7201a8"
             ],
             [
              0.3333333333333333,
              "#9c179e"
             ],
             [
              0.4444444444444444,
              "#bd3786"
             ],
             [
              0.5555555555555556,
              "#d8576b"
             ],
             [
              0.6666666666666666,
              "#ed7953"
             ],
             [
              0.7777777777777778,
              "#fb9f3a"
             ],
             [
              0.8888888888888888,
              "#fdca26"
             ],
             [
              1,
              "#f0f921"
             ]
            ],
            "type": "surface"
           }
          ],
          "table": [
           {
            "cells": {
             "fill": {
              "color": "#EBF0F8"
             },
             "line": {
              "color": "white"
             }
            },
            "header": {
             "fill": {
              "color": "#C8D4E3"
             },
             "line": {
              "color": "white"
             }
            },
            "type": "table"
           }
          ]
         },
         "layout": {
          "annotationdefaults": {
           "arrowcolor": "#2a3f5f",
           "arrowhead": 0,
           "arrowwidth": 1
          },
          "autotypenumbers": "strict",
          "coloraxis": {
           "colorbar": {
            "outlinewidth": 0,
            "ticks": ""
           }
          },
          "colorscale": {
           "diverging": [
            [
             0,
             "#8e0152"
            ],
            [
             0.1,
             "#c51b7d"
            ],
            [
             0.2,
             "#de77ae"
            ],
            [
             0.3,
             "#f1b6da"
            ],
            [
             0.4,
             "#fde0ef"
            ],
            [
             0.5,
             "#f7f7f7"
            ],
            [
             0.6,
             "#e6f5d0"
            ],
            [
             0.7,
             "#b8e186"
            ],
            [
             0.8,
             "#7fbc41"
            ],
            [
             0.9,
             "#4d9221"
            ],
            [
             1,
             "#276419"
            ]
           ],
           "sequential": [
            [
             0,
             "#0d0887"
            ],
            [
             0.1111111111111111,
             "#46039f"
            ],
            [
             0.2222222222222222,
             "#7201a8"
            ],
            [
             0.3333333333333333,
             "#9c179e"
            ],
            [
             0.4444444444444444,
             "#bd3786"
            ],
            [
             0.5555555555555556,
             "#d8576b"
            ],
            [
             0.6666666666666666,
             "#ed7953"
            ],
            [
             0.7777777777777778,
             "#fb9f3a"
            ],
            [
             0.8888888888888888,
             "#fdca26"
            ],
            [
             1,
             "#f0f921"
            ]
           ],
           "sequentialminus": [
            [
             0,
             "#0d0887"
            ],
            [
             0.1111111111111111,
             "#46039f"
            ],
            [
             0.2222222222222222,
             "#7201a8"
            ],
            [
             0.3333333333333333,
             "#9c179e"
            ],
            [
             0.4444444444444444,
             "#bd3786"
            ],
            [
             0.5555555555555556,
             "#d8576b"
            ],
            [
             0.6666666666666666,
             "#ed7953"
            ],
            [
             0.7777777777777778,
             "#fb9f3a"
            ],
            [
             0.8888888888888888,
             "#fdca26"
            ],
            [
             1,
             "#f0f921"
            ]
           ]
          },
          "colorway": [
           "#636efa",
           "#EF553B",
           "#00cc96",
           "#ab63fa",
           "#FFA15A",
           "#19d3f3",
           "#FF6692",
           "#B6E880",
           "#FF97FF",
           "#FECB52"
          ],
          "font": {
           "color": "#2a3f5f"
          },
          "geo": {
           "bgcolor": "white",
           "lakecolor": "white",
           "landcolor": "#E5ECF6",
           "showlakes": true,
           "showland": true,
           "subunitcolor": "white"
          },
          "hoverlabel": {
           "align": "left"
          },
          "hovermode": "closest",
          "mapbox": {
           "style": "light"
          },
          "paper_bgcolor": "white",
          "plot_bgcolor": "#E5ECF6",
          "polar": {
           "angularaxis": {
            "gridcolor": "white",
            "linecolor": "white",
            "ticks": ""
           },
           "bgcolor": "#E5ECF6",
           "radialaxis": {
            "gridcolor": "white",
            "linecolor": "white",
            "ticks": ""
           }
          },
          "scene": {
           "xaxis": {
            "backgroundcolor": "#E5ECF6",
            "gridcolor": "white",
            "gridwidth": 2,
            "linecolor": "white",
            "showbackground": true,
            "ticks": "",
            "zerolinecolor": "white"
           },
           "yaxis": {
            "backgroundcolor": "#E5ECF6",
            "gridcolor": "white",
            "gridwidth": 2,
            "linecolor": "white",
            "showbackground": true,
            "ticks": "",
            "zerolinecolor": "white"
           },
           "zaxis": {
            "backgroundcolor": "#E5ECF6",
            "gridcolor": "white",
            "gridwidth": 2,
            "linecolor": "white",
            "showbackground": true,
            "ticks": "",
            "zerolinecolor": "white"
           }
          },
          "shapedefaults": {
           "line": {
            "color": "#2a3f5f"
           }
          },
          "ternary": {
           "aaxis": {
            "gridcolor": "white",
            "linecolor": "white",
            "ticks": ""
           },
           "baxis": {
            "gridcolor": "white",
            "linecolor": "white",
            "ticks": ""
           },
           "bgcolor": "#E5ECF6",
           "caxis": {
            "gridcolor": "white",
            "linecolor": "white",
            "ticks": ""
           }
          },
          "title": {
           "x": 0.05
          },
          "xaxis": {
           "automargin": true,
           "gridcolor": "white",
           "linecolor": "white",
           "ticks": "",
           "title": {
            "standoff": 15
           },
           "zerolinecolor": "white",
           "zerolinewidth": 2
          },
          "yaxis": {
           "automargin": true,
           "gridcolor": "white",
           "linecolor": "white",
           "ticks": "",
           "title": {
            "standoff": 15
           },
           "zerolinecolor": "white",
           "zerolinewidth": 2
          }
         }
        },
        "xaxis": {
         "anchor": "y",
         "autorange": true,
         "domain": [
          0,
          1
         ],
         "range": [
          "2022-01-17",
          "2023-12-14"
         ],
         "title": {
          "text": "GL_PERIOD"
         },
         "type": "date"
        },
        "yaxis": {
         "anchor": "x",
         "autorange": true,
         "domain": [
          0,
          1
         ],
         "range": [
          0,
          1483540.4210526317
         ],
         "title": {
          "text": "SHORTAGE_COST_SPREAD"
         },
         "type": "linear"
        }
       }
      },
      "image/png": "[encoded data removed]",
      "text/html": [
       "<div>                            <div id=\"3e2c4fb6-1a7c-46e1-8daa-d6603bcee205\" class=\"plotly-graph-div\" style=\"height:525px; width:100%;\"></div>            <script type=\"text/javascript\">                require([\"plotly\"], function(Plotly) {                    window.PLOTLYENV=window.PLOTLYENV || {};                                    if (document.getElementById(\"3e2c4fb6-1a7c-46e1-8daa-d6603bcee205\")) {                    Plotly.newPlot(                        \"3e2c4fb6-1a7c-46e1-8daa-d6603bcee205\",                        [{\"alignmentgroup\":\"True\",\"hovertemplate\":\"GL_PERIOD=%{x}<br>SHORTAGE_COST_SPREAD=%{y}<extra></extra>\",\"legendgroup\":\"\",\"marker\":{\"color\":\"#636efa\",\"pattern\":{\"shape\":\"\"}},\"name\":\"\",\"offsetgroup\":\"\",\"orientation\":\"v\",\"showlegend\":false,\"textposition\":\"auto\",\"x\":[\"2022-01-31T00:00:00\",\"2022-02-28T00:00:00\",\"2022-03-31T00:00:00\",\"2022-04-30T00:00:00\",\"2022-05-31T00:00:00\",\"2022-06-30T00:00:00\",\"2022-07-31T00:00:00\",\"2022-08-31T00:00:00\",\"2022-09-30T00:00:00\",\"2022-10-31T00:00:00\",\"2022-11-30T00:00:00\",\"2022-12-31T00:00:00\",\"2023-01-31T00:00:00\",\"2023-02-28T00:00:00\",\"2023-03-31T00:00:00\",\"2023-04-30T00:00:00\",\"2023-05-31T00:00:00\",\"2023-06-30T00:00:00\",\"2023-07-31T00:00:00\",\"2023-08-31T00:00:00\",\"2023-09-30T00:00:00\",\"2023-10-31T00:00:00\",\"2023-11-30T00:00:00\"],\"xaxis\":\"x\",\"y\":[407034.31,435049.48,490933.37,406622.33,424355.92,400368.5,196283.03,776668.4299999999,767145.78,603601.02,453390.32,403939.83,453684.71,524836.2,479744.33,611736.3099999999,594312.13,977763.1900000001,502679.19,411623.13,559059.5599999999,654864.02,1409363.4000000001],\"yaxis\":\"y\",\"type\":\"bar\"}],                        {\"template\":{\"data\":{\"histogram2dcontour\":[{\"type\":\"histogram2dcontour\",\"colorbar\":{\"outlinewidth\":0,\"ticks\":\"\"},\"colorscale\":[[0.0,\"#0d0887\"],[0.1111111111111111,\"#46039f\"],[0.2222222222222222,\"#7201a8\"],[0.3333333333333333,\"#9c179e\"],[0.4444444444444444,\"#bd3786\"],[0.5555555555555556,\"#d8576b\"],[0.6666666666666666,\"#ed7953\"],[0.7777777777777778,\"#fb9f3a\"],[0.8888888888888888,\"#fdca26\"],[1.0,\"#f0f921\"]]}],\"choropleth\":[{\"type\":\"choropleth\",\"colorbar\":{\"outlinewidth\":0,\"ticks\":\"\"}}],\"histogram2d\":[{\"type\":\"histogram2d\",\"colorbar\":{\"outlinewidth\":0,\"ticks\":\"\"},\"colorscale\":[[0.0,\"#0d0887\"],[0.1111111111111111,\"#46039f\"],[0.2222222222222222,\"#7201a8\"],[0.3333333333333333,\"#9c179e\"],[0.4444444444444444,\"#bd3786\"],[0.5555555555555556,\"#d8576b\"],[0.6666666666666666,\"#ed7953\"],[0.7777777777777778,\"#fb9f3a\"],[0.8888888888888888,\"#fdca26\"],[1.0,\"#f0f921\"]]}],\"heatmap\":[{\"type\":\"heatmap\",\"colorbar\":{\"outlinewidth\":0,\"ticks\":\"\"},\"colorscale\":[[0.0,\"#0d0887\"],[0.1111111111111111,\"#46039f\"],[0.2222222222222222,\"#7201a8\"],[0.3333333333333333,\"#9c179e\"],[0.4444444444444444,\"#bd3786\"],[0.5555555555555556,\"#d8576b\"],[0.6666666666666666,\"#ed7953\"],[0.7777777777777778,\"#fb9f3a\"],[0.8888888888888888,\"#fdca26\"],[1.0,\"#f0f921\"]]}],\"heatmapgl\":[{\"type\":\"heatmapgl\",\"colorbar\":{\"outlinewidth\":0,\"ticks\":\"\"},\"colorscale\":[[0.0,\"#0d0887\"],[0.1111111111111111,\"#46039f\"],[0.2222222222222222,\"#7201a8\"],[0.3333333333333333,\"#9c179e\"],[0.4444444444444444,\"#bd3786\"],[0.5555555555555556,\"#d8576b\"],[0.6666666666666666,\"#ed7953\"],[0.7777777777777778,\"#fb9f3a\"],[0.8888888888888888,\"#fdca26\"],[1.0,\"#f0f921\"]]}],\"contourcarpet\":[{\"type\":\"contourcarpet\",\"colorbar\":{\"outlinewidth\":0,\"ticks\":\"\"}}],\"contour\":[{\"type\":\"contour\",\"colorbar\":{\"outlinewidth\":0,\"ticks\":\"\"},\"colorscale\":[[0.0,\"#0d0887\"],[0.1111111111111111,\"#46039f\"],[0.2222222222222222,\"#7201a8\"],[0.3333333333333333,\"#9c179e\"],[0.4444444444444444,\"#bd3786\"],[0.5555555555555556,\"#d8576b\"],[0.6666666666666666,\"#ed7953\"],[0.7777777777777778,\"#fb9f3a\"],[0.8888888888888888,\"#fdca26\"],[1.0,\"#f0f921\"]]}],\"surface\":[{\"type\":\"surface\",\"colorbar\":{\"outlinewidth\":0,\"ticks\":\"\"},\"colorscale\":[[0.0,\"#0d0887\"],[0.1111111111111111,\"#46039f\"],[0.2222222222222222,\"#7201a8\"],[0.3333333333333333,\"#9c179e\"],[0.4444444444444444,\"#bd3786\"],[0.5555555555555556,\"#d8576b\"],[0.6666666666666666,\"#ed7953\"],[0.7777777777777778,\"#fb9f3a\"],[0.8888888888888888,\"#fdca26\"],[1.0,\"#f0f921\"]]}],\"mesh3d\":[{\"type\":\"mesh3d\",\"colorbar\":{\"outlinewidth\":0,\"ticks\":\"\"}}],\"scatter\":[{\"fillpattern\":{\"fillmode\":\"overlay\",\"size\":10,\"solidity\":0.2},\"type\":\"scatter\"}],\"parcoords\":[{\"type\":\"parcoords\",\"line\":{\"colorbar\":{\"outlinewidth\":0,\"ticks\":\"\"}}}],\"scatterpolargl\":[{\"type\":\"scatterpolargl\",\"marker\":{\"colorbar\":{\"outlinewidth\":0,\"ticks\":\"\"}}}],\"bar\":[{\"error_x\":{\"color\":\"#2a3f5f\"},\"error_y\":{\"color\":\"#2a3f5f\"},\"marker\":{\"line\":{\"color\":\"#E5ECF6\",\"width\":0.5},\"pattern\":{\"fillmode\":\"overlay\",\"size\":10,\"solidity\":0.2}},\"type\":\"bar\"}],\"scattergeo\":[{\"type\":\"scattergeo\",\"marker\":{\"colorbar\":{\"outlinewidth\":0,\"ticks\":\"\"}}}],\"scatterpolar\":[{\"type\":\"scatterpolar\",\"marker\":{\"colorbar\":{\"outlinewidth\":0,\"ticks\":\"\"}}}],\"histogram\":[{\"marker\":{\"pattern\":{\"fillmode\":\"overlay\",\"size\":10,\"solidity\":0.2}},\"type\":\"histogram\"}],\"scattergl\":[{\"type\":\"scattergl\",\"marker\":{\"colorbar\":{\"outlinewidth\":0,\"ticks\":\"\"}}}],\"scatter3d\":[{\"type\":\"scatter3d\",\"line\":{\"colorbar\":{\"outlinewidth\":0,\"ticks\":\"\"}},\"marker\":{\"colorbar\":{\"outlinewidth\":0,\"ticks\":\"\"}}}],\"scattermapbox\":[{\"type\":\"scattermapbox\",\"marker\":{\"colorbar\":{\"outlinewidth\":0,\"ticks\":\"\"}}}],\"scatterternary\":[{\"type\":\"scatterternary\",\"marker\":{\"colorbar\":{\"outlinewidth\":0,\"ticks\":\"\"}}}],\"scattercarpet\":[{\"type\":\"scattercarpet\",\"marker\":{\"colorbar\":{\"outlinewidth\":0,\"ticks\":\"\"}}}],\"carpet\":[{\"aaxis\":{\"endlinecolor\":\"#2a3f5f\",\"gridcolor\":\"white\",\"linecolor\":\"white\",\"minorgridcolor\":\"white\",\"startlinecolor\":\"#2a3f5f\"},\"baxis\":{\"endlinecolor\":\"#2a3f5f\",\"gridcolor\":\"white\",\"linecolor\":\"white\",\"minorgridcolor\":\"white\",\"startlinecolor\":\"#2a3f5f\"},\"type\":\"carpet\"}],\"table\":[{\"cells\":{\"fill\":{\"color\":\"#EBF0F8\"},\"line\":{\"color\":\"white\"}},\"header\":{\"fill\":{\"color\":\"#C8D4E3\"},\"line\":{\"color\":\"white\"}},\"type\":\"table\"}],\"barpolar\":[{\"marker\":{\"line\":{\"color\":\"#E5ECF6\",\"width\":0.5},\"pattern\":{\"fillmode\":\"overlay\",\"size\":10,\"solidity\":0.2}},\"type\":\"barpolar\"}],\"pie\":[{\"automargin\":true,\"type\":\"pie\"}]},\"layout\":{\"autotypenumbers\":\"strict\",\"colorway\":[\"#636efa\",\"#EF553B\",\"#00cc96\",\"#ab63fa\",\"#FFA15A\",\"#19d3f3\",\"#FF6692\",\"#B6E880\",\"#FF97FF\",\"#FECB52\"],\"font\":{\"color\":\"#2a3f5f\"},\"hovermode\":\"closest\",\"hoverlabel\":{\"align\":\"left\"},\"paper_bgcolor\":\"white\",\"plot_bgcolor\":\"#E5ECF6\",\"polar\":{\"bgcolor\":\"#E5ECF6\",\"angularaxis\":{\"gridcolor\":\"white\",\"linecolor\":\"white\",\"ticks\":\"\"},\"radialaxis\":{\"gridcolor\":\"white\",\"linecolor\":\"white\",\"ticks\":\"\"}},\"ternary\":{\"bgcolor\":\"#E5ECF6\",\"aaxis\":{\"gridcolor\":\"white\",\"linecolor\":\"white\",\"ticks\":\"\"},\"baxis\":{\"gridcolor\":\"white\",\"linecolor\":\"white\",\"ticks\":\"\"},\"caxis\":{\"gridcolor\":\"white\",\"linecolor\":\"white\",\"ticks\":\"\"}},\"coloraxis\":{\"colorbar\":{\"outlinewidth\":0,\"ticks\":\"\"}},\"colorscale\":{\"sequential\":[[0.0,\"#0d0887\"],[0.1111111111111111,\"#46039f\"],[0.2222222222222222,\"#7201a8\"],[0.3333333333333333,\"#9c179e\"],[0.4444444444444444,\"#bd3786\"],[0.5555555555555556,\"#d8576b\"],[0.6666666666666666,\"#ed7953\"],[0.7777777777777778,\"#fb9f3a\"],[0.8888888888888888,\"#fdca26\"],[1.0,\"#f0f921\"]],\"sequentialminus\":[[0.0,\"#0d0887\"],[0.1111111111111111,\"#46039f\"],[0.2222222222222222,\"#7201a8\"],[0.3333333333333333,\"#9c179e\"],[0.4444444444444444,\"#bd3786\"],[0.5555555555555556,\"#d8576b\"],[0.6666666666666666,\"#ed7953\"],[0.7777777777777778,\"#fb9f3a\"],[0.8888888888888888,\"#fdca26\"],[1.0,\"#f0f921\"]],\"diverging\":[[0,\"#8e0152\"],[0.1,\"#c51b7d\"],[0.2,\"#de77ae\"],[0.3,\"#f1b6da\"],[0.4,\"#fde0ef\"],[0.5,\"#f7f7f7\"],[0.6,\"#e6f5d0\"],[0.7,\"#b8e186\"],[0.8,\"#7fbc41\"],[0.9,\"#4d9221\"],[1,\"#276419\"]]},\"xaxis\":{\"gridcolor\":\"white\",\"linecolor\":\"white\",\"ticks\":\"\",\"title\":{\"standoff\":15},\"zerolinecolor\":\"white\",\"automargin\":true,\"zerolinewidth\":2},\"yaxis\":{\"gridcolor\":\"white\",\"linecolor\":\"white\",\"ticks\":\"\",\"title\":{\"standoff\":15},\"zerolinecolor\":\"white\",\"automargin\":true,\"zerolinewidth\":2},\"scene\":{\"xaxis\":{\"backgroundcolor\":\"#E5ECF6\",\"gridcolor\":\"white\",\"linecolor\":\"white\",\"showbackground\":true,\"ticks\":\"\",\"zerolinecolor\":\"white\",\"gridwidth\":2},\"yaxis\":{\"backgroundcolor\":\"#E5ECF6\",\"gridcolor\":\"white\",\"linecolor\":\"white\",\"showbackground\":true,\"ticks\":\"\",\"zerolinecolor\":\"white\",\"gridwidth\":2},\"zaxis\":{\"backgroundcolor\":\"#E5ECF6\",\"gridcolor\":\"white\",\"linecolor\":\"white\",\"showbackground\":true,\"ticks\":\"\",\"zerolinecolor\":\"white\",\"gridwidth\":2}},\"shapedefaults\":{\"line\":{\"color\":\"#2a3f5f\"}},\"annotationdefaults\":{\"arrowcolor\":\"#2a3f5f\",\"arrowhead\":0,\"arrowwidth\":1},\"geo\":{\"bgcolor\":\"white\",\"landcolor\":\"#E5ECF6\",\"subunitcolor\":\"white\",\"showland\":true,\"showlakes\":true,\"lakecolor\":\"white\"},\"title\":{\"x\":0.05},\"mapbox\":{\"style\":\"light\"}}},\"xaxis\":{\"anchor\":\"y\",\"domain\":[0.0,1.0],\"title\":{\"text\":\"GL_PERIOD\"}},\"yaxis\":{\"anchor\":\"x\",\"domain\":[0.0,1.0],\"title\":{\"text\":\"SHORTAGE_COST_SPREAD\"}},\"legend\":{\"tracegroupgap\":0},\"margin\":{\"t\":60},\"barmode\":\"relative\"},                        {\"responsive\": true}                    ).then(function(){\n",
       "                            \n",
       "var gd = document.getElementById('3e2c4fb6-1a7c-46e1-8daa-d6603bcee205');\n",
       "var x = new MutationObserver(function (mutations, observer) {{\n",
       "        var display = window.getComputedStyle(gd).display;\n",
       "        if (!display || display === 'none') {{\n",
       "            console.log([gd, 'removed!']);\n",
       "            Plotly.purge(gd);\n",
       "            observer.disconnect();\n",
       "        }}\n",
       "}});\n",
       "\n",
       "// Listen for the removal of the full notebook cells\n",
       "var notebookContainer = gd.closest('#notebook-container');\n",
       "if (notebookContainer) {{\n",
       "    x.observe(notebookContainer, {childList: true});\n",
       "}}\n",
       "\n",
       "// Listen for the clearing of the current output cell\n",
       "var outputEl = gd.closest('.output');\n",
       "if (outputEl) {{\n",
       "    x.observe(outputEl, {childList: true});\n",
       "}}\n",
       "\n",
       "                        })                };                });            </script>        </div>"
      ]
     },
     "metadata": {},
     "output_type": "display_data"
    }
   ],
   "source": [
    "px.bar(agg.resample('').sum().reset_index(),group_level,'SHORTAGE_COST_SPREAD')"
   ]
  },
  {
   "cell_type": "code",
   "execution_count": 30,
   "id": "1e9b40e9-aab6-46f9-b7bd-ec6fae09d712",
   "metadata": {},
   "outputs": [],
   "source": [
    "# eda_slice.to_excel('../data/Shortage_Graphs.xlsx',index=False)"
   ]
  },
  {
   "cell_type": "code",
   "execution_count": 31,
   "id": "c7fe5d81-ee6b-4ecf-8021-669eca9fff15",
   "metadata": {},
   "outputs": [
    {
     "data": {
      "text/plain": [
       "(5241, 47)"
      ]
     },
     "execution_count": 31,
     "metadata": {},
     "output_type": "execute_result"
    }
   ],
   "source": [
    "eda_slice[eda_slice['Major Category']=='Sales'].shape"
   ]
  },
  {
   "cell_type": "code",
   "execution_count": 32,
   "id": "15c3c68f-ea6b-420f-9a06-042efcbe74e9",
   "metadata": {},
   "outputs": [],
   "source": [
    "# merged.head(1)"
   ]
  },
  {
   "cell_type": "code",
   "execution_count": null,
   "id": "5fab8f65-f921-412d-a524-b28f58446065",
   "metadata": {},
   "outputs": [],
   "source": [
    "# eda_slice = eda_slice[eda_slice['Major Category'] =='Manufacturing']\n",
    "# eda_slice = eda_slice[eda_slice['COMPLEXITY'] ==7.0]\n",
    "# eda_slice = eda_slice[eda_slice['SALES_REGION_ID'] =='C300'] "
   ]
  },
  {
   "cell_type": "code",
   "execution_count": null,
   "id": "cc17c78b-2d10-43ff-b904-7726e6ac97db",
   "metadata": {},
   "outputs": [],
   "source": [
    "cat_spread['SHORTAGE_COST_SPREAD'].apply(lambda x: '${:.2f}M'.format(x / 1e6))"
   ]
  },
  {
   "cell_type": "code",
   "execution_count": null,
   "id": "8778c396-de47-481c-877d-434945072d67",
   "metadata": {},
   "outputs": [],
   "source": [
    "cat_spread['SHORTAGE_COST_SPREAD'].apply(lambda x: \"$\"+str(round(x)))"
   ]
  },
  {
   "cell_type": "code",
   "execution_count": null,
   "id": "55c958e2-02b8-44c5-bc73-18bd309df3c1",
   "metadata": {},
   "outputs": [],
   "source": [
    "cat_spread[cat_spread['Major Category']=='Sales']"
   ]
  },
  {
   "cell_type": "code",
   "execution_count": null,
   "id": "0ec14e0e-76b9-4c96-8709-5179700cc143",
   "metadata": {},
   "outputs": [],
   "source": [
    "group_level = 'Major Category'"
   ]
  },
  {
   "cell_type": "code",
   "execution_count": null,
   "id": "18fb6686-0f55-4ee5-8e6f-d8b07865a4d8",
   "metadata": {},
   "outputs": [],
   "source": [
    "record = cat_spread[cat_spread['Major Category']=='Sales']"
   ]
  },
  {
   "cell_type": "code",
   "execution_count": null,
   "id": "11332b6b-bd98-4337-8cca-46b4fd60a420",
   "metadata": {},
   "outputs": [],
   "source": [
    "record[group_level].iloc[0]"
   ]
  },
  {
   "cell_type": "code",
   "execution_count": 33,
   "id": "84c430cf-d50c-4a25-aca5-e6e409771608",
   "metadata": {},
   "outputs": [
    {
     "name": "stdout",
     "output_type": "stream",
     "text": [
      "(14531, 47)\n"
     ]
    },
    {
     "data": {
      "image/png": "[encoded data removed]",
      "text/plain": [
       "<Figure size 2000x400 with 1 Axes>"
      ]
     },
     "metadata": {},
     "output_type": "display_data"
    }
   ],
   "source": [
    "dimension = 'Major Category'\n",
    "cat_spread = eda_slice.drop_duplicates([dimension,'SHORTAGE','SHORTAGE_COST_SPREAD']) # review later\n",
    "print(cat_spread.shape)\n",
    "cat_spread =  cat_spread.groupby(dimension)['SHORTAGE_COST_SPREAD'].sum().sort_values(ascending=False).reset_index()\n",
    "cat_spread['SHORTAGE_COST_SPREAD %'] = cat_spread['SHORTAGE_COST_SPREAD']/cat_spread['SHORTAGE_COST_SPREAD'].sum()*100\n",
    "cat_spread = cat_spread[cat_spread[dimension]!='missing']\n",
    "cat_spread[dimension] = cat_spread[dimension].astype(str)\n",
    "# cat_spread = cat_spread.iloc[:5]\n",
    "sns.barplot(x=dimension,y='SHORTAGE_COST_SPREAD %',data=cat_spread)\n",
    "sns.despine(left=True,right=True)\n",
    "ax = sns.barplot(x=dimension,y='SHORTAGE_COST_SPREAD %',data=cat_spread)\n",
    "ax.set_yticklabels([])\n",
    "for i, v in enumerate(cat_spread['SHORTAGE_COST_SPREAD %']):\n",
    "    ax.text(i, v + 0.5, str(round(v,2))+\"%\", ha='center',fontsize ='x-large') "
   ]
  },
  {
   "cell_type": "code",
   "execution_count": null,
   "id": "36d2e6d0-fc2a-4141-9b03-a9db1f24c3ec",
   "metadata": {},
   "outputs": [],
   "source": [
    "111.2.formatt('$%{text:,.2s}')"
   ]
  },
  {
   "cell_type": "code",
   "execution_count": null,
   "id": "bfdde39a-f392-482a-ad05-273638ff45f6",
   "metadata": {},
   "outputs": [],
   "source": [
    "cat_spread"
   ]
  },
  {
   "cell_type": "code",
   "execution_count": null,
   "id": "f9bea7f3-6bcf-4979-a0fb-8dac13801646",
   "metadata": {
    "tags": []
   },
   "outputs": [],
   "source": [
    "print(eda_slice.shape)\n",
    "cat_count = eda_slice.drop_duplicates(['UID','REASON'])\n",
    "print(cat_count.shape)\n",
    "cat_count =  cat_count.groupby(dimension)['UID'].count().sort_values(ascending=False).reset_index() \n",
    "cat_count = cat_count[cat_count[dimension]!='missing']\n",
    "cat_count[dimension] = cat_count[dimension].astype(str)\n",
    "cat_count = cat_count.iloc[:15]\n",
    "cat_count"
   ]
  },
  {
   "cell_type": "code",
   "execution_count": null,
   "id": "3309c376-14af-4798-a659-49dcc67e2c68",
   "metadata": {},
   "outputs": [],
   "source": [
    "merged['SHORTAGE_COST_SPREAD']"
   ]
  },
  {
   "cell_type": "code",
   "execution_count": null,
   "id": "b72e63a2-3d6a-4dc4-9cf8-f2a45c176f45",
   "metadata": {},
   "outputs": [],
   "source": [
    "df1 = merged[['SHORTAGE','ORIGINAL_JOB_NUM', 'REASON', 'PIECEMARK','SHORTAGE_COST_SPREAD']]"
   ]
  },
  {
   "cell_type": "code",
   "execution_count": null,
   "id": "e5d0f133-2a35-41f4-b0dc-08ef98600011",
   "metadata": {},
   "outputs": [],
   "source": [
    "df1.groupby(['SHORTAGE','ORIGINAL_JOB_NUM', 'REASON', 'PIECEMARK'])['SHORTAGE_COST_SPREAD'].nunique().sort_values()"
   ]
  },
  {
   "cell_type": "code",
   "execution_count": null,
   "id": "c8e2bd28-7778-41ef-9928-57aa1e22fc11",
   "metadata": {},
   "outputs": [],
   "source": [
    "claims['SHORTAGE_COST_SPREAD'].describe()"
   ]
  },
  {
   "cell_type": "code",
   "execution_count": null,
   "id": "1222c66c-21c7-423d-8d95-c2b141e080ae",
   "metadata": {},
   "outputs": [],
   "source": [
    "claims['CUSTOMER_NAME'].nunique()"
   ]
  },
  {
   "cell_type": "code",
   "execution_count": null,
   "id": "ce6d0f7a-107c-4700-a4a2-4f0009200b5f",
   "metadata": {},
   "outputs": [],
   "source": []
  }
 ],
 "metadata": {
  "kernelspec": {
   "display_name": "Python 3 (ipykernel)",
   "language": "python",
   "name": "python3"
  },
  "language_info": {
   "codemirror_mode": {
    "name": "ipython",
    "version": 3
   },
   "file_extension": ".py",
   "mimetype": "text/x-python",
   "name": "python",
   "nbconvert_exporter": "python",
   "pygments_lexer": "ipython3",
   "version": "3.9.13"
  }
 },
 "nbformat": 4,
 "nbformat_minor": 5
}
